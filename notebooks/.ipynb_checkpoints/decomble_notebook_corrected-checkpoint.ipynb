{
 "cells": [
  {
   "cell_type": "markdown",
   "id": "714fd130",
   "metadata": {},
   "source": [
    "# Analyse du dataset : Review de Produit (Modularisation)"
   ]
  },
  {
   "cell_type": "markdown",
   "id": "386c74cc",
   "metadata": {},
   "source": [
    "Auteur : Nathan Leblond & Simon Decomble"
   ]
  },
  {
   "cell_type": "markdown",
   "id": "a222adb5",
   "metadata": {},
   "source": [
    "## Importations"
   ]
  },
  {
   "cell_type": "code",
   "execution_count": 1,
   "id": "07298033",
   "metadata": {},
   "outputs": [],
   "source": [
    "import numpy as np\n",
    "import pandas as pd\n",
    "import seaborn as sns\n",
    "from sklearn.model_selection import train_test_split, cross_val_score\n",
    "from sklearn.ensemble import RandomForestClassifier\n",
    "from tqdm import tqdm\n",
    "from sklearn.feature_extraction.text import TfidfVectorizer\n",
    "from sklearn.metrics import precision_recall_fscore_support, plot_confusion_matrix, roc_curve, auc\n",
    "from joblib import dump, load\n",
    "import matplotlib.pyplot as plt\n",
    "import sys"
   ]
  },
  {
   "cell_type": "code",
   "execution_count": 2,
   "id": "6312258a",
   "metadata": {},
   "outputs": [],
   "source": [
    "sys.path.append(\"..\")\n",
    "from review_project import review_relevance as revrel"
   ]
  },
  {
   "cell_type": "code",
   "execution_count": 3,
   "id": "ebd90b52",
   "metadata": {},
   "outputs": [],
   "source": [
    "data = pd.read_csv('../data/data.csv')"
   ]
  },
  {
   "cell_type": "code",
   "execution_count": 4,
   "id": "64055089",
   "metadata": {},
   "outputs": [],
   "source": [
    "df = data.copy().drop([\"Unnamed: 0\", \"ID\"], axis=1)"
   ]
  },
  {
   "cell_type": "markdown",
   "id": "3ebcd0bf",
   "metadata": {},
   "source": [
    "## Première observation des données"
   ]
  },
  {
   "cell_type": "code",
   "execution_count": 5,
   "id": "a8a015a4",
   "metadata": {},
   "outputs": [
    {
     "data": {
      "text/html": [
       "<div>\n",
       "<style scoped>\n",
       "    .dataframe tbody tr th:only-of-type {\n",
       "        vertical-align: middle;\n",
       "    }\n",
       "\n",
       "    .dataframe tbody tr th {\n",
       "        vertical-align: top;\n",
       "    }\n",
       "\n",
       "    .dataframe thead th {\n",
       "        text-align: right;\n",
       "    }\n",
       "</style>\n",
       "<table border=\"1\" class=\"dataframe\">\n",
       "  <thead>\n",
       "    <tr style=\"text-align: right;\">\n",
       "      <th></th>\n",
       "      <th>review_content</th>\n",
       "      <th>review_title</th>\n",
       "      <th>review_stars</th>\n",
       "      <th>product</th>\n",
       "      <th>Target</th>\n",
       "    </tr>\n",
       "  </thead>\n",
       "  <tbody>\n",
       "    <tr>\n",
       "      <th>0</th>\n",
       "      <td>En appelant un acheteur pour demander si l'écr...</td>\n",
       "      <td>La Police s'inscrit en acheteur privé sur Pric...</td>\n",
       "      <td>5</td>\n",
       "      <td>2fbb619e3606f9b7c213e858a109cda771aa2c47ce50d5...</td>\n",
       "      <td>0</td>\n",
       "    </tr>\n",
       "    <tr>\n",
       "      <th>1</th>\n",
       "      <td>Alors, là, on a affaire au plus grand Navet ja...</td>\n",
       "      <td>Chef D'Oeuvre Absolu en vue...</td>\n",
       "      <td>5</td>\n",
       "      <td>7b56d9d378d9e999d293f301ac43d044cd7b4786d09afb...</td>\n",
       "      <td>1</td>\n",
       "    </tr>\n",
       "    <tr>\n",
       "      <th>2</th>\n",
       "      <td>Effet garanti sur la terrase. Ils donnent immé...</td>\n",
       "      <td>Effet garanti sur la terrase. Ils donnent immé...</td>\n",
       "      <td>3</td>\n",
       "      <td>7b37bf5dcb2fafd9229897910318a7dfa11a04ca36893c...</td>\n",
       "      <td>0</td>\n",
       "    </tr>\n",
       "    <tr>\n",
       "      <th>3</th>\n",
       "      <td>Ordinateur de bureau trés bien pour quelqu'un ...</td>\n",
       "      <td>Apple Power MAC G4</td>\n",
       "      <td>3</td>\n",
       "      <td>f574512e7d2dd1dd73c7f8f804bf16f14c932c5651a01b...</td>\n",
       "      <td>1</td>\n",
       "    </tr>\n",
       "    <tr>\n",
       "      <th>4</th>\n",
       "      <td>Ma fille adore, elle n'en n'était pas sûre à l...</td>\n",
       "      <td>Comme Hermione</td>\n",
       "      <td>5</td>\n",
       "      <td>a1a58f0f3a35a164fa14bff9e2c1ca8c1202c31499faa1...</td>\n",
       "      <td>1</td>\n",
       "    </tr>\n",
       "  </tbody>\n",
       "</table>\n",
       "</div>"
      ],
      "text/plain": [
       "                                      review_content  \\\n",
       "0  En appelant un acheteur pour demander si l'écr...   \n",
       "1  Alors, là, on a affaire au plus grand Navet ja...   \n",
       "2  Effet garanti sur la terrase. Ils donnent immé...   \n",
       "3  Ordinateur de bureau trés bien pour quelqu'un ...   \n",
       "4  Ma fille adore, elle n'en n'était pas sûre à l...   \n",
       "\n",
       "                                        review_title  review_stars  \\\n",
       "0  La Police s'inscrit en acheteur privé sur Pric...             5   \n",
       "1                     Chef D'Oeuvre Absolu en vue...             5   \n",
       "2  Effet garanti sur la terrase. Ils donnent immé...             3   \n",
       "3                                 Apple Power MAC G4             3   \n",
       "4                                     Comme Hermione             5   \n",
       "\n",
       "                                             product  Target  \n",
       "0  2fbb619e3606f9b7c213e858a109cda771aa2c47ce50d5...       0  \n",
       "1  7b56d9d378d9e999d293f301ac43d044cd7b4786d09afb...       1  \n",
       "2  7b37bf5dcb2fafd9229897910318a7dfa11a04ca36893c...       0  \n",
       "3  f574512e7d2dd1dd73c7f8f804bf16f14c932c5651a01b...       1  \n",
       "4  a1a58f0f3a35a164fa14bff9e2c1ca8c1202c31499faa1...       1  "
      ]
     },
     "execution_count": 5,
     "metadata": {},
     "output_type": "execute_result"
    }
   ],
   "source": [
    "df.head()"
   ]
  },
  {
   "cell_type": "code",
   "execution_count": 6,
   "id": "bfff41b2",
   "metadata": {},
   "outputs": [
    {
     "data": {
      "text/html": [
       "<div>\n",
       "<style scoped>\n",
       "    .dataframe tbody tr th:only-of-type {\n",
       "        vertical-align: middle;\n",
       "    }\n",
       "\n",
       "    .dataframe tbody tr th {\n",
       "        vertical-align: top;\n",
       "    }\n",
       "\n",
       "    .dataframe thead th {\n",
       "        text-align: right;\n",
       "    }\n",
       "</style>\n",
       "<table border=\"1\" class=\"dataframe\">\n",
       "  <thead>\n",
       "    <tr style=\"text-align: right;\">\n",
       "      <th></th>\n",
       "      <th>review_stars</th>\n",
       "      <th>Target</th>\n",
       "    </tr>\n",
       "  </thead>\n",
       "  <tbody>\n",
       "    <tr>\n",
       "      <th>count</th>\n",
       "      <td>54136.000000</td>\n",
       "      <td>54136.000000</td>\n",
       "    </tr>\n",
       "    <tr>\n",
       "      <th>mean</th>\n",
       "      <td>4.307614</td>\n",
       "      <td>0.554104</td>\n",
       "    </tr>\n",
       "    <tr>\n",
       "      <th>std</th>\n",
       "      <td>1.151339</td>\n",
       "      <td>0.497069</td>\n",
       "    </tr>\n",
       "    <tr>\n",
       "      <th>min</th>\n",
       "      <td>1.000000</td>\n",
       "      <td>0.000000</td>\n",
       "    </tr>\n",
       "    <tr>\n",
       "      <th>25%</th>\n",
       "      <td>4.000000</td>\n",
       "      <td>0.000000</td>\n",
       "    </tr>\n",
       "    <tr>\n",
       "      <th>50%</th>\n",
       "      <td>5.000000</td>\n",
       "      <td>1.000000</td>\n",
       "    </tr>\n",
       "    <tr>\n",
       "      <th>75%</th>\n",
       "      <td>5.000000</td>\n",
       "      <td>1.000000</td>\n",
       "    </tr>\n",
       "    <tr>\n",
       "      <th>max</th>\n",
       "      <td>5.000000</td>\n",
       "      <td>1.000000</td>\n",
       "    </tr>\n",
       "  </tbody>\n",
       "</table>\n",
       "</div>"
      ],
      "text/plain": [
       "       review_stars        Target\n",
       "count  54136.000000  54136.000000\n",
       "mean       4.307614      0.554104\n",
       "std        1.151339      0.497069\n",
       "min        1.000000      0.000000\n",
       "25%        4.000000      0.000000\n",
       "50%        5.000000      1.000000\n",
       "75%        5.000000      1.000000\n",
       "max        5.000000      1.000000"
      ]
     },
     "execution_count": 6,
     "metadata": {},
     "output_type": "execute_result"
    }
   ],
   "source": [
    "df.describe()"
   ]
  },
  {
   "cell_type": "markdown",
   "id": "1a9b74b9",
   "metadata": {},
   "source": [
    "<font color='black'>On affiche des statistiques sur les colonnes (numérique du moins), pour avoir une idée du nombre de lignes et une première idée de la distribution : moyennes, médiane, écart-type notamment.</font>"
   ]
  },
  {
   "cell_type": "markdown",
   "id": "13baf847",
   "metadata": {},
   "source": [
    "## Analyse des données manquantes"
   ]
  },
  {
   "cell_type": "markdown",
   "id": "62291ed0",
   "metadata": {},
   "source": [
    "On regarde les colonnes où il y a des données manquantes, et combien."
   ]
  },
  {
   "cell_type": "code",
   "execution_count": 7,
   "id": "0c8ff844",
   "metadata": {},
   "outputs": [
    {
     "data": {
      "text/plain": [
       "review_content    0\n",
       "review_title      3\n",
       "review_stars      0\n",
       "product           0\n",
       "Target            0\n",
       "dtype: int64"
      ]
     },
     "execution_count": 7,
     "metadata": {},
     "output_type": "execute_result"
    }
   ],
   "source": [
    "df.isna().sum(axis=0)"
   ]
  },
  {
   "cell_type": "code",
   "execution_count": 8,
   "id": "dd297a73",
   "metadata": {},
   "outputs": [
    {
     "data": {
      "text/html": [
       "<div>\n",
       "<style scoped>\n",
       "    .dataframe tbody tr th:only-of-type {\n",
       "        vertical-align: middle;\n",
       "    }\n",
       "\n",
       "    .dataframe tbody tr th {\n",
       "        vertical-align: top;\n",
       "    }\n",
       "\n",
       "    .dataframe thead th {\n",
       "        text-align: right;\n",
       "    }\n",
       "</style>\n",
       "<table border=\"1\" class=\"dataframe\">\n",
       "  <thead>\n",
       "    <tr style=\"text-align: right;\">\n",
       "      <th></th>\n",
       "      <th>review_content</th>\n",
       "      <th>review_title</th>\n",
       "      <th>review_stars</th>\n",
       "      <th>product</th>\n",
       "      <th>Target</th>\n",
       "    </tr>\n",
       "  </thead>\n",
       "  <tbody>\n",
       "    <tr>\n",
       "      <th>22476</th>\n",
       "      <td>elle est belle mais a ce prix là il n'y a que ...</td>\n",
       "      <td>NaN</td>\n",
       "      <td>5</td>\n",
       "      <td>1dcba8c5f9cab72e5118b7733ebe69a45d8b0f828c847f...</td>\n",
       "      <td>0</td>\n",
       "    </tr>\n",
       "    <tr>\n",
       "      <th>38636</th>\n",
       "      <td>je m attendais a mieux de la pare de price min...</td>\n",
       "      <td>NaN</td>\n",
       "      <td>1</td>\n",
       "      <td>6a020b7b55a58a087cc6e601e91d6ff707fe32529d9cd1...</td>\n",
       "      <td>0</td>\n",
       "    </tr>\n",
       "    <tr>\n",
       "      <th>52784</th>\n",
       "      <td>telephone vraiment excelent!je le conseille tr...</td>\n",
       "      <td>NaN</td>\n",
       "      <td>5</td>\n",
       "      <td>46daee25cc096fcea34ad8f6fc280f897b99489bbc7995...</td>\n",
       "      <td>0</td>\n",
       "    </tr>\n",
       "  </tbody>\n",
       "</table>\n",
       "</div>"
      ],
      "text/plain": [
       "                                          review_content review_title  \\\n",
       "22476  elle est belle mais a ce prix là il n'y a que ...          NaN   \n",
       "38636  je m attendais a mieux de la pare de price min...          NaN   \n",
       "52784  telephone vraiment excelent!je le conseille tr...          NaN   \n",
       "\n",
       "       review_stars                                            product  Target  \n",
       "22476             5  1dcba8c5f9cab72e5118b7733ebe69a45d8b0f828c847f...       0  \n",
       "38636             1  6a020b7b55a58a087cc6e601e91d6ff707fe32529d9cd1...       0  \n",
       "52784             5  46daee25cc096fcea34ad8f6fc280f897b99489bbc7995...       0  "
      ]
     },
     "execution_count": 8,
     "metadata": {},
     "output_type": "execute_result"
    }
   ],
   "source": [
    "df[df.isna().any(axis=1)]"
   ]
  },
  {
   "cell_type": "markdown",
   "id": "fa92c50d",
   "metadata": {},
   "source": [
    "Comme il n'y a que 3 lignes où il y a des données manquantes et qu'il s'agit du titre, on remplace ces NaN par une chaîne de caractère vide, surtout que dans ces 3 cas, la pertinence est de 0. Ce qui peut vouloir dire que l'absence de titre peut être un indicateur de la non pertinence. Par prudence, on garde donc ces lignes."
   ]
  },
  {
   "cell_type": "code",
   "execution_count": 9,
   "id": "cb922a40",
   "metadata": {},
   "outputs": [],
   "source": [
    "df = revrel.replace_na_by_void(df)"
   ]
  },
  {
   "cell_type": "code",
   "execution_count": 10,
   "id": "55d2c773",
   "metadata": {},
   "outputs": [
    {
     "data": {
      "text/plain": [
       "review_content    0\n",
       "review_title      0\n",
       "review_stars      0\n",
       "product           0\n",
       "Target            0\n",
       "dtype: int64"
      ]
     },
     "execution_count": 10,
     "metadata": {},
     "output_type": "execute_result"
    }
   ],
   "source": [
    "df.isna().sum(axis=0)"
   ]
  },
  {
   "cell_type": "code",
   "execution_count": 13,
   "id": "92ab1126",
   "metadata": {},
   "outputs": [
    {
     "data": {
      "text/html": [
       "<div>\n",
       "<style scoped>\n",
       "    .dataframe tbody tr th:only-of-type {\n",
       "        vertical-align: middle;\n",
       "    }\n",
       "\n",
       "    .dataframe tbody tr th {\n",
       "        vertical-align: top;\n",
       "    }\n",
       "\n",
       "    .dataframe thead th {\n",
       "        text-align: right;\n",
       "    }\n",
       "</style>\n",
       "<table border=\"1\" class=\"dataframe\">\n",
       "  <thead>\n",
       "    <tr style=\"text-align: right;\">\n",
       "      <th></th>\n",
       "      <th>review_content</th>\n",
       "      <th>review_title</th>\n",
       "      <th>review_stars</th>\n",
       "      <th>product</th>\n",
       "      <th>Target</th>\n",
       "    </tr>\n",
       "  </thead>\n",
       "  <tbody>\n",
       "    <tr>\n",
       "      <th>22476</th>\n",
       "      <td>elle est belle mais a ce prix là il n'y a que ...</td>\n",
       "      <td></td>\n",
       "      <td>5</td>\n",
       "      <td>1dcba8c5f9cab72e5118b7733ebe69a45d8b0f828c847f...</td>\n",
       "      <td>0</td>\n",
       "    </tr>\n",
       "    <tr>\n",
       "      <th>38636</th>\n",
       "      <td>je m attendais a mieux de la pare de price min...</td>\n",
       "      <td></td>\n",
       "      <td>1</td>\n",
       "      <td>6a020b7b55a58a087cc6e601e91d6ff707fe32529d9cd1...</td>\n",
       "      <td>0</td>\n",
       "    </tr>\n",
       "    <tr>\n",
       "      <th>52784</th>\n",
       "      <td>telephone vraiment excelent!je le conseille tr...</td>\n",
       "      <td></td>\n",
       "      <td>5</td>\n",
       "      <td>46daee25cc096fcea34ad8f6fc280f897b99489bbc7995...</td>\n",
       "      <td>0</td>\n",
       "    </tr>\n",
       "  </tbody>\n",
       "</table>\n",
       "</div>"
      ],
      "text/plain": [
       "                                          review_content review_title  \\\n",
       "22476  elle est belle mais a ce prix là il n'y a que ...                \n",
       "38636  je m attendais a mieux de la pare de price min...                \n",
       "52784  telephone vraiment excelent!je le conseille tr...                \n",
       "\n",
       "       review_stars                                            product  Target  \n",
       "22476             5  1dcba8c5f9cab72e5118b7733ebe69a45d8b0f828c847f...       0  \n",
       "38636             1  6a020b7b55a58a087cc6e601e91d6ff707fe32529d9cd1...       0  \n",
       "52784             5  46daee25cc096fcea34ad8f6fc280f897b99489bbc7995...       0  "
      ]
     },
     "execution_count": 13,
     "metadata": {},
     "output_type": "execute_result"
    }
   ],
   "source": [
    "df.iloc[[22476, 38636, 52784]]"
   ]
  },
  {
   "cell_type": "markdown",
   "id": "d41b6c19",
   "metadata": {},
   "source": [
    "Le remplacement a été correctement effectué. Oui."
   ]
  },
  {
   "cell_type": "markdown",
   "id": "ebb507b9",
   "metadata": {},
   "source": [
    "## Analyse des features existantes"
   ]
  },
  {
   "cell_type": "markdown",
   "id": "c4ee0a80",
   "metadata": {},
   "source": [
    "### Référence du produit"
   ]
  },
  {
   "cell_type": "markdown",
   "id": "6c71599f",
   "metadata": {},
   "source": [
    "On choisit de retirer la référence du produit car cela supposerait que notre modèle se serve du produit pour estimer si une review est pertinente ou non. Certains produits peuvent probablement aggréger des commentaires non pertinents plus souvent, mais a priori la pertinence s'évalue surtout sur les commentaires laissés que sur le produit en lui-même, et ne doit idéalement pas dépendre de celui-ci (même si des corrélations peuvent exister)."
   ]
  },
  {
   "cell_type": "code",
   "execution_count": 11,
   "id": "47ac8a25",
   "metadata": {},
   "outputs": [
    {
     "ename": "NameError",
     "evalue": "name 'drop_column' is not defined",
     "output_type": "error",
     "traceback": [
      "\u001b[0;31m---------------------------------------------------------------------------\u001b[0m",
      "\u001b[0;31mNameError\u001b[0m                                 Traceback (most recent call last)",
      "\u001b[0;32m/tmp/ipykernel_12493/2947180287.py\u001b[0m in \u001b[0;36m<module>\u001b[0;34m\u001b[0m\n\u001b[0;32m----> 1\u001b[0;31m \u001b[0mdf\u001b[0m \u001b[0;34m=\u001b[0m \u001b[0mdrop_column\u001b[0m\u001b[0;34m(\u001b[0m\u001b[0mdf\u001b[0m\u001b[0;34m,\u001b[0m \u001b[0mcol_name\u001b[0m\u001b[0;34m)\u001b[0m\u001b[0;34m\u001b[0m\u001b[0;34m\u001b[0m\u001b[0m\n\u001b[0m",
      "\u001b[0;31mNameError\u001b[0m: name 'drop_column' is not defined"
     ]
    }
   ],
   "source": [
    "df = drop_column(df, col_name)"
   ]
  },
  {
   "cell_type": "markdown",
   "id": "0a7b7971",
   "metadata": {},
   "source": [
    "### Nombre d'étoiles"
   ]
  },
  {
   "cell_type": "markdown",
   "id": "ee937bfd",
   "metadata": {},
   "source": [
    "On regarde si la proportions de messages pertinents dépend du nombre d'étoiles attribuées."
   ]
  },
  {
   "cell_type": "code",
   "execution_count": 15,
   "id": "9dac031e",
   "metadata": {},
   "outputs": [
    {
     "data": {
      "text/plain": [
       "count    54136.000000\n",
       "mean         4.307614\n",
       "std          1.151339\n",
       "min          1.000000\n",
       "25%          4.000000\n",
       "50%          5.000000\n",
       "75%          5.000000\n",
       "max          5.000000\n",
       "Name: review_stars, dtype: float64"
      ]
     },
     "execution_count": 15,
     "metadata": {},
     "output_type": "execute_result"
    }
   ],
   "source": [
    "df[\"review_stars\"].describe()"
   ]
  },
  {
   "cell_type": "code",
   "execution_count": 16,
   "id": "872715d9",
   "metadata": {},
   "outputs": [],
   "source": [
    "d1 = df[[\"review_stars\", \"Target\"]]"
   ]
  },
  {
   "cell_type": "code",
   "execution_count": 17,
   "id": "e1e6f578",
   "metadata": {},
   "outputs": [
    {
     "data": {
      "text/plain": [
       "array([5, 3, 4, 1, 2])"
      ]
     },
     "execution_count": 17,
     "metadata": {},
     "output_type": "execute_result"
    }
   ],
   "source": [
    "values = d1[\"review_stars\"].unique()\n",
    "values"
   ]
  },
  {
   "cell_type": "markdown",
   "id": "33eba25f",
   "metadata": {},
   "source": [
    "Pour cela, on calcule le tableau présentant, pour chaque nombre d'étoiles attribuées, la proportion de messages pertinents (target = 1)."
   ]
  },
  {
   "cell_type": "code",
   "execution_count": 18,
   "id": "e589dc1c",
   "metadata": {},
   "outputs": [],
   "source": [
    "array = np.zeros([len(values), 2])\n",
    "\n",
    "for i, val in enumerate(sorted(values)):\n",
    "    array[i,0] = val\n",
    "    d2 = d1[d1[\"review_stars\"] == val]\n",
    "    N = d2.size\n",
    "    array[i,1] = d2[\"Target\"].sum(axis=0)/N * 100\n",
    "    \n",
    "df_rev_target = pd.DataFrame(array, columns=[\"review_stars\", \"% de Target = 1\"])"
   ]
  },
  {
   "cell_type": "code",
   "execution_count": 19,
   "id": "e9722183",
   "metadata": {},
   "outputs": [
    {
     "data": {
      "text/html": [
       "<div>\n",
       "<style scoped>\n",
       "    .dataframe tbody tr th:only-of-type {\n",
       "        vertical-align: middle;\n",
       "    }\n",
       "\n",
       "    .dataframe tbody tr th {\n",
       "        vertical-align: top;\n",
       "    }\n",
       "\n",
       "    .dataframe thead th {\n",
       "        text-align: right;\n",
       "    }\n",
       "</style>\n",
       "<table border=\"1\" class=\"dataframe\">\n",
       "  <thead>\n",
       "    <tr style=\"text-align: right;\">\n",
       "      <th></th>\n",
       "      <th>review_stars</th>\n",
       "      <th>% de Target = 1</th>\n",
       "    </tr>\n",
       "  </thead>\n",
       "  <tbody>\n",
       "    <tr>\n",
       "      <th>0</th>\n",
       "      <td>1</td>\n",
       "      <td>26.620040</td>\n",
       "    </tr>\n",
       "    <tr>\n",
       "      <th>1</th>\n",
       "      <td>2</td>\n",
       "      <td>22.939394</td>\n",
       "    </tr>\n",
       "    <tr>\n",
       "      <th>2</th>\n",
       "      <td>3</td>\n",
       "      <td>24.125874</td>\n",
       "    </tr>\n",
       "    <tr>\n",
       "      <th>3</th>\n",
       "      <td>4</td>\n",
       "      <td>28.722988</td>\n",
       "    </tr>\n",
       "    <tr>\n",
       "      <th>4</th>\n",
       "      <td>5</td>\n",
       "      <td>28.170418</td>\n",
       "    </tr>\n",
       "  </tbody>\n",
       "</table>\n",
       "</div>"
      ],
      "text/plain": [
       "   review_stars  % de Target = 1\n",
       "0             1        26.620040\n",
       "1             2        22.939394\n",
       "2             3        24.125874\n",
       "3             4        28.722988\n",
       "4             5        28.170418"
      ]
     },
     "execution_count": 19,
     "metadata": {},
     "output_type": "execute_result"
    }
   ],
   "source": [
    "df_rev_target = df_rev_target.astype({\"review_stars\":int})\n",
    "df_rev_target"
   ]
  },
  {
   "cell_type": "markdown",
   "id": "0790372c",
   "metadata": {},
   "source": [
    "A priori, comme ce pourcentage est situé autour de 25% pour chaque catégories, le nombre d'étoiles n'est pas un assez bon indicateur."
   ]
  },
  {
   "cell_type": "markdown",
   "id": "97d4ed95",
   "metadata": {},
   "source": [
    "### Features textuelles"
   ]
  },
  {
   "cell_type": "markdown",
   "id": "158a18d8",
   "metadata": {},
   "source": [
    "#### Longueur (caractères)"
   ]
  },
  {
   "cell_type": "markdown",
   "id": "45b1643e",
   "metadata": {},
   "source": [
    "A partir des textes de review et des titres, on essaye d'abord d'extraire des features syntaxiques, numériques ou catégorielles."
   ]
  },
  {
   "cell_type": "markdown",
   "id": "da79d461",
   "metadata": {},
   "source": [
    "On créé la feature \"nombre de caractères\" pour le contenu et le titre."
   ]
  },
  {
   "cell_type": "code",
   "execution_count": 20,
   "id": "805f0e1a",
   "metadata": {},
   "outputs": [],
   "source": [
    "df = revrel.create_nb_char_column(df, \"review_content\")\n",
    "df = revrel.create_nb_char_column(df, \"review_title\")"
   ]
  },
  {
   "cell_type": "code",
   "execution_count": 21,
   "id": "43de7f12",
   "metadata": {},
   "outputs": [
    {
     "data": {
      "text/html": [
       "<div>\n",
       "<style scoped>\n",
       "    .dataframe tbody tr th:only-of-type {\n",
       "        vertical-align: middle;\n",
       "    }\n",
       "\n",
       "    .dataframe tbody tr th {\n",
       "        vertical-align: top;\n",
       "    }\n",
       "\n",
       "    .dataframe thead th {\n",
       "        text-align: right;\n",
       "    }\n",
       "</style>\n",
       "<table border=\"1\" class=\"dataframe\">\n",
       "  <thead>\n",
       "    <tr style=\"text-align: right;\">\n",
       "      <th></th>\n",
       "      <th>content_nb_char</th>\n",
       "      <th>title_nb_char</th>\n",
       "    </tr>\n",
       "  </thead>\n",
       "  <tbody>\n",
       "    <tr>\n",
       "      <th>count</th>\n",
       "      <td>54136.000000</td>\n",
       "      <td>54136.000000</td>\n",
       "    </tr>\n",
       "    <tr>\n",
       "      <th>mean</th>\n",
       "      <td>172.094669</td>\n",
       "      <td>16.846941</td>\n",
       "    </tr>\n",
       "    <tr>\n",
       "      <th>std</th>\n",
       "      <td>179.109166</td>\n",
       "      <td>13.725849</td>\n",
       "    </tr>\n",
       "    <tr>\n",
       "      <th>min</th>\n",
       "      <td>1.000000</td>\n",
       "      <td>0.000000</td>\n",
       "    </tr>\n",
       "    <tr>\n",
       "      <th>25%</th>\n",
       "      <td>77.000000</td>\n",
       "      <td>8.000000</td>\n",
       "    </tr>\n",
       "    <tr>\n",
       "      <th>50%</th>\n",
       "      <td>113.000000</td>\n",
       "      <td>13.000000</td>\n",
       "    </tr>\n",
       "    <tr>\n",
       "      <th>75%</th>\n",
       "      <td>193.000000</td>\n",
       "      <td>21.000000</td>\n",
       "    </tr>\n",
       "    <tr>\n",
       "      <th>max</th>\n",
       "      <td>3377.000000</td>\n",
       "      <td>100.000000</td>\n",
       "    </tr>\n",
       "  </tbody>\n",
       "</table>\n",
       "</div>"
      ],
      "text/plain": [
       "       content_nb_char  title_nb_char\n",
       "count     54136.000000   54136.000000\n",
       "mean        172.094669      16.846941\n",
       "std         179.109166      13.725849\n",
       "min           1.000000       0.000000\n",
       "25%          77.000000       8.000000\n",
       "50%         113.000000      13.000000\n",
       "75%         193.000000      21.000000\n",
       "max        3377.000000     100.000000"
      ]
     },
     "execution_count": 21,
     "metadata": {},
     "output_type": "execute_result"
    }
   ],
   "source": [
    "df[[\"review_content_nb_char\", \"review_title_nb_char\"]].describe()"
   ]
  },
  {
   "cell_type": "markdown",
   "id": "c34b961d",
   "metadata": {},
   "source": [
    "#### Longueur (phrases)"
   ]
  },
  {
   "cell_type": "markdown",
   "id": "a23d43f0",
   "metadata": {},
   "source": [
    "On fait une fonction qui compte le nombre de phrases (span de texte délimités par . ? ou !) d'un texte."
   ]
  },
  {
   "cell_type": "markdown",
   "id": "0e8e5b11",
   "metadata": {},
   "source": [
    "On applique cette fonction à toutes les lignes, pour content et title."
   ]
  },
  {
   "cell_type": "code",
   "execution_count": 22,
   "id": "2fdaf51b",
   "metadata": {},
   "outputs": [
    {
     "data": {
      "text/html": [
       "<div>\n",
       "<style scoped>\n",
       "    .dataframe tbody tr th:only-of-type {\n",
       "        vertical-align: middle;\n",
       "    }\n",
       "\n",
       "    .dataframe tbody tr th {\n",
       "        vertical-align: top;\n",
       "    }\n",
       "\n",
       "    .dataframe thead th {\n",
       "        text-align: right;\n",
       "    }\n",
       "</style>\n",
       "<table border=\"1\" class=\"dataframe\">\n",
       "  <thead>\n",
       "    <tr style=\"text-align: right;\">\n",
       "      <th></th>\n",
       "      <th>content_nb_sentences</th>\n",
       "      <th>title_nb_sentences</th>\n",
       "    </tr>\n",
       "  </thead>\n",
       "  <tbody>\n",
       "    <tr>\n",
       "      <th>count</th>\n",
       "      <td>54136.000000</td>\n",
       "      <td>54136.000000</td>\n",
       "    </tr>\n",
       "    <tr>\n",
       "      <th>mean</th>\n",
       "      <td>2.154260</td>\n",
       "      <td>1.013078</td>\n",
       "    </tr>\n",
       "    <tr>\n",
       "      <th>std</th>\n",
       "      <td>1.811628</td>\n",
       "      <td>0.128273</td>\n",
       "    </tr>\n",
       "    <tr>\n",
       "      <th>min</th>\n",
       "      <td>1.000000</td>\n",
       "      <td>1.000000</td>\n",
       "    </tr>\n",
       "    <tr>\n",
       "      <th>25%</th>\n",
       "      <td>1.000000</td>\n",
       "      <td>1.000000</td>\n",
       "    </tr>\n",
       "    <tr>\n",
       "      <th>50%</th>\n",
       "      <td>2.000000</td>\n",
       "      <td>1.000000</td>\n",
       "    </tr>\n",
       "    <tr>\n",
       "      <th>75%</th>\n",
       "      <td>3.000000</td>\n",
       "      <td>1.000000</td>\n",
       "    </tr>\n",
       "    <tr>\n",
       "      <th>max</th>\n",
       "      <td>97.000000</td>\n",
       "      <td>6.000000</td>\n",
       "    </tr>\n",
       "  </tbody>\n",
       "</table>\n",
       "</div>"
      ],
      "text/plain": [
       "       content_nb_sentences  title_nb_sentences\n",
       "count          54136.000000        54136.000000\n",
       "mean               2.154260            1.013078\n",
       "std                1.811628            0.128273\n",
       "min                1.000000            1.000000\n",
       "25%                1.000000            1.000000\n",
       "50%                2.000000            1.000000\n",
       "75%                3.000000            1.000000\n",
       "max               97.000000            6.000000"
      ]
     },
     "execution_count": 22,
     "metadata": {},
     "output_type": "execute_result"
    }
   ],
   "source": [
    "df = revrel.create_nb_sentences_column(df, \"review_content\")\n",
    "df = revrel.create_nb_sentences_column(df, \"review_title\")\n",
    "\n",
    "df[[\"review_content_nb_sentences\", \"review_title_nb_sentences\"]].describe()"
   ]
  },
  {
   "cell_type": "markdown",
   "id": "f86c5a66",
   "metadata": {},
   "source": [
    "Exemple de review avec énorméments de phrases :"
   ]
  },
  {
   "cell_type": "code",
   "execution_count": 23,
   "id": "84859edb",
   "metadata": {},
   "outputs": [
    {
     "data": {
      "text/html": [
       "<div>\n",
       "<style scoped>\n",
       "    .dataframe tbody tr th:only-of-type {\n",
       "        vertical-align: middle;\n",
       "    }\n",
       "\n",
       "    .dataframe tbody tr th {\n",
       "        vertical-align: top;\n",
       "    }\n",
       "\n",
       "    .dataframe thead th {\n",
       "        text-align: right;\n",
       "    }\n",
       "</style>\n",
       "<table border=\"1\" class=\"dataframe\">\n",
       "  <thead>\n",
       "    <tr style=\"text-align: right;\">\n",
       "      <th></th>\n",
       "      <th>review_content</th>\n",
       "      <th>review_title</th>\n",
       "      <th>review_stars</th>\n",
       "      <th>Target</th>\n",
       "      <th>content_nb_char</th>\n",
       "      <th>title_nb_char</th>\n",
       "      <th>content_nb_sentences</th>\n",
       "      <th>title_nb_sentences</th>\n",
       "    </tr>\n",
       "  </thead>\n",
       "  <tbody>\n",
       "    <tr>\n",
       "      <th>42384</th>\n",
       "      <td>Super !Super !Super !Super !Super !Super !Supe...</td>\n",
       "      <td>Super !</td>\n",
       "      <td>5</td>\n",
       "      <td>0</td>\n",
       "      <td>679</td>\n",
       "      <td>7</td>\n",
       "      <td>97</td>\n",
       "      <td>1</td>\n",
       "    </tr>\n",
       "  </tbody>\n",
       "</table>\n",
       "</div>"
      ],
      "text/plain": [
       "                                          review_content review_title  \\\n",
       "42384  Super !Super !Super !Super !Super !Super !Supe...      Super !   \n",
       "\n",
       "       review_stars  Target  content_nb_char  title_nb_char  \\\n",
       "42384             5       0              679              7   \n",
       "\n",
       "       content_nb_sentences  title_nb_sentences  \n",
       "42384                    97                   1  "
      ]
     },
     "execution_count": 23,
     "metadata": {},
     "output_type": "execute_result"
    }
   ],
   "source": [
    "# [NLD]: Incroyable !!!\n",
    "df[df[\"review_content_nb_sentences\"] == 97]"
   ]
  },
  {
   "cell_type": "code",
   "execution_count": 24,
   "id": "78ba0ea5",
   "metadata": {},
   "outputs": [
    {
     "data": {
      "text/plain": [
       "'Super !Super !Super !Super !Super !Super !Super !Super !Super !Super !Super !Super !Super !Super !Super !Super !Super !Super !Super !Super !Super !Super !Super !Super !Super !Super !Super !Super !Super !Super !Super !Super !Super !Super !Super !Super !Super !Super !Super !Super !Super !Super !Super !Super !Super !Super !Super !Super !Super !Super !Super !Super !Super !Super !Super !Super !Super !Super !Super !Super !Super !Super !Super !Super !Super !Super !Super !Super !Super !Super !Super !Super !Super !Super !Super !Super !Super !Super !Super !Super !Super !Super !Super !Super !Super !Super !Super !Super !Super !Super !Super !Super !Super !Super !Super !Super !Super !'"
      ]
     },
     "execution_count": 24,
     "metadata": {},
     "output_type": "execute_result"
    }
   ],
   "source": [
    "df[df[\"review_content_nb_sentences\"] == 97][\"review_content\"].iloc[0]"
   ]
  },
  {
   "cell_type": "markdown",
   "id": "15249570",
   "metadata": {},
   "source": [
    "Elle n'est pas pertinente, donc cette feature peut être utile."
   ]
  },
  {
   "cell_type": "markdown",
   "id": "afbc2b5f",
   "metadata": {},
   "source": [
    "#### Ponctuation forte et faible"
   ]
  },
  {
   "cell_type": "markdown",
   "id": "083c3b38",
   "metadata": {},
   "source": [
    "On compte le nombre de symboles de ponctuation faible (\".\", \",\", \";\", \":\") et forte (\"!\", \"?\"), c'est une feature arbitraire, mais on peut imaginer que les commentaires remplis de points d'exclamation ou d'interrogation sont peu pertinents (pour cause de colère ou de troll). De même, les commentaires détaillés, avec des points, virgules, deux points etc. peuvent témoigner d'un avis développé et potentiellement pertinents.\n",
    "\n",
    "Limite : la ponctuation \"...\" qui peut être ambigue, et puisqu'on ne compte que les points, la métrique peut avoir un point faible dans ces cas-ci."
   ]
  },
  {
   "cell_type": "code",
   "execution_count": 25,
   "id": "f84872dd",
   "metadata": {},
   "outputs": [
    {
     "data": {
      "text/html": [
       "<div>\n",
       "<style scoped>\n",
       "    .dataframe tbody tr th:only-of-type {\n",
       "        vertical-align: middle;\n",
       "    }\n",
       "\n",
       "    .dataframe tbody tr th {\n",
       "        vertical-align: top;\n",
       "    }\n",
       "\n",
       "    .dataframe thead th {\n",
       "        text-align: right;\n",
       "    }\n",
       "</style>\n",
       "<table border=\"1\" class=\"dataframe\">\n",
       "  <thead>\n",
       "    <tr style=\"text-align: right;\">\n",
       "      <th></th>\n",
       "      <th>content_nb_strong_punc</th>\n",
       "      <th>title_nb_strong_punc</th>\n",
       "      <th>content_nb_weak_punc</th>\n",
       "      <th>title_nb_weak_punc</th>\n",
       "    </tr>\n",
       "  </thead>\n",
       "  <tbody>\n",
       "    <tr>\n",
       "      <th>count</th>\n",
       "      <td>54136.000000</td>\n",
       "      <td>54136.000000</td>\n",
       "      <td>54136.000000</td>\n",
       "      <td>54136.000000</td>\n",
       "    </tr>\n",
       "    <tr>\n",
       "      <th>mean</th>\n",
       "      <td>0.673120</td>\n",
       "      <td>0.185754</td>\n",
       "      <td>3.159413</td>\n",
       "      <td>0.161020</td>\n",
       "    </tr>\n",
       "    <tr>\n",
       "      <th>std</th>\n",
       "      <td>1.760624</td>\n",
       "      <td>0.701212</td>\n",
       "      <td>4.327795</td>\n",
       "      <td>0.684648</td>\n",
       "    </tr>\n",
       "    <tr>\n",
       "      <th>min</th>\n",
       "      <td>0.000000</td>\n",
       "      <td>0.000000</td>\n",
       "      <td>0.000000</td>\n",
       "      <td>0.000000</td>\n",
       "    </tr>\n",
       "    <tr>\n",
       "      <th>25%</th>\n",
       "      <td>0.000000</td>\n",
       "      <td>0.000000</td>\n",
       "      <td>1.000000</td>\n",
       "      <td>0.000000</td>\n",
       "    </tr>\n",
       "    <tr>\n",
       "      <th>50%</th>\n",
       "      <td>0.000000</td>\n",
       "      <td>0.000000</td>\n",
       "      <td>2.000000</td>\n",
       "      <td>0.000000</td>\n",
       "    </tr>\n",
       "    <tr>\n",
       "      <th>75%</th>\n",
       "      <td>1.000000</td>\n",
       "      <td>0.000000</td>\n",
       "      <td>4.000000</td>\n",
       "      <td>0.000000</td>\n",
       "    </tr>\n",
       "    <tr>\n",
       "      <th>max</th>\n",
       "      <td>101.000000</td>\n",
       "      <td>21.000000</td>\n",
       "      <td>79.000000</td>\n",
       "      <td>22.000000</td>\n",
       "    </tr>\n",
       "  </tbody>\n",
       "</table>\n",
       "</div>"
      ],
      "text/plain": [
       "       content_nb_strong_punc  title_nb_strong_punc  content_nb_weak_punc  \\\n",
       "count            54136.000000          54136.000000          54136.000000   \n",
       "mean                 0.673120              0.185754              3.159413   \n",
       "std                  1.760624              0.701212              4.327795   \n",
       "min                  0.000000              0.000000              0.000000   \n",
       "25%                  0.000000              0.000000              1.000000   \n",
       "50%                  0.000000              0.000000              2.000000   \n",
       "75%                  1.000000              0.000000              4.000000   \n",
       "max                101.000000             21.000000             79.000000   \n",
       "\n",
       "       title_nb_weak_punc  \n",
       "count        54136.000000  \n",
       "mean             0.161020  \n",
       "std              0.684648  \n",
       "min              0.000000  \n",
       "25%              0.000000  \n",
       "50%              0.000000  \n",
       "75%              0.000000  \n",
       "max             22.000000  "
      ]
     },
     "execution_count": 25,
     "metadata": {},
     "output_type": "execute_result"
    }
   ],
   "source": [
    "df = revrel.create_nb_strong_punc(df, \"review_content\")\n",
    "df = revrel.create_nb_strong_punc(df, \"review_title\")\n",
    "df = revrel.create_nb_weak_punc(df, \"review_content\")\n",
    "df = revrel.create_nb_weak_punc(df, \"revirw_title\")\n",
    "\n",
    "df[[\"review_content_nb_strong_punc\", \"review_title_nb_strong_punc\", \"review_content_nb_weak_punc\", \"review_title_nb_weak_punc\"]].describe()"
   ]
  },
  {
   "cell_type": "markdown",
   "id": "d3876590",
   "metadata": {},
   "source": [
    "#### Nombre de majuscules"
   ]
  },
  {
   "cell_type": "markdown",
   "id": "e493426a",
   "metadata": {},
   "source": [
    "[NLD]: Peut-être faire la proportion de maj sur la phrase en tant que telle ?  \n",
    "\n",
    "Bien que le nombre de majuscules puisse être corrélé au nombre de phrases (si le commentaire contient de \"vraies\" phrases), il existe des textes où ce n'est pas le cas : si l'utilisateur écrit tout en majuscule, ce qui peut révéler un manque de pertinence de son commentaire. On compte donc le nombre de caractères en majuscule."
   ]
  },
  {
   "cell_type": "markdown",
   "id": "c0810764",
   "metadata": {},
   "source": [
    "<font color='black'>Piste à explorer éventuellement pour une variante de cette métrique : proportion de majuscules dans la phrase. Ce rapport peut ajouter des informations relatives supplémentaires. Cela pourrait permettre de décorréler davantage la métrique de la longueur de la phrase.</font>"
   ]
  },
  {
   "cell_type": "code",
   "execution_count": 27,
   "id": "ec8a4707",
   "metadata": {},
   "outputs": [
    {
     "data": {
      "text/html": [
       "<div>\n",
       "<style scoped>\n",
       "    .dataframe tbody tr th:only-of-type {\n",
       "        vertical-align: middle;\n",
       "    }\n",
       "\n",
       "    .dataframe tbody tr th {\n",
       "        vertical-align: top;\n",
       "    }\n",
       "\n",
       "    .dataframe thead th {\n",
       "        text-align: right;\n",
       "    }\n",
       "</style>\n",
       "<table border=\"1\" class=\"dataframe\">\n",
       "  <thead>\n",
       "    <tr style=\"text-align: right;\">\n",
       "      <th></th>\n",
       "      <th>content_nb_upper</th>\n",
       "      <th>title_nb_upper</th>\n",
       "    </tr>\n",
       "  </thead>\n",
       "  <tbody>\n",
       "    <tr>\n",
       "      <th>count</th>\n",
       "      <td>54136.000000</td>\n",
       "      <td>54136.000000</td>\n",
       "    </tr>\n",
       "    <tr>\n",
       "      <th>mean</th>\n",
       "      <td>5.633922</td>\n",
       "      <td>1.440243</td>\n",
       "    </tr>\n",
       "    <tr>\n",
       "      <th>std</th>\n",
       "      <td>18.827586</td>\n",
       "      <td>3.839701</td>\n",
       "    </tr>\n",
       "    <tr>\n",
       "      <th>min</th>\n",
       "      <td>0.000000</td>\n",
       "      <td>0.000000</td>\n",
       "    </tr>\n",
       "    <tr>\n",
       "      <th>25%</th>\n",
       "      <td>0.000000</td>\n",
       "      <td>0.000000</td>\n",
       "    </tr>\n",
       "    <tr>\n",
       "      <th>50%</th>\n",
       "      <td>1.000000</td>\n",
       "      <td>0.000000</td>\n",
       "    </tr>\n",
       "    <tr>\n",
       "      <th>75%</th>\n",
       "      <td>4.000000</td>\n",
       "      <td>1.000000</td>\n",
       "    </tr>\n",
       "    <tr>\n",
       "      <th>max</th>\n",
       "      <td>686.000000</td>\n",
       "      <td>68.000000</td>\n",
       "    </tr>\n",
       "  </tbody>\n",
       "</table>\n",
       "</div>"
      ],
      "text/plain": [
       "       content_nb_upper  title_nb_upper\n",
       "count      54136.000000    54136.000000\n",
       "mean           5.633922        1.440243\n",
       "std           18.827586        3.839701\n",
       "min            0.000000        0.000000\n",
       "25%            0.000000        0.000000\n",
       "50%            1.000000        0.000000\n",
       "75%            4.000000        1.000000\n",
       "max          686.000000       68.000000"
      ]
     },
     "execution_count": 27,
     "metadata": {},
     "output_type": "execute_result"
    }
   ],
   "source": [
    "df[\"content_nb_upper\"] = df[\"review_content\"].map(revrel.nb_upper)\n",
    "df[\"title_nb_upper\"] = df[\"review_title\"].map(revrel.nb_upper)\n",
    "\n",
    "df[[\"content_nb_upper\", \"title_nb_upper\"]].describe()"
   ]
  },
  {
   "cell_type": "code",
   "execution_count": 28,
   "id": "c101294a",
   "metadata": {},
   "outputs": [
    {
     "data": {
      "text/plain": [
       "\"IL EXISTE PLUSIEURS FORFAITS POUR CE CONCEPT,SOIT 1X3 NUITS OU 2 X 3 NUITS OU 3 X 3 NUITS DANS DES HOTELS EN FRANCE MAIS AUSSI A L'ETRANGER, LE SEUL INCONVENIENT EST QUE DURANT CES 3 NUITS D'HOTELS,VOUS DEVEZ OBLIGATOIREMENT PRENDRE 1 PETIT DEJEUNER + SOIT 1 DEJEUNER OU 1 DINER PAR JOUR PAR PERSONNE,EN SACHANT QUE LA MOYENNE DES PRIX POUR UN PETIT DEJEUNER EST DE 7 EUROS ET QU'1 REPAS COUTE ENVIRON MINIMUM 20 EUROS PAR PERSONNE,SI VOUS Y ALLEZ A 2 CELA VOUS FAIT EN MOYENNE 40 EUROS PAR PERSONNE PAR JOUR SUR 3 JOURS,ET IL FAUT AJOUTER A CELA LES FRAIS POUR ALLER DANS CES HOTELS,FRAIS D'ESSENCE, PEAGES,OU TRAIN,CELA N'EST PAS COMPRIS DANS CE COFFRET,CELA PEUT ETRE RENTABLE SI VOUS CHOISISSEZ DES GRANDS HOTELS 3 OU 4 ETOILES,PARCE QU'UNE CHAMBRE DANS CES HOTELS COUTENT EN MOYENNE 200 EUROS A 500 EUROS LA NUIT,MAIS SI VOUS CHOISISSEZ DES HOTELS BAS DE GAMME,CELA NE SERA PAS RENTABLE.\""
      ]
     },
     "execution_count": 28,
     "metadata": {},
     "output_type": "execute_result"
    }
   ],
   "source": [
    "df[df[\"content_nb_upper\"] == 686][\"review_content\"].iloc[0]"
   ]
  },
  {
   "cell_type": "code",
   "execution_count": 29,
   "id": "76ebd1cb",
   "metadata": {},
   "outputs": [
    {
     "data": {
      "text/plain": [
       "26607    1\n",
       "Name: Target, dtype: int64"
      ]
     },
     "execution_count": 29,
     "metadata": {},
     "output_type": "execute_result"
    }
   ],
   "source": [
    "df[df[\"content_nb_upper\"] == 686][\"Target\"]"
   ]
  },
  {
   "cell_type": "markdown",
   "id": "656bb45e",
   "metadata": {},
   "source": [
    "### One Hot encoding du nombre d'étoiles"
   ]
  },
  {
   "cell_type": "markdown",
   "id": "0a89c702",
   "metadata": {},
   "source": [
    "Le nombre d'étoiles est la seule feature catégorielle, puisqu'il y a 5 catégories, on peut encoder en one hot manuellement, avant de passer aux numpy arrays.\n",
    "On créé 5 colonnes remplies de 0 et on met les 1 aux bons endroits."
   ]
  },
  {
   "cell_type": "code",
   "execution_count": 30,
   "id": "d126e52f",
   "metadata": {},
   "outputs": [],
   "source": [
    "# [NLD]: Perso j'utilise ça :  \n",
    "# [NLD]: one_hot = pd.get_dummies(prefix=\"content_length_\",data=df_enh['review_content_length'])\n",
    "# [NLD]: df_enh = df_enh.drop('review_content_length',axis = 1)\n",
    "# [NLD]: df_enh = df_enh.join(one_hot)\n",
    "\n",
    "# df[\"review_1star\"] = pd.Series(np.zeros(df.shape[0]), dtype=int)\n",
    "# df[\"review_2star\"] = pd.Series(np.zeros(df.shape[0]), dtype=int)\n",
    "# df[\"review_3star\"] = pd.Series(np.zeros(df.shape[0]), dtype=int)\n",
    "# df[\"review_4star\"] = pd.Series(np.zeros(df.shape[0]), dtype=int)\n",
    "# df[\"review_5star\"] = pd.Series(np.zeros(df.shape[0]), dtype=int)"
   ]
  },
  {
   "cell_type": "code",
   "execution_count": 31,
   "id": "bf28de3e",
   "metadata": {},
   "outputs": [],
   "source": [
    "# /!\\ long calcul (~30s)\n",
    "# for k in range(df.shape[0]):\n",
    "#     col_to_incr = \"review_\" + str(df.iloc[k][\"review_stars\"]) + \"star\"\n",
    "#     df.iloc[k, df.columns.get_indexer([col_to_incr])] = 1"
   ]
  },
  {
   "cell_type": "markdown",
   "id": "c80dd7bd",
   "metadata": {},
   "source": [
    "<font color=black>One hot alternatif moins coûteux en temps, optimisé et élégant (en suivant la proposition de Nathan):</font>"
   ]
  },
  {
   "cell_type": "code",
   "execution_count": 32,
   "id": "0f94aeab",
   "metadata": {},
   "outputs": [],
   "source": [
    "one_hot = pd.get_dummies(prefix=\"review_stars\",data=df['review_stars'])\n",
    "df = df.join(one_hot)"
   ]
  },
  {
   "cell_type": "code",
   "execution_count": 33,
   "id": "c19e0ddb",
   "metadata": {},
   "outputs": [
    {
     "data": {
      "text/html": [
       "<div>\n",
       "<style scoped>\n",
       "    .dataframe tbody tr th:only-of-type {\n",
       "        vertical-align: middle;\n",
       "    }\n",
       "\n",
       "    .dataframe tbody tr th {\n",
       "        vertical-align: top;\n",
       "    }\n",
       "\n",
       "    .dataframe thead th {\n",
       "        text-align: right;\n",
       "    }\n",
       "</style>\n",
       "<table border=\"1\" class=\"dataframe\">\n",
       "  <thead>\n",
       "    <tr style=\"text-align: right;\">\n",
       "      <th></th>\n",
       "      <th>review_content</th>\n",
       "      <th>review_title</th>\n",
       "      <th>review_stars</th>\n",
       "      <th>Target</th>\n",
       "      <th>content_nb_char</th>\n",
       "      <th>title_nb_char</th>\n",
       "      <th>content_nb_sentences</th>\n",
       "      <th>title_nb_sentences</th>\n",
       "      <th>content_nb_strong_punc</th>\n",
       "      <th>title_nb_strong_punc</th>\n",
       "      <th>content_nb_weak_punc</th>\n",
       "      <th>title_nb_weak_punc</th>\n",
       "      <th>content_nb_upper</th>\n",
       "      <th>title_nb_upper</th>\n",
       "      <th>review_stars_1</th>\n",
       "      <th>review_stars_2</th>\n",
       "      <th>review_stars_3</th>\n",
       "      <th>review_stars_4</th>\n",
       "      <th>review_stars_5</th>\n",
       "    </tr>\n",
       "  </thead>\n",
       "  <tbody>\n",
       "    <tr>\n",
       "      <th>0</th>\n",
       "      <td>En appelant un acheteur pour demander si l'écr...</td>\n",
       "      <td>La Police s'inscrit en acheteur privé sur Pric...</td>\n",
       "      <td>5</td>\n",
       "      <td>0</td>\n",
       "      <td>382</td>\n",
       "      <td>55</td>\n",
       "      <td>3</td>\n",
       "      <td>1</td>\n",
       "      <td>0</td>\n",
       "      <td>0</td>\n",
       "      <td>5</td>\n",
       "      <td>0</td>\n",
       "      <td>4</td>\n",
       "      <td>3</td>\n",
       "      <td>0</td>\n",
       "      <td>0</td>\n",
       "      <td>0</td>\n",
       "      <td>0</td>\n",
       "      <td>1</td>\n",
       "    </tr>\n",
       "    <tr>\n",
       "      <th>1</th>\n",
       "      <td>Alors, là, on a affaire au plus grand Navet ja...</td>\n",
       "      <td>Chef D'Oeuvre Absolu en vue...</td>\n",
       "      <td>5</td>\n",
       "      <td>1</td>\n",
       "      <td>1000</td>\n",
       "      <td>30</td>\n",
       "      <td>14</td>\n",
       "      <td>1</td>\n",
       "      <td>25</td>\n",
       "      <td>0</td>\n",
       "      <td>16</td>\n",
       "      <td>3</td>\n",
       "      <td>44</td>\n",
       "      <td>4</td>\n",
       "      <td>0</td>\n",
       "      <td>0</td>\n",
       "      <td>0</td>\n",
       "      <td>0</td>\n",
       "      <td>1</td>\n",
       "    </tr>\n",
       "    <tr>\n",
       "      <th>2</th>\n",
       "      <td>Effet garanti sur la terrase. Ils donnent immé...</td>\n",
       "      <td>Effet garanti sur la terrase. Ils donnent immé...</td>\n",
       "      <td>3</td>\n",
       "      <td>0</td>\n",
       "      <td>194</td>\n",
       "      <td>97</td>\n",
       "      <td>4</td>\n",
       "      <td>3</td>\n",
       "      <td>0</td>\n",
       "      <td>0</td>\n",
       "      <td>3</td>\n",
       "      <td>2</td>\n",
       "      <td>4</td>\n",
       "      <td>3</td>\n",
       "      <td>0</td>\n",
       "      <td>0</td>\n",
       "      <td>1</td>\n",
       "      <td>0</td>\n",
       "      <td>0</td>\n",
       "    </tr>\n",
       "    <tr>\n",
       "      <th>3</th>\n",
       "      <td>Ordinateur de bureau trés bien pour quelqu'un ...</td>\n",
       "      <td>Apple Power MAC G4</td>\n",
       "      <td>3</td>\n",
       "      <td>1</td>\n",
       "      <td>124</td>\n",
       "      <td>18</td>\n",
       "      <td>1</td>\n",
       "      <td>1</td>\n",
       "      <td>0</td>\n",
       "      <td>0</td>\n",
       "      <td>1</td>\n",
       "      <td>0</td>\n",
       "      <td>3</td>\n",
       "      <td>6</td>\n",
       "      <td>0</td>\n",
       "      <td>0</td>\n",
       "      <td>1</td>\n",
       "      <td>0</td>\n",
       "      <td>0</td>\n",
       "    </tr>\n",
       "    <tr>\n",
       "      <th>4</th>\n",
       "      <td>Ma fille adore, elle n'en n'était pas sûre à l...</td>\n",
       "      <td>Comme Hermione</td>\n",
       "      <td>5</td>\n",
       "      <td>1</td>\n",
       "      <td>102</td>\n",
       "      <td>14</td>\n",
       "      <td>1</td>\n",
       "      <td>1</td>\n",
       "      <td>1</td>\n",
       "      <td>0</td>\n",
       "      <td>2</td>\n",
       "      <td>0</td>\n",
       "      <td>1</td>\n",
       "      <td>2</td>\n",
       "      <td>0</td>\n",
       "      <td>0</td>\n",
       "      <td>0</td>\n",
       "      <td>0</td>\n",
       "      <td>1</td>\n",
       "    </tr>\n",
       "  </tbody>\n",
       "</table>\n",
       "</div>"
      ],
      "text/plain": [
       "                                      review_content  \\\n",
       "0  En appelant un acheteur pour demander si l'écr...   \n",
       "1  Alors, là, on a affaire au plus grand Navet ja...   \n",
       "2  Effet garanti sur la terrase. Ils donnent immé...   \n",
       "3  Ordinateur de bureau trés bien pour quelqu'un ...   \n",
       "4  Ma fille adore, elle n'en n'était pas sûre à l...   \n",
       "\n",
       "                                        review_title  review_stars  Target  \\\n",
       "0  La Police s'inscrit en acheteur privé sur Pric...             5       0   \n",
       "1                     Chef D'Oeuvre Absolu en vue...             5       1   \n",
       "2  Effet garanti sur la terrase. Ils donnent immé...             3       0   \n",
       "3                                 Apple Power MAC G4             3       1   \n",
       "4                                     Comme Hermione             5       1   \n",
       "\n",
       "   content_nb_char  title_nb_char  content_nb_sentences  title_nb_sentences  \\\n",
       "0              382             55                     3                   1   \n",
       "1             1000             30                    14                   1   \n",
       "2              194             97                     4                   3   \n",
       "3              124             18                     1                   1   \n",
       "4              102             14                     1                   1   \n",
       "\n",
       "   content_nb_strong_punc  title_nb_strong_punc  content_nb_weak_punc  \\\n",
       "0                       0                     0                     5   \n",
       "1                      25                     0                    16   \n",
       "2                       0                     0                     3   \n",
       "3                       0                     0                     1   \n",
       "4                       1                     0                     2   \n",
       "\n",
       "   title_nb_weak_punc  content_nb_upper  title_nb_upper  review_stars_1  \\\n",
       "0                   0                 4               3               0   \n",
       "1                   3                44               4               0   \n",
       "2                   2                 4               3               0   \n",
       "3                   0                 3               6               0   \n",
       "4                   0                 1               2               0   \n",
       "\n",
       "   review_stars_2  review_stars_3  review_stars_4  review_stars_5  \n",
       "0               0               0               0               1  \n",
       "1               0               0               0               1  \n",
       "2               0               1               0               0  \n",
       "3               0               1               0               0  \n",
       "4               0               0               0               1  "
      ]
     },
     "execution_count": 33,
     "metadata": {},
     "output_type": "execute_result"
    }
   ],
   "source": [
    "df.head()"
   ]
  },
  {
   "cell_type": "markdown",
   "id": "c3fbbff7",
   "metadata": {},
   "source": [
    "### Sauvegarde du dataframe pour plus tard"
   ]
  },
  {
   "cell_type": "code",
   "execution_count": 34,
   "id": "2c2df34f",
   "metadata": {},
   "outputs": [],
   "source": [
    "df_save = df[[\"review_content\", \"review_title\", \"review_stars_1\", \"review_stars_2\", \"review_stars_3\", \"review_stars_4\", \"review_stars_5\",\n",
    "           \"content_nb_char\", \"content_nb_sentences\", \"content_nb_strong_punc\", \"content_nb_weak_punc\", \"content_nb_upper\",\n",
    "           \"title_nb_char\", \"title_nb_sentences\", \"title_nb_strong_punc\", \"title_nb_weak_punc\", \"title_nb_upper\", \"Target\"]]\n",
    "# [NLD]: Bonne idée\n",
    "df_save.to_csv(\"../data/review_prep1.csv\")"
   ]
  },
  {
   "cell_type": "markdown",
   "id": "6a3b5204",
   "metadata": {},
   "source": [
    "### Préparation du dataframe et corrélations"
   ]
  },
  {
   "cell_type": "markdown",
   "id": "ad157c17",
   "metadata": {},
   "source": [
    "On prépare le dataframe pour l'élaboration du 1er modèle, on drop les textes car on a extrait les infos syntaxiques via les features textuelles, ainsi que review_stars qu'on a encodé en one hot. "
   ]
  },
  {
   "cell_type": "code",
   "execution_count": 39,
   "id": "ee4e2320-93c0-4cf7-8377-b652c4b90860",
   "metadata": {},
   "outputs": [
    {
     "data": {
      "text/html": [
       "<div>\n",
       "<style scoped>\n",
       "    .dataframe tbody tr th:only-of-type {\n",
       "        vertical-align: middle;\n",
       "    }\n",
       "\n",
       "    .dataframe tbody tr th {\n",
       "        vertical-align: top;\n",
       "    }\n",
       "\n",
       "    .dataframe thead th {\n",
       "        text-align: right;\n",
       "    }\n",
       "</style>\n",
       "<table border=\"1\" class=\"dataframe\">\n",
       "  <thead>\n",
       "    <tr style=\"text-align: right;\">\n",
       "      <th></th>\n",
       "      <th>Unnamed: 0</th>\n",
       "      <th>review_content</th>\n",
       "      <th>review_title</th>\n",
       "      <th>review_stars_1</th>\n",
       "      <th>review_stars_2</th>\n",
       "      <th>review_stars_3</th>\n",
       "      <th>review_stars_4</th>\n",
       "      <th>review_stars_5</th>\n",
       "      <th>content_nb_char</th>\n",
       "      <th>content_nb_sentences</th>\n",
       "      <th>content_nb_strong_punc</th>\n",
       "      <th>content_nb_weak_punc</th>\n",
       "      <th>content_nb_upper</th>\n",
       "      <th>title_nb_char</th>\n",
       "      <th>title_nb_sentences</th>\n",
       "      <th>title_nb_strong_punc</th>\n",
       "      <th>title_nb_weak_punc</th>\n",
       "      <th>title_nb_upper</th>\n",
       "      <th>Target</th>\n",
       "    </tr>\n",
       "  </thead>\n",
       "  <tbody>\n",
       "    <tr>\n",
       "      <th>0</th>\n",
       "      <td>0</td>\n",
       "      <td>En appelant un acheteur pour demander si l'écr...</td>\n",
       "      <td>La Police s'inscrit en acheteur privé sur Pric...</td>\n",
       "      <td>0</td>\n",
       "      <td>0</td>\n",
       "      <td>0</td>\n",
       "      <td>0</td>\n",
       "      <td>1</td>\n",
       "      <td>382</td>\n",
       "      <td>3</td>\n",
       "      <td>0</td>\n",
       "      <td>5</td>\n",
       "      <td>4</td>\n",
       "      <td>55</td>\n",
       "      <td>1</td>\n",
       "      <td>0</td>\n",
       "      <td>0</td>\n",
       "      <td>3</td>\n",
       "      <td>0</td>\n",
       "    </tr>\n",
       "    <tr>\n",
       "      <th>1</th>\n",
       "      <td>1</td>\n",
       "      <td>Alors, là, on a affaire au plus grand Navet ja...</td>\n",
       "      <td>Chef D'Oeuvre Absolu en vue...</td>\n",
       "      <td>0</td>\n",
       "      <td>0</td>\n",
       "      <td>0</td>\n",
       "      <td>0</td>\n",
       "      <td>1</td>\n",
       "      <td>1000</td>\n",
       "      <td>14</td>\n",
       "      <td>25</td>\n",
       "      <td>16</td>\n",
       "      <td>44</td>\n",
       "      <td>30</td>\n",
       "      <td>1</td>\n",
       "      <td>0</td>\n",
       "      <td>3</td>\n",
       "      <td>4</td>\n",
       "      <td>1</td>\n",
       "    </tr>\n",
       "    <tr>\n",
       "      <th>2</th>\n",
       "      <td>2</td>\n",
       "      <td>Effet garanti sur la terrase. Ils donnent immé...</td>\n",
       "      <td>Effet garanti sur la terrase. Ils donnent immé...</td>\n",
       "      <td>0</td>\n",
       "      <td>0</td>\n",
       "      <td>1</td>\n",
       "      <td>0</td>\n",
       "      <td>0</td>\n",
       "      <td>194</td>\n",
       "      <td>4</td>\n",
       "      <td>0</td>\n",
       "      <td>3</td>\n",
       "      <td>4</td>\n",
       "      <td>97</td>\n",
       "      <td>3</td>\n",
       "      <td>0</td>\n",
       "      <td>2</td>\n",
       "      <td>3</td>\n",
       "      <td>0</td>\n",
       "    </tr>\n",
       "    <tr>\n",
       "      <th>3</th>\n",
       "      <td>3</td>\n",
       "      <td>Ordinateur de bureau trés bien pour quelqu'un ...</td>\n",
       "      <td>Apple Power MAC G4</td>\n",
       "      <td>0</td>\n",
       "      <td>0</td>\n",
       "      <td>1</td>\n",
       "      <td>0</td>\n",
       "      <td>0</td>\n",
       "      <td>124</td>\n",
       "      <td>1</td>\n",
       "      <td>0</td>\n",
       "      <td>1</td>\n",
       "      <td>3</td>\n",
       "      <td>18</td>\n",
       "      <td>1</td>\n",
       "      <td>0</td>\n",
       "      <td>0</td>\n",
       "      <td>6</td>\n",
       "      <td>1</td>\n",
       "    </tr>\n",
       "    <tr>\n",
       "      <th>4</th>\n",
       "      <td>4</td>\n",
       "      <td>Ma fille adore, elle n'en n'était pas sûre à l...</td>\n",
       "      <td>Comme Hermione</td>\n",
       "      <td>0</td>\n",
       "      <td>0</td>\n",
       "      <td>0</td>\n",
       "      <td>0</td>\n",
       "      <td>1</td>\n",
       "      <td>102</td>\n",
       "      <td>1</td>\n",
       "      <td>1</td>\n",
       "      <td>2</td>\n",
       "      <td>1</td>\n",
       "      <td>14</td>\n",
       "      <td>1</td>\n",
       "      <td>0</td>\n",
       "      <td>0</td>\n",
       "      <td>2</td>\n",
       "      <td>1</td>\n",
       "    </tr>\n",
       "  </tbody>\n",
       "</table>\n",
       "</div>"
      ],
      "text/plain": [
       "   Unnamed: 0                                     review_content  \\\n",
       "0           0  En appelant un acheteur pour demander si l'écr...   \n",
       "1           1  Alors, là, on a affaire au plus grand Navet ja...   \n",
       "2           2  Effet garanti sur la terrase. Ils donnent immé...   \n",
       "3           3  Ordinateur de bureau trés bien pour quelqu'un ...   \n",
       "4           4  Ma fille adore, elle n'en n'était pas sûre à l...   \n",
       "\n",
       "                                        review_title  review_stars_1  \\\n",
       "0  La Police s'inscrit en acheteur privé sur Pric...               0   \n",
       "1                     Chef D'Oeuvre Absolu en vue...               0   \n",
       "2  Effet garanti sur la terrase. Ils donnent immé...               0   \n",
       "3                                 Apple Power MAC G4               0   \n",
       "4                                     Comme Hermione               0   \n",
       "\n",
       "   review_stars_2  review_stars_3  review_stars_4  review_stars_5  \\\n",
       "0               0               0               0               1   \n",
       "1               0               0               0               1   \n",
       "2               0               1               0               0   \n",
       "3               0               1               0               0   \n",
       "4               0               0               0               1   \n",
       "\n",
       "   content_nb_char  content_nb_sentences  content_nb_strong_punc  \\\n",
       "0              382                     3                       0   \n",
       "1             1000                    14                      25   \n",
       "2              194                     4                       0   \n",
       "3              124                     1                       0   \n",
       "4              102                     1                       1   \n",
       "\n",
       "   content_nb_weak_punc  content_nb_upper  title_nb_char  title_nb_sentences  \\\n",
       "0                     5                 4             55                   1   \n",
       "1                    16                44             30                   1   \n",
       "2                     3                 4             97                   3   \n",
       "3                     1                 3             18                   1   \n",
       "4                     2                 1             14                   1   \n",
       "\n",
       "   title_nb_strong_punc  title_nb_weak_punc  title_nb_upper  Target  \n",
       "0                     0                   0               3       0  \n",
       "1                     0                   3               4       1  \n",
       "2                     0                   2               3       0  \n",
       "3                     0                   0               6       1  \n",
       "4                     0                   0               2       1  "
      ]
     },
     "execution_count": 39,
     "metadata": {},
     "output_type": "execute_result"
    }
   ],
   "source": [
    "df1 = pd.read_csv(\"../data/review_prep1.csv\")\n",
    "df1.head()"
   ]
  },
  {
   "cell_type": "markdown",
   "id": "dee39af6",
   "metadata": {},
   "source": [
    "On regarde les corrélations entre features :"
   ]
  },
  {
   "cell_type": "code",
   "execution_count": 36,
   "id": "84f3aadc",
   "metadata": {},
   "outputs": [
    {
     "data": {
      "text/plain": [
       "<AxesSubplot:>"
      ]
     },
     "execution_count": 36,
     "metadata": {},
     "output_type": "execute_result"
    },
    {
     "data": {
      "image/png": "[encoded data removed]",
      "text/plain": [
       "<Figure size 432x288 with 2 Axes>"
      ]
     },
     "metadata": {
      "needs_background": "light"
     },
     "output_type": "display_data"
    }
   ],
   "source": [
    "sns.heatmap(df1.corr())"
   ]
  },
  {
   "cell_type": "markdown",
   "id": "e34627d9",
   "metadata": {},
   "source": [
    "On remarque que les features corrélées le sont logiquement, par exemple la longueur en terme de caractères et de phrases, ou le nombre de ponctuations faibles et le nombre de phrases. Ces corrélations ne sont pas idéales pour l'apprentissage de notre modèle mais les features peuvent porter des informations différentes et à ce stade, on les garde pour la construction d'un premier modèle."
   ]
  },
  {
   "cell_type": "code",
   "execution_count": 37,
   "id": "265528f6",
   "metadata": {},
   "outputs": [],
   "source": [
    "X = df1.drop(\"Target\", axis=1).to_numpy()\n",
    "y = df1[\"Target\"].to_numpy()"
   ]
  },
  {
   "cell_type": "markdown",
   "id": "7b16ce38",
   "metadata": {},
   "source": [
    "## Premier modèle"
   ]
  },
  {
   "cell_type": "markdown",
   "id": "631391a4",
   "metadata": {},
   "source": [
    "### Séparation du dataset"
   ]
  },
  {
   "cell_type": "code",
   "execution_count": 38,
   "id": "83205a37",
   "metadata": {},
   "outputs": [],
   "source": [
    "X_train, X_test, y_train, y_test = train_test_split(X, y, test_size=0.33, random_state=42)"
   ]
  },
  {
   "cell_type": "markdown",
   "id": "89e823fd",
   "metadata": {},
   "source": [
    "On choisit d'utiliser comme modèle une Random Forest."
   ]
  },
  {
   "cell_type": "code",
   "execution_count": 39,
   "id": "c113921c",
   "metadata": {},
   "outputs": [],
   "source": [
    "rfc = RandomForestClassifier(n_estimators=100, criterion=\"gini\")"
   ]
  },
  {
   "cell_type": "code",
   "execution_count": 40,
   "id": "a72c2a7b",
   "metadata": {},
   "outputs": [],
   "source": [
    "_ = rfc.fit(X_train, y_train)"
   ]
  },
  {
   "cell_type": "code",
   "execution_count": 41,
   "id": "4bfc80cd",
   "metadata": {},
   "outputs": [
    {
     "data": {
      "text/plain": [
       "0.9743321110529073"
      ]
     },
     "execution_count": 41,
     "metadata": {},
     "output_type": "execute_result"
    }
   ],
   "source": [
    "rfc.score(X_train, y_train)"
   ]
  },
  {
   "cell_type": "code",
   "execution_count": 42,
   "id": "e96a925d",
   "metadata": {},
   "outputs": [
    {
     "data": {
      "text/plain": [
       "0.606661069129583"
      ]
     },
     "execution_count": 42,
     "metadata": {},
     "output_type": "execute_result"
    }
   ],
   "source": [
    "rfc.score(X_test, y_test)"
   ]
  },
  {
   "cell_type": "markdown",
   "id": "3e843d2c",
   "metadata": {},
   "source": [
    "L'accuracy d'entraînement est très bonne (0.97) mais en généralisation c'est beaucoup moins satisfaisant (0.61), on pourrait penser que notre modèle fait de l'overfitting.\n",
    "On tente de choisir le meilleur critère en effectuant une cross validation sur l'hyperparamètre \"criterion\"."
   ]
  },
  {
   "cell_type": "code",
   "execution_count": 43,
   "id": "c8d720b0",
   "metadata": {},
   "outputs": [
    {
     "name": "stderr",
     "output_type": "stream",
     "text": [
      "100%|████████████████████████████████████████████████████████████████████████████████████████████████████████████████████████████████████████████████| 3/3 [00:48<00:00, 16.25s/it]"
     ]
    },
    {
     "name": "stdout",
     "output_type": "stream",
     "text": [
      "{'gini': 0.6062696025311352, 'entropy': 0.607703210681357, 'log_loss': 0.6082545735834902}\n"
     ]
    },
    {
     "name": "stderr",
     "output_type": "stream",
     "text": [
      "\n"
     ]
    }
   ],
   "source": [
    "criterions = [\"gini\", \"entropy\", \"log_loss\"]\n",
    "crit_scores = {}\n",
    "for crit in tqdm(criterions):\n",
    "    rfc = RandomForestClassifier(n_estimators=100, criterion=crit)\n",
    "    scores = cross_val_score(rfc, X_train, y_train, cv=5, scoring=\"accuracy\")\n",
    "    crit_scores[crit] = scores.mean()\n",
    "print(crit_scores)"
   ]
  },
  {
   "cell_type": "markdown",
   "id": "e2aae8fa",
   "metadata": {},
   "source": [
    "On voit que dans notre cas, le critère n'a que peu d'importance a priori. On obtient avec les cross validations des accuracy proches de 0.61 dans tous les cas.\n",
    "On tente une cross validation sur le nombre d'estimateurs, même si a priori plus on a d'estimateurs et plus les résultats sont corrects (sagesse des forêts)."
   ]
  },
  {
   "cell_type": "code",
   "execution_count": 44,
   "id": "e6995664",
   "metadata": {},
   "outputs": [
    {
     "name": "stderr",
     "output_type": "stream",
     "text": [
      "100%|████████████████████████████████████████████████████████████████████████████████████████████████████████████████████████████████████████████████| 5/5 [02:10<00:00, 26.13s/it]"
     ]
    },
    {
     "name": "stdout",
     "output_type": "stream",
     "text": [
      "{10: 0.5824488858258672, 50: 0.6060764763545937, 100: 0.6067106510498164, 200: 0.6082270405909276, 500: 0.6102121142507084}\n"
     ]
    },
    {
     "name": "stderr",
     "output_type": "stream",
     "text": [
      "\n"
     ]
    }
   ],
   "source": [
    "nes = [10,50,100,200, 500]\n",
    "nes_scores = {}\n",
    "for ne in tqdm(nes):\n",
    "    rfc = RandomForestClassifier(n_estimators=ne)\n",
    "    scores = cross_val_score(rfc, X_train, y_train, cv=5, scoring=\"accuracy\")\n",
    "    nes_scores[ne] = scores.mean()\n",
    "print(nes_scores)"
   ]
  },
  {
   "cell_type": "markdown",
   "id": "d91cef8c",
   "metadata": {},
   "source": [
    "Comme attendu, plus on a d'estimateurs et plus on a une précision correcte. Cependant, cette validation croisée nous a permis de voir qu'au delà de 50 estimateurs, on n'améliore que très peu la métrique d'accuracy. \n",
    "\n",
    "Des pistes d'amélioration pourraient être de choisir un autre modèle ou d'extraire d'autres features, car celles-ci peuvent ne pas suffire à faire de bonnes prédictions quelque soit le modèle. On pourrait envisager de supprimer les features corrélées avec d'autres par exemple. Mais on ne le fera pas, notre travail va s'axer sur la création de nouvelles variables globales au texte : en utilisant la méthode TDF-IF basée sur les fréquences de mots."
   ]
  },
  {
   "cell_type": "markdown",
   "id": "a284bdcf",
   "metadata": {},
   "source": [
    "## Preprocessing fréquentiel : Création de features textuelles statistiques globales (TDF-IF)"
   ]
  },
  {
   "cell_type": "code",
   "execution_count": 45,
   "id": "20c5ac76",
   "metadata": {},
   "outputs": [
    {
     "data": {
      "text/html": [
       "<div>\n",
       "<style scoped>\n",
       "    .dataframe tbody tr th:only-of-type {\n",
       "        vertical-align: middle;\n",
       "    }\n",
       "\n",
       "    .dataframe tbody tr th {\n",
       "        vertical-align: top;\n",
       "    }\n",
       "\n",
       "    .dataframe thead th {\n",
       "        text-align: right;\n",
       "    }\n",
       "</style>\n",
       "<table border=\"1\" class=\"dataframe\">\n",
       "  <thead>\n",
       "    <tr style=\"text-align: right;\">\n",
       "      <th></th>\n",
       "      <th>review_content</th>\n",
       "      <th>review_title</th>\n",
       "      <th>review_1star</th>\n",
       "      <th>review_2star</th>\n",
       "      <th>review_3star</th>\n",
       "      <th>review_4star</th>\n",
       "      <th>review_5star</th>\n",
       "      <th>content_nb_char</th>\n",
       "      <th>content_nb_sentences</th>\n",
       "      <th>content_nb_strong_punc</th>\n",
       "      <th>content_nb_weak_punc</th>\n",
       "      <th>content_nb_upper</th>\n",
       "      <th>title_nb_char</th>\n",
       "      <th>title_nb_sentences</th>\n",
       "      <th>title_nb_strong_punc</th>\n",
       "      <th>title_nb_weak_punc</th>\n",
       "      <th>title_nb_upper</th>\n",
       "      <th>Target</th>\n",
       "    </tr>\n",
       "  </thead>\n",
       "  <tbody>\n",
       "    <tr>\n",
       "      <th>0</th>\n",
       "      <td>En appelant un acheteur pour demander si l'écr...</td>\n",
       "      <td>La Police s'inscrit en acheteur privé sur Pric...</td>\n",
       "      <td>0</td>\n",
       "      <td>0</td>\n",
       "      <td>0</td>\n",
       "      <td>0</td>\n",
       "      <td>1</td>\n",
       "      <td>382</td>\n",
       "      <td>3</td>\n",
       "      <td>0</td>\n",
       "      <td>5</td>\n",
       "      <td>4</td>\n",
       "      <td>55</td>\n",
       "      <td>1</td>\n",
       "      <td>0</td>\n",
       "      <td>0</td>\n",
       "      <td>3</td>\n",
       "      <td>0</td>\n",
       "    </tr>\n",
       "    <tr>\n",
       "      <th>1</th>\n",
       "      <td>Alors, là, on a affaire au plus grand Navet ja...</td>\n",
       "      <td>Chef D'Oeuvre Absolu en vue...</td>\n",
       "      <td>0</td>\n",
       "      <td>0</td>\n",
       "      <td>0</td>\n",
       "      <td>0</td>\n",
       "      <td>1</td>\n",
       "      <td>1000</td>\n",
       "      <td>14</td>\n",
       "      <td>25</td>\n",
       "      <td>16</td>\n",
       "      <td>44</td>\n",
       "      <td>30</td>\n",
       "      <td>1</td>\n",
       "      <td>0</td>\n",
       "      <td>3</td>\n",
       "      <td>4</td>\n",
       "      <td>1</td>\n",
       "    </tr>\n",
       "    <tr>\n",
       "      <th>2</th>\n",
       "      <td>Effet garanti sur la terrase. Ils donnent immé...</td>\n",
       "      <td>Effet garanti sur la terrase. Ils donnent immé...</td>\n",
       "      <td>0</td>\n",
       "      <td>0</td>\n",
       "      <td>1</td>\n",
       "      <td>0</td>\n",
       "      <td>0</td>\n",
       "      <td>194</td>\n",
       "      <td>4</td>\n",
       "      <td>0</td>\n",
       "      <td>3</td>\n",
       "      <td>4</td>\n",
       "      <td>97</td>\n",
       "      <td>3</td>\n",
       "      <td>0</td>\n",
       "      <td>2</td>\n",
       "      <td>3</td>\n",
       "      <td>0</td>\n",
       "    </tr>\n",
       "    <tr>\n",
       "      <th>3</th>\n",
       "      <td>Ordinateur de bureau trés bien pour quelqu'un ...</td>\n",
       "      <td>Apple Power MAC G4</td>\n",
       "      <td>0</td>\n",
       "      <td>0</td>\n",
       "      <td>1</td>\n",
       "      <td>0</td>\n",
       "      <td>0</td>\n",
       "      <td>124</td>\n",
       "      <td>1</td>\n",
       "      <td>0</td>\n",
       "      <td>1</td>\n",
       "      <td>3</td>\n",
       "      <td>18</td>\n",
       "      <td>1</td>\n",
       "      <td>0</td>\n",
       "      <td>0</td>\n",
       "      <td>6</td>\n",
       "      <td>1</td>\n",
       "    </tr>\n",
       "    <tr>\n",
       "      <th>4</th>\n",
       "      <td>Ma fille adore, elle n'en n'était pas sûre à l...</td>\n",
       "      <td>Comme Hermione</td>\n",
       "      <td>0</td>\n",
       "      <td>0</td>\n",
       "      <td>0</td>\n",
       "      <td>0</td>\n",
       "      <td>1</td>\n",
       "      <td>102</td>\n",
       "      <td>1</td>\n",
       "      <td>1</td>\n",
       "      <td>2</td>\n",
       "      <td>1</td>\n",
       "      <td>14</td>\n",
       "      <td>1</td>\n",
       "      <td>0</td>\n",
       "      <td>0</td>\n",
       "      <td>2</td>\n",
       "      <td>1</td>\n",
       "    </tr>\n",
       "  </tbody>\n",
       "</table>\n",
       "</div>"
      ],
      "text/plain": [
       "                                      review_content  \\\n",
       "0  En appelant un acheteur pour demander si l'écr...   \n",
       "1  Alors, là, on a affaire au plus grand Navet ja...   \n",
       "2  Effet garanti sur la terrase. Ils donnent immé...   \n",
       "3  Ordinateur de bureau trés bien pour quelqu'un ...   \n",
       "4  Ma fille adore, elle n'en n'était pas sûre à l...   \n",
       "\n",
       "                                        review_title  review_1star  \\\n",
       "0  La Police s'inscrit en acheteur privé sur Pric...             0   \n",
       "1                     Chef D'Oeuvre Absolu en vue...             0   \n",
       "2  Effet garanti sur la terrase. Ils donnent immé...             0   \n",
       "3                                 Apple Power MAC G4             0   \n",
       "4                                     Comme Hermione             0   \n",
       "\n",
       "   review_2star  review_3star  review_4star  review_5star  content_nb_char  \\\n",
       "0             0             0             0             1              382   \n",
       "1             0             0             0             1             1000   \n",
       "2             0             1             0             0              194   \n",
       "3             0             1             0             0              124   \n",
       "4             0             0             0             1              102   \n",
       "\n",
       "   content_nb_sentences  content_nb_strong_punc  content_nb_weak_punc  \\\n",
       "0                     3                       0                     5   \n",
       "1                    14                      25                    16   \n",
       "2                     4                       0                     3   \n",
       "3                     1                       0                     1   \n",
       "4                     1                       1                     2   \n",
       "\n",
       "   content_nb_upper  title_nb_char  title_nb_sentences  title_nb_strong_punc  \\\n",
       "0                 4             55                   1                     0   \n",
       "1                44             30                   1                     0   \n",
       "2                 4             97                   3                     0   \n",
       "3                 3             18                   1                     0   \n",
       "4                 1             14                   1                     0   \n",
       "\n",
       "   title_nb_weak_punc  title_nb_upper  Target  \n",
       "0                   0               3       0  \n",
       "1                   3               4       1  \n",
       "2                   2               3       0  \n",
       "3                   0               6       1  \n",
       "4                   0               2       1  "
      ]
     },
     "execution_count": 45,
     "metadata": {},
     "output_type": "execute_result"
    }
   ],
   "source": [
    "df2 = pd.read_csv(\"review_prep1.csv\")\n",
    "df2 = df2.drop(\"Unnamed: 0\", axis=1)\n",
    "df2.head()"
   ]
  },
  {
   "cell_type": "markdown",
   "id": "48c74100",
   "metadata": {},
   "source": [
    "On créé un corpus de textes pour utiliser la méthode TD-IDF, le corpus est la liste des textes de contenu, car on suppose que c'est le texte le plus important pour juger de la pertinence (le titre est plus court et moins informatif car souvent concis)."
   ]
  },
  {
   "cell_type": "code",
   "execution_count": 46,
   "id": "4bbe523a",
   "metadata": {},
   "outputs": [],
   "source": [
    "content_corpus = []\n",
    "for k in range(df2.shape[0]):\n",
    "    content_corpus.append(df2.iloc[k][\"review_content\"])"
   ]
  },
  {
   "cell_type": "code",
   "execution_count": 47,
   "id": "02520631",
   "metadata": {},
   "outputs": [],
   "source": [
    "vectorizer = TfidfVectorizer()\n",
    "X = vectorizer.fit_transform(content_corpus)\n",
    "y = df2[\"Target\"].to_numpy()"
   ]
  },
  {
   "cell_type": "markdown",
   "id": "8370a9d6",
   "metadata": {},
   "source": [
    "## Modèle utilisant ces features fréquentielles"
   ]
  },
  {
   "cell_type": "code",
   "execution_count": 48,
   "id": "4dd947ca",
   "metadata": {},
   "outputs": [],
   "source": [
    "X_train, X_test, y_train, y_test = train_test_split(X, y, test_size=0.33, random_state=42)"
   ]
  },
  {
   "cell_type": "code",
   "execution_count": 49,
   "id": "06281e4b",
   "metadata": {},
   "outputs": [
    {
     "data": {
      "text/html": [
       "<style>#sk-container-id-1 {color: black;background-color: white;}#sk-container-id-1 pre{padding: 0;}#sk-container-id-1 div.sk-toggleable {background-color: white;}#sk-container-id-1 label.sk-toggleable__label {cursor: pointer;display: block;width: 100%;margin-bottom: 0;padding: 0.3em;box-sizing: border-box;text-align: center;}#sk-container-id-1 label.sk-toggleable__label-arrow:before {content: \"▸\";float: left;margin-right: 0.25em;color: #696969;}#sk-container-id-1 label.sk-toggleable__label-arrow:hover:before {color: black;}#sk-container-id-1 div.sk-estimator:hover label.sk-toggleable__label-arrow:before {color: black;}#sk-container-id-1 div.sk-toggleable__content {max-height: 0;max-width: 0;overflow: hidden;text-align: left;background-color: #f0f8ff;}#sk-container-id-1 div.sk-toggleable__content pre {margin: 0.2em;color: black;border-radius: 0.25em;background-color: #f0f8ff;}#sk-container-id-1 input.sk-toggleable__control:checked~div.sk-toggleable__content {max-height: 200px;max-width: 100%;overflow: auto;}#sk-container-id-1 input.sk-toggleable__control:checked~label.sk-toggleable__label-arrow:before {content: \"▾\";}#sk-container-id-1 div.sk-estimator input.sk-toggleable__control:checked~label.sk-toggleable__label {background-color: #d4ebff;}#sk-container-id-1 div.sk-label input.sk-toggleable__control:checked~label.sk-toggleable__label {background-color: #d4ebff;}#sk-container-id-1 input.sk-hidden--visually {border: 0;clip: rect(1px 1px 1px 1px);clip: rect(1px, 1px, 1px, 1px);height: 1px;margin: -1px;overflow: hidden;padding: 0;position: absolute;width: 1px;}#sk-container-id-1 div.sk-estimator {font-family: monospace;background-color: #f0f8ff;border: 1px dotted black;border-radius: 0.25em;box-sizing: border-box;margin-bottom: 0.5em;}#sk-container-id-1 div.sk-estimator:hover {background-color: #d4ebff;}#sk-container-id-1 div.sk-parallel-item::after {content: \"\";width: 100%;border-bottom: 1px solid gray;flex-grow: 1;}#sk-container-id-1 div.sk-label:hover label.sk-toggleable__label {background-color: #d4ebff;}#sk-container-id-1 div.sk-serial::before {content: \"\";position: absolute;border-left: 1px solid gray;box-sizing: border-box;top: 0;bottom: 0;left: 50%;z-index: 0;}#sk-container-id-1 div.sk-serial {display: flex;flex-direction: column;align-items: center;background-color: white;padding-right: 0.2em;padding-left: 0.2em;position: relative;}#sk-container-id-1 div.sk-item {position: relative;z-index: 1;}#sk-container-id-1 div.sk-parallel {display: flex;align-items: stretch;justify-content: center;background-color: white;position: relative;}#sk-container-id-1 div.sk-item::before, #sk-container-id-1 div.sk-parallel-item::before {content: \"\";position: absolute;border-left: 1px solid gray;box-sizing: border-box;top: 0;bottom: 0;left: 50%;z-index: -1;}#sk-container-id-1 div.sk-parallel-item {display: flex;flex-direction: column;z-index: 1;position: relative;background-color: white;}#sk-container-id-1 div.sk-parallel-item:first-child::after {align-self: flex-end;width: 50%;}#sk-container-id-1 div.sk-parallel-item:last-child::after {align-self: flex-start;width: 50%;}#sk-container-id-1 div.sk-parallel-item:only-child::after {width: 0;}#sk-container-id-1 div.sk-dashed-wrapped {border: 1px dashed gray;margin: 0 0.4em 0.5em 0.4em;box-sizing: border-box;padding-bottom: 0.4em;background-color: white;}#sk-container-id-1 div.sk-label label {font-family: monospace;font-weight: bold;display: inline-block;line-height: 1.2em;}#sk-container-id-1 div.sk-label-container {text-align: center;}#sk-container-id-1 div.sk-container {/* jupyter's `normalize.less` sets `[hidden] { display: none; }` but bootstrap.min.css set `[hidden] { display: none !important; }` so we also need the `!important` here to be able to override the default hidden behavior on the sphinx rendered scikit-learn.org. See: https://github.com/scikit-learn/scikit-learn/issues/21755 */display: inline-block !important;position: relative;}#sk-container-id-1 div.sk-text-repr-fallback {display: none;}</style><div id=\"sk-container-id-1\" class=\"sk-top-container\"><div class=\"sk-text-repr-fallback\"><pre>RandomForestClassifier(n_estimators=10)</pre><b>In a Jupyter environment, please rerun this cell to show the HTML representation or trust the notebook. <br />On GitHub, the HTML representation is unable to render, please try loading this page with nbviewer.org.</b></div><div class=\"sk-container\" hidden><div class=\"sk-item\"><div class=\"sk-estimator sk-toggleable\"><input class=\"sk-toggleable__control sk-hidden--visually\" id=\"sk-estimator-id-1\" type=\"checkbox\" checked><label for=\"sk-estimator-id-1\" class=\"sk-toggleable__label sk-toggleable__label-arrow\">RandomForestClassifier</label><div class=\"sk-toggleable__content\"><pre>RandomForestClassifier(n_estimators=10)</pre></div></div></div></div></div>"
      ],
      "text/plain": [
       "RandomForestClassifier(n_estimators=10)"
      ]
     },
     "execution_count": 49,
     "metadata": {},
     "output_type": "execute_result"
    }
   ],
   "source": [
    "rfc = RandomForestClassifier(n_estimators=10)\n",
    "rfc.fit(X_train, y_train)"
   ]
  },
  {
   "cell_type": "code",
   "execution_count": 50,
   "id": "e3696c9f",
   "metadata": {},
   "outputs": [
    {
     "name": "stdout",
     "output_type": "stream",
     "text": [
      "train score: 0.9860770312370765\n",
      "test_score: 0.6231738035264484\n"
     ]
    }
   ],
   "source": [
    "print(\"train score:\", rfc.score(X_train, y_train))\n",
    "print(\"test_score:\", rfc.score(X_test, y_test))"
   ]
  },
  {
   "cell_type": "markdown",
   "id": "8d329bf9",
   "metadata": {},
   "source": [
    "Grâce à ces features fréquentielles sur le contenu des review, on améliore le score qu'on avait avec les features syntaxiques.\n",
    "Par ailleurs, on a utilisé que 10 estimateurs, essayons avec 50 (on ne montera pas plus car le calcul est chronophage)."
   ]
  },
  {
   "cell_type": "code",
   "execution_count": 51,
   "id": "6f5b3991",
   "metadata": {},
   "outputs": [
    {
     "name": "stdout",
     "output_type": "stream",
     "text": [
      "train score: 0.9962780182514956\n",
      "test_score: 0.6541841589700532\n"
     ]
    }
   ],
   "source": [
    "rfc = RandomForestClassifier(n_estimators=50)\n",
    "rfc.fit(X_train, y_train)\n",
    "print(\"train score:\", rfc.score(X_train, y_train))\n",
    "print(\"test_score:\", rfc.score(X_test, y_test))"
   ]
  },
  {
   "cell_type": "markdown",
   "id": "86f64262",
   "metadata": {},
   "source": [
    "La précision en généralisation est encore meilleure avec 50 estimateurs, intéressons nous à d'autres métriques d'évaluation : précision, rappel, f-score et les représentations associées : matrice de confusion, courbe ROC (et sa métrique AUC)."
   ]
  },
  {
   "cell_type": "markdown",
   "id": "9ef30d4b",
   "metadata": {},
   "source": [
    "Sauvegarde du modèle dans un fichier (pour réutilisation plus tard sans besoin de fit à nouveau) :"
   ]
  },
  {
   "cell_type": "code",
   "execution_count": 52,
   "id": "5895a1e6",
   "metadata": {},
   "outputs": [
    {
     "data": {
      "text/plain": [
       "['randomforest.joblib']"
      ]
     },
     "execution_count": 52,
     "metadata": {},
     "output_type": "execute_result"
    }
   ],
   "source": [
    "dump(rfc, 'randomforest.joblib')"
   ]
  },
  {
   "cell_type": "code",
   "execution_count": 53,
   "id": "1aef4816",
   "metadata": {},
   "outputs": [],
   "source": [
    "# reload le modèle sans refaire l'entraînement :\n",
    "rfc = load('randomforest.joblib')"
   ]
  },
  {
   "cell_type": "markdown",
   "id": "c884e1a5",
   "metadata": {},
   "source": [
    "## Evaluation avancée du modèle"
   ]
  },
  {
   "cell_type": "markdown",
   "id": "611040da",
   "metadata": {},
   "source": [
    "### Métriques"
   ]
  },
  {
   "cell_type": "markdown",
   "id": "fde8118f",
   "metadata": {},
   "source": [
    "On réalise l'évaluation directement en généralisation, donc avec le jeu de donnée (X_test, y_test)."
   ]
  },
  {
   "cell_type": "code",
   "execution_count": 54,
   "id": "dd812ffa",
   "metadata": {},
   "outputs": [],
   "source": [
    "y_pred = rfc.predict(X_test)"
   ]
  },
  {
   "cell_type": "code",
   "execution_count": 55,
   "id": "6c7c13d2",
   "metadata": {},
   "outputs": [
    {
     "name": "stdout",
     "output_type": "stream",
     "text": [
      "precision : 0.6465981399902104\n",
      "recall : 0.8110929185427753\n",
      "fscore : 0.7195642305946437\n"
     ]
    }
   ],
   "source": [
    "precision, recall, fscore, _ = precision_recall_fscore_support(y_test, y_pred)\n",
    "print(\"precision :\", precision[1])\n",
    "print(\"recall :\", recall[1])\n",
    "print(\"fscore :\", fscore[1])"
   ]
  },
  {
   "cell_type": "markdown",
   "id": "85d7bc31",
   "metadata": {},
   "source": [
    "Le rappel est meilleur que la précision, notre modèle est donc plus adapté à détecter un maximum de positifs qu'à détecter avec exactitude les positifs. Il est plus sensible que précis."
   ]
  },
  {
   "cell_type": "code",
   "execution_count": 56,
   "id": "29d2e708",
   "metadata": {},
   "outputs": [
    {
     "name": "stderr",
     "output_type": "stream",
     "text": [
      "/home/fragdata/.local/lib/python3.10/site-packages/sklearn/utils/deprecation.py:87: FutureWarning: Function plot_confusion_matrix is deprecated; Function `plot_confusion_matrix` is deprecated in 1.0 and will be removed in 1.2. Use one of the class methods: ConfusionMatrixDisplay.from_predictions or ConfusionMatrixDisplay.from_estimator.\n",
      "  warnings.warn(msg, category=FutureWarning)\n"
     ]
    },
    {
     "data": {
      "text/plain": [
       "<sklearn.metrics._plot.confusion_matrix.ConfusionMatrixDisplay at 0x7f2d62116620>"
      ]
     },
     "execution_count": 56,
     "metadata": {},
     "output_type": "execute_result"
    },
    {
     "data": {
      "image/png": "[encoded data removed]",
      "text/plain": [
       "<Figure size 432x288 with 2 Axes>"
      ]
     },
     "metadata": {
      "needs_background": "light"
     },
     "output_type": "display_data"
    }
   ],
   "source": [
    "plot_confusion_matrix(rfc, X_test, y_test)"
   ]
  },
  {
   "cell_type": "markdown",
   "id": "5d889851",
   "metadata": {},
   "source": [
    "On remarque qu'il y a en majorité des faux positifs, ce qui va dans le sens de notre précédente remarque."
   ]
  },
  {
   "cell_type": "markdown",
   "id": "bcdcac67",
   "metadata": {},
   "source": [
    "### Courbe ROC et AUC"
   ]
  },
  {
   "cell_type": "markdown",
   "id": "bece7140",
   "metadata": {},
   "source": [
    "Le code suivant est inspiré de : https://scikit-learn.org/stable/auto_examples/model_selection/plot_roc.html#sphx-glr-auto-examples-model-selection-plot-roc-py"
   ]
  },
  {
   "cell_type": "code",
   "execution_count": 57,
   "id": "38c8a176",
   "metadata": {},
   "outputs": [
    {
     "data": {
      "text/plain": [
       "(17865, 2)"
      ]
     },
     "execution_count": 57,
     "metadata": {},
     "output_type": "execute_result"
    }
   ],
   "source": [
    "probas = rfc.predict_proba(X_test)\n",
    "probas.shape"
   ]
  },
  {
   "cell_type": "code",
   "execution_count": 58,
   "id": "f15487b7",
   "metadata": {},
   "outputs": [
    {
     "data": {
      "text/plain": [
       "array([[0.64, 0.36],\n",
       "       [0.5 , 0.5 ],\n",
       "       [0.22, 0.78],\n",
       "       ...,\n",
       "       [0.46, 0.54],\n",
       "       [0.3 , 0.7 ],\n",
       "       [0.  , 1.  ]])"
      ]
     },
     "execution_count": 58,
     "metadata": {},
     "output_type": "execute_result"
    }
   ],
   "source": [
    "probas"
   ]
  },
  {
   "cell_type": "code",
   "execution_count": 59,
   "id": "235e1adc",
   "metadata": {},
   "outputs": [],
   "source": [
    "# [NLD]: Peut-être décrire ce que sont ces variables (fpr, tpr...) et pq on prend telle ou telle dimension  \n",
    "fpr = dict()\n",
    "tpr = dict()\n",
    "roc_auc = dict()\n",
    "fpr[0], tpr[0], _ = roc_curve(1-y_test, probas[:,0])\n",
    "roc_auc[0] = auc(fpr[0], tpr[0])\n",
    "\n",
    "fpr[1], tpr[1], _ = roc_curve(y_test, probas[:,1])\n",
    "roc_auc[1] = auc(fpr[1], tpr[1])\n"
   ]
  },
  {
   "cell_type": "markdown",
   "id": "9ee2ae19",
   "metadata": {},
   "source": [
    "<font color='green'>Les variables fpr, tpr, auc vont contenir les taux de faux positif et vrais positifs et valeurs d'aires sous la courbe ROC suivant les variations de probabilité de prédiction : ces métriques sont obtenues grâce à la fonction roc_curve, généralement pour d'autres classifieurs, on fournit directement la fonction de décision, mais une telle fonction n'est pas disponible avec une Random Forest, donc la fonction roc_curve fait varier le seuil en tenant compte de ces probas de prédiction.\n",
    "\n",
    "L'utilisation des clés 0 ou 1 correspond à la classe qu'on considère comme étant la classe positive (quand on parle de vrai/faux positif, par défaut il s'agit de 1). En considérant l'un puis l'autre comme positif, on est capable de tracer les 2 courbes TP en fonction de FP.</font>"
   ]
  },
  {
   "cell_type": "code",
   "execution_count": 60,
   "id": "c5495c69",
   "metadata": {},
   "outputs": [
    {
     "data": {
      "image/png": "[encoded data removed]",
      "text/plain": [
       "<Figure size 720x504 with 1 Axes>"
      ]
     },
     "metadata": {
      "needs_background": "light"
     },
     "output_type": "display_data"
    }
   ],
   "source": [
    "# [NLD]: Ah je reconnais, j'ai c/c le même  !!  \n",
    "plt.figure(figsize=(10,7))\n",
    "lw = 2\n",
    "colors = [\"darkorange\", \"navy\"]\n",
    "for k in range(2):\n",
    "    plt.plot(\n",
    "        fpr[k],\n",
    "        tpr[k],\n",
    "        color=colors[k],\n",
    "        lw=lw,\n",
    "        label=f\"ROC curve of class {k} (AUC = {roc_auc[k]:0.2f})\",\n",
    "    )\n",
    "plt.plot([0, 1], [0, 1], color=\"black\", lw=lw, linestyle=\"--\", label=\"Random Classifier\")\n",
    "plt.xlim([0.0, 1.0])\n",
    "plt.ylim([0.0, 1.05])\n",
    "plt.xlabel(\"False Positive Rate\")\n",
    "plt.ylabel(\"True Positive Rate\")\n",
    "plt.title(\"Receiver operating characteristic curve\")\n",
    "plt.legend(loc=\"lower right\")\n",
    "plt.show()"
   ]
  },
  {
   "cell_type": "markdown",
   "id": "a7545552",
   "metadata": {},
   "source": [
    "L'AUC est supérieure à 0.5 (aire sous la courbe noire), on peut déjà conclure que notre classifieur est bien meilleur qu'un aléatoire. Ensuite, les métriques sont égales pour la prédiction de la classe 0 et de la classe 1, du point de vue de l'AUC, on n'a donc pas classe qui semble privilégiée par la prédiction. \n",
    "\n",
    "## Pistes d'amélioration\n",
    "\n",
    "Les résultats sont très satisfaisant, mais on pourrait tenter d'améliorer notre approche en utiilisant des techniques sémantiques de NLP. Notamment via un word embedding des phrases (GloVe, BERT, Word2Vec ...) puis en utilisant un RNN ou autre modèle neuronal."
   ]
  }
 ],
 "metadata": {
  "kernelspec": {
   "display_name": "Python 3 (ipykernel)",
   "language": "python",
   "name": "python3"
  },
  "language_info": {
   "codemirror_mode": {
    "name": "ipython",
    "version": 3
   },
   "file_extension": ".py",
   "mimetype": "text/x-python",
   "name": "python",
   "nbconvert_exporter": "python",
   "pygments_lexer": "ipython3",
   "version": "3.10.6"
  },
  "vscode": {
   "interpreter": {
    "hash": "31f2aee4e71d21fbe5cf8b01ff0e069b9275f58929596ceb00d14d90e3e16cd6"
   }
  }
 },
 "nbformat": 4,
 "nbformat_minor": 5
}
