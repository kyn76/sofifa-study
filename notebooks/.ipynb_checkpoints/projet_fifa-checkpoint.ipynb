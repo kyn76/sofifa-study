{
 "cells": [
  {
   "cell_type": "markdown",
   "metadata": {},
   "source": [
    "# Projet : analyse des joueurs de Fifa 2022\n",
    "Auteur : Simon Decomble"
   ]
  },
  {
   "cell_type": "code",
   "execution_count": 1,
   "metadata": {},
   "outputs": [],
   "source": [
    "import numpy as np\n",
    "import matplotlib\n",
    "import matplotlib.pyplot as plt\n",
    "import pandas as pd\n",
    "import seaborn as sns\n",
    "import sklearn\n",
    "from sklearn.cluster import KMeans, SpectralClustering\n",
    "import importlib\n",
    "import sys\n",
    "from sklearn import metrics"
   ]
  },
  {
   "cell_type": "markdown",
   "metadata": {},
   "source": [
    "On écrit un module Python fifa avec un sous-module fifa_utils contenant des fonctions utiles au nettoyage des données ou traitement particuliers. Cela permet d'alléger le notebook, de séparer le code métier et potentiellement d'effectuer des tests."
   ]
  },
  {
   "cell_type": "code",
   "execution_count": 2,
   "metadata": {},
   "outputs": [],
   "source": [
    "sys.path.append(\"..\")\n",
    "from fifa import fifa_utils as ffu \n",
    "_ = importlib.reload(ffu) #pour reloader en cas de modification"
   ]
  },
  {
   "cell_type": "markdown",
   "metadata": {},
   "source": [
    "## Importation du dataset"
   ]
  },
  {
   "cell_type": "code",
   "execution_count": 3,
   "metadata": {},
   "outputs": [],
   "source": [
    "data = pd.read_csv(\"../data/players_22.csv\", low_memory=False)"
   ]
  },
  {
   "cell_type": "markdown",
   "metadata": {},
   "source": [
    "## 1ere observation"
   ]
  },
  {
   "cell_type": "code",
   "execution_count": 4,
   "metadata": {},
   "outputs": [
    {
     "data": {
      "text/html": [
       "<div>\n",
       "<style scoped>\n",
       "    .dataframe tbody tr th:only-of-type {\n",
       "        vertical-align: middle;\n",
       "    }\n",
       "\n",
       "    .dataframe tbody tr th {\n",
       "        vertical-align: top;\n",
       "    }\n",
       "\n",
       "    .dataframe thead th {\n",
       "        text-align: right;\n",
       "    }\n",
       "</style>\n",
       "<table border=\"1\" class=\"dataframe\">\n",
       "  <thead>\n",
       "    <tr style=\"text-align: right;\">\n",
       "      <th></th>\n",
       "      <th>sofifa_id</th>\n",
       "      <th>player_url</th>\n",
       "      <th>short_name</th>\n",
       "      <th>long_name</th>\n",
       "      <th>player_positions</th>\n",
       "      <th>overall</th>\n",
       "      <th>potential</th>\n",
       "      <th>value_eur</th>\n",
       "      <th>wage_eur</th>\n",
       "      <th>age</th>\n",
       "      <th>dob</th>\n",
       "      <th>height_cm</th>\n",
       "      <th>weight_kg</th>\n",
       "      <th>club_team_id</th>\n",
       "      <th>club_name</th>\n",
       "      <th>league_name</th>\n",
       "      <th>league_level</th>\n",
       "      <th>club_position</th>\n",
       "      <th>club_jersey_number</th>\n",
       "      <th>club_loaned_from</th>\n",
       "      <th>club_joined</th>\n",
       "      <th>club_contract_valid_until</th>\n",
       "      <th>nationality_id</th>\n",
       "      <th>nationality_name</th>\n",
       "      <th>nation_team_id</th>\n",
       "      <th>nation_position</th>\n",
       "      <th>nation_jersey_number</th>\n",
       "      <th>preferred_foot</th>\n",
       "      <th>weak_foot</th>\n",
       "      <th>skill_moves</th>\n",
       "      <th>international_reputation</th>\n",
       "      <th>work_rate</th>\n",
       "      <th>body_type</th>\n",
       "      <th>real_face</th>\n",
       "      <th>release_clause_eur</th>\n",
       "      <th>player_tags</th>\n",
       "      <th>player_traits</th>\n",
       "      <th>pace</th>\n",
       "      <th>shooting</th>\n",
       "      <th>passing</th>\n",
       "      <th>dribbling</th>\n",
       "      <th>defending</th>\n",
       "      <th>physic</th>\n",
       "      <th>attacking_crossing</th>\n",
       "      <th>attacking_finishing</th>\n",
       "      <th>attacking_heading_accuracy</th>\n",
       "      <th>attacking_short_passing</th>\n",
       "      <th>attacking_volleys</th>\n",
       "      <th>skill_dribbling</th>\n",
       "      <th>skill_curve</th>\n",
       "      <th>skill_fk_accuracy</th>\n",
       "      <th>skill_long_passing</th>\n",
       "      <th>skill_ball_control</th>\n",
       "      <th>movement_acceleration</th>\n",
       "      <th>movement_sprint_speed</th>\n",
       "      <th>movement_agility</th>\n",
       "      <th>movement_reactions</th>\n",
       "      <th>movement_balance</th>\n",
       "      <th>power_shot_power</th>\n",
       "      <th>power_jumping</th>\n",
       "      <th>power_stamina</th>\n",
       "      <th>power_strength</th>\n",
       "      <th>power_long_shots</th>\n",
       "      <th>mentality_aggression</th>\n",
       "      <th>mentality_interceptions</th>\n",
       "      <th>mentality_positioning</th>\n",
       "      <th>mentality_vision</th>\n",
       "      <th>mentality_penalties</th>\n",
       "      <th>mentality_composure</th>\n",
       "      <th>defending_marking_awareness</th>\n",
       "      <th>defending_standing_tackle</th>\n",
       "      <th>defending_sliding_tackle</th>\n",
       "      <th>goalkeeping_diving</th>\n",
       "      <th>goalkeeping_handling</th>\n",
       "      <th>goalkeeping_kicking</th>\n",
       "      <th>goalkeeping_positioning</th>\n",
       "      <th>goalkeeping_reflexes</th>\n",
       "      <th>goalkeeping_speed</th>\n",
       "      <th>ls</th>\n",
       "      <th>st</th>\n",
       "      <th>rs</th>\n",
       "      <th>lw</th>\n",
       "      <th>lf</th>\n",
       "      <th>cf</th>\n",
       "      <th>rf</th>\n",
       "      <th>rw</th>\n",
       "      <th>lam</th>\n",
       "      <th>cam</th>\n",
       "      <th>ram</th>\n",
       "      <th>lm</th>\n",
       "      <th>lcm</th>\n",
       "      <th>cm</th>\n",
       "      <th>rcm</th>\n",
       "      <th>rm</th>\n",
       "      <th>lwb</th>\n",
       "      <th>ldm</th>\n",
       "      <th>cdm</th>\n",
       "      <th>rdm</th>\n",
       "      <th>rwb</th>\n",
       "      <th>lb</th>\n",
       "      <th>lcb</th>\n",
       "      <th>cb</th>\n",
       "      <th>rcb</th>\n",
       "      <th>rb</th>\n",
       "      <th>gk</th>\n",
       "      <th>player_face_url</th>\n",
       "      <th>club_logo_url</th>\n",
       "      <th>club_flag_url</th>\n",
       "      <th>nation_logo_url</th>\n",
       "      <th>nation_flag_url</th>\n",
       "    </tr>\n",
       "  </thead>\n",
       "  <tbody>\n",
       "    <tr>\n",
       "      <th>0</th>\n",
       "      <td>158023</td>\n",
       "      <td>https://sofifa.com/player/158023/lionel-messi/...</td>\n",
       "      <td>L. Messi</td>\n",
       "      <td>Lionel Andrés Messi Cuccittini</td>\n",
       "      <td>RW, ST, CF</td>\n",
       "      <td>93</td>\n",
       "      <td>93</td>\n",
       "      <td>78000000.0</td>\n",
       "      <td>320000.0</td>\n",
       "      <td>34</td>\n",
       "      <td>1987-06-24</td>\n",
       "      <td>170</td>\n",
       "      <td>72</td>\n",
       "      <td>73.0</td>\n",
       "      <td>Paris Saint-Germain</td>\n",
       "      <td>French Ligue 1</td>\n",
       "      <td>1.0</td>\n",
       "      <td>RW</td>\n",
       "      <td>30.0</td>\n",
       "      <td>NaN</td>\n",
       "      <td>2021-08-10</td>\n",
       "      <td>2023.0</td>\n",
       "      <td>52</td>\n",
       "      <td>Argentina</td>\n",
       "      <td>1369.0</td>\n",
       "      <td>RW</td>\n",
       "      <td>10.0</td>\n",
       "      <td>Left</td>\n",
       "      <td>4</td>\n",
       "      <td>4</td>\n",
       "      <td>5</td>\n",
       "      <td>Medium/Low</td>\n",
       "      <td>Unique</td>\n",
       "      <td>Yes</td>\n",
       "      <td>144300000.0</td>\n",
       "      <td>#Dribbler, #Distance Shooter, #FK Specialist, ...</td>\n",
       "      <td>Finesse Shot, Long Shot Taker (AI), Playmaker ...</td>\n",
       "      <td>85.0</td>\n",
       "      <td>92.0</td>\n",
       "      <td>91.0</td>\n",
       "      <td>95.0</td>\n",
       "      <td>34.0</td>\n",
       "      <td>65.0</td>\n",
       "      <td>85</td>\n",
       "      <td>95</td>\n",
       "      <td>70</td>\n",
       "      <td>91</td>\n",
       "      <td>88</td>\n",
       "      <td>96</td>\n",
       "      <td>93</td>\n",
       "      <td>94</td>\n",
       "      <td>91</td>\n",
       "      <td>96</td>\n",
       "      <td>91</td>\n",
       "      <td>80</td>\n",
       "      <td>91</td>\n",
       "      <td>94</td>\n",
       "      <td>95</td>\n",
       "      <td>86</td>\n",
       "      <td>68</td>\n",
       "      <td>72</td>\n",
       "      <td>69</td>\n",
       "      <td>94</td>\n",
       "      <td>44</td>\n",
       "      <td>40</td>\n",
       "      <td>93</td>\n",
       "      <td>95</td>\n",
       "      <td>75</td>\n",
       "      <td>96</td>\n",
       "      <td>20</td>\n",
       "      <td>35</td>\n",
       "      <td>24</td>\n",
       "      <td>6</td>\n",
       "      <td>11</td>\n",
       "      <td>15</td>\n",
       "      <td>14</td>\n",
       "      <td>8</td>\n",
       "      <td>NaN</td>\n",
       "      <td>89+3</td>\n",
       "      <td>89+3</td>\n",
       "      <td>89+3</td>\n",
       "      <td>92</td>\n",
       "      <td>93</td>\n",
       "      <td>93</td>\n",
       "      <td>93</td>\n",
       "      <td>92</td>\n",
       "      <td>93</td>\n",
       "      <td>93</td>\n",
       "      <td>93</td>\n",
       "      <td>91+2</td>\n",
       "      <td>87+3</td>\n",
       "      <td>87+3</td>\n",
       "      <td>87+3</td>\n",
       "      <td>91+2</td>\n",
       "      <td>66+3</td>\n",
       "      <td>64+3</td>\n",
       "      <td>64+3</td>\n",
       "      <td>64+3</td>\n",
       "      <td>66+3</td>\n",
       "      <td>61+3</td>\n",
       "      <td>50+3</td>\n",
       "      <td>50+3</td>\n",
       "      <td>50+3</td>\n",
       "      <td>61+3</td>\n",
       "      <td>19+3</td>\n",
       "      <td>https://cdn.sofifa.net/players/158/023/22_120.png</td>\n",
       "      <td>https://cdn.sofifa.net/teams/73/60.png</td>\n",
       "      <td>https://cdn.sofifa.net/flags/fr.png</td>\n",
       "      <td>https://cdn.sofifa.net/teams/1369/60.png</td>\n",
       "      <td>https://cdn.sofifa.net/flags/ar.png</td>\n",
       "    </tr>\n",
       "    <tr>\n",
       "      <th>1</th>\n",
       "      <td>188545</td>\n",
       "      <td>https://sofifa.com/player/188545/robert-lewand...</td>\n",
       "      <td>R. Lewandowski</td>\n",
       "      <td>Robert Lewandowski</td>\n",
       "      <td>ST</td>\n",
       "      <td>92</td>\n",
       "      <td>92</td>\n",
       "      <td>119500000.0</td>\n",
       "      <td>270000.0</td>\n",
       "      <td>32</td>\n",
       "      <td>1988-08-21</td>\n",
       "      <td>185</td>\n",
       "      <td>81</td>\n",
       "      <td>21.0</td>\n",
       "      <td>FC Bayern München</td>\n",
       "      <td>German 1. Bundesliga</td>\n",
       "      <td>1.0</td>\n",
       "      <td>ST</td>\n",
       "      <td>9.0</td>\n",
       "      <td>NaN</td>\n",
       "      <td>2014-07-01</td>\n",
       "      <td>2023.0</td>\n",
       "      <td>37</td>\n",
       "      <td>Poland</td>\n",
       "      <td>1353.0</td>\n",
       "      <td>RS</td>\n",
       "      <td>9.0</td>\n",
       "      <td>Right</td>\n",
       "      <td>4</td>\n",
       "      <td>4</td>\n",
       "      <td>5</td>\n",
       "      <td>High/Medium</td>\n",
       "      <td>Unique</td>\n",
       "      <td>Yes</td>\n",
       "      <td>197200000.0</td>\n",
       "      <td>#Aerial Threat, #Distance Shooter, #Clinical F...</td>\n",
       "      <td>Solid Player, Finesse Shot, Outside Foot Shot,...</td>\n",
       "      <td>78.0</td>\n",
       "      <td>92.0</td>\n",
       "      <td>79.0</td>\n",
       "      <td>86.0</td>\n",
       "      <td>44.0</td>\n",
       "      <td>82.0</td>\n",
       "      <td>71</td>\n",
       "      <td>95</td>\n",
       "      <td>90</td>\n",
       "      <td>85</td>\n",
       "      <td>89</td>\n",
       "      <td>85</td>\n",
       "      <td>79</td>\n",
       "      <td>85</td>\n",
       "      <td>70</td>\n",
       "      <td>88</td>\n",
       "      <td>77</td>\n",
       "      <td>79</td>\n",
       "      <td>77</td>\n",
       "      <td>93</td>\n",
       "      <td>82</td>\n",
       "      <td>90</td>\n",
       "      <td>85</td>\n",
       "      <td>76</td>\n",
       "      <td>86</td>\n",
       "      <td>87</td>\n",
       "      <td>81</td>\n",
       "      <td>49</td>\n",
       "      <td>95</td>\n",
       "      <td>81</td>\n",
       "      <td>90</td>\n",
       "      <td>88</td>\n",
       "      <td>35</td>\n",
       "      <td>42</td>\n",
       "      <td>19</td>\n",
       "      <td>15</td>\n",
       "      <td>6</td>\n",
       "      <td>12</td>\n",
       "      <td>8</td>\n",
       "      <td>10</td>\n",
       "      <td>NaN</td>\n",
       "      <td>90+2</td>\n",
       "      <td>90+2</td>\n",
       "      <td>90+2</td>\n",
       "      <td>85</td>\n",
       "      <td>88</td>\n",
       "      <td>88</td>\n",
       "      <td>88</td>\n",
       "      <td>85</td>\n",
       "      <td>86+3</td>\n",
       "      <td>86+3</td>\n",
       "      <td>86+3</td>\n",
       "      <td>84+3</td>\n",
       "      <td>80+3</td>\n",
       "      <td>80+3</td>\n",
       "      <td>80+3</td>\n",
       "      <td>84+3</td>\n",
       "      <td>64+3</td>\n",
       "      <td>66+3</td>\n",
       "      <td>66+3</td>\n",
       "      <td>66+3</td>\n",
       "      <td>64+3</td>\n",
       "      <td>61+3</td>\n",
       "      <td>60+3</td>\n",
       "      <td>60+3</td>\n",
       "      <td>60+3</td>\n",
       "      <td>61+3</td>\n",
       "      <td>19+3</td>\n",
       "      <td>https://cdn.sofifa.net/players/188/545/22_120.png</td>\n",
       "      <td>https://cdn.sofifa.net/teams/21/60.png</td>\n",
       "      <td>https://cdn.sofifa.net/flags/de.png</td>\n",
       "      <td>https://cdn.sofifa.net/teams/1353/60.png</td>\n",
       "      <td>https://cdn.sofifa.net/flags/pl.png</td>\n",
       "    </tr>\n",
       "    <tr>\n",
       "      <th>2</th>\n",
       "      <td>20801</td>\n",
       "      <td>https://sofifa.com/player/20801/c-ronaldo-dos-...</td>\n",
       "      <td>Cristiano Ronaldo</td>\n",
       "      <td>Cristiano Ronaldo dos Santos Aveiro</td>\n",
       "      <td>ST, LW</td>\n",
       "      <td>91</td>\n",
       "      <td>91</td>\n",
       "      <td>45000000.0</td>\n",
       "      <td>270000.0</td>\n",
       "      <td>36</td>\n",
       "      <td>1985-02-05</td>\n",
       "      <td>187</td>\n",
       "      <td>83</td>\n",
       "      <td>11.0</td>\n",
       "      <td>Manchester United</td>\n",
       "      <td>English Premier League</td>\n",
       "      <td>1.0</td>\n",
       "      <td>ST</td>\n",
       "      <td>7.0</td>\n",
       "      <td>NaN</td>\n",
       "      <td>2021-08-27</td>\n",
       "      <td>2023.0</td>\n",
       "      <td>38</td>\n",
       "      <td>Portugal</td>\n",
       "      <td>1354.0</td>\n",
       "      <td>ST</td>\n",
       "      <td>7.0</td>\n",
       "      <td>Right</td>\n",
       "      <td>4</td>\n",
       "      <td>5</td>\n",
       "      <td>5</td>\n",
       "      <td>High/Low</td>\n",
       "      <td>Unique</td>\n",
       "      <td>Yes</td>\n",
       "      <td>83300000.0</td>\n",
       "      <td>#Aerial Threat, #Dribbler, #Distance Shooter, ...</td>\n",
       "      <td>Power Free-Kick, Flair, Long Shot Taker (AI), ...</td>\n",
       "      <td>87.0</td>\n",
       "      <td>94.0</td>\n",
       "      <td>80.0</td>\n",
       "      <td>88.0</td>\n",
       "      <td>34.0</td>\n",
       "      <td>75.0</td>\n",
       "      <td>87</td>\n",
       "      <td>95</td>\n",
       "      <td>90</td>\n",
       "      <td>80</td>\n",
       "      <td>86</td>\n",
       "      <td>88</td>\n",
       "      <td>81</td>\n",
       "      <td>84</td>\n",
       "      <td>77</td>\n",
       "      <td>88</td>\n",
       "      <td>85</td>\n",
       "      <td>88</td>\n",
       "      <td>86</td>\n",
       "      <td>94</td>\n",
       "      <td>74</td>\n",
       "      <td>94</td>\n",
       "      <td>95</td>\n",
       "      <td>77</td>\n",
       "      <td>77</td>\n",
       "      <td>93</td>\n",
       "      <td>63</td>\n",
       "      <td>29</td>\n",
       "      <td>95</td>\n",
       "      <td>76</td>\n",
       "      <td>88</td>\n",
       "      <td>95</td>\n",
       "      <td>24</td>\n",
       "      <td>32</td>\n",
       "      <td>24</td>\n",
       "      <td>7</td>\n",
       "      <td>11</td>\n",
       "      <td>15</td>\n",
       "      <td>14</td>\n",
       "      <td>11</td>\n",
       "      <td>NaN</td>\n",
       "      <td>90+1</td>\n",
       "      <td>90+1</td>\n",
       "      <td>90+1</td>\n",
       "      <td>88</td>\n",
       "      <td>89</td>\n",
       "      <td>89</td>\n",
       "      <td>89</td>\n",
       "      <td>88</td>\n",
       "      <td>86+3</td>\n",
       "      <td>86+3</td>\n",
       "      <td>86+3</td>\n",
       "      <td>86+3</td>\n",
       "      <td>78+3</td>\n",
       "      <td>78+3</td>\n",
       "      <td>78+3</td>\n",
       "      <td>86+3</td>\n",
       "      <td>63+3</td>\n",
       "      <td>59+3</td>\n",
       "      <td>59+3</td>\n",
       "      <td>59+3</td>\n",
       "      <td>63+3</td>\n",
       "      <td>60+3</td>\n",
       "      <td>53+3</td>\n",
       "      <td>53+3</td>\n",
       "      <td>53+3</td>\n",
       "      <td>60+3</td>\n",
       "      <td>20+3</td>\n",
       "      <td>https://cdn.sofifa.net/players/020/801/22_120.png</td>\n",
       "      <td>https://cdn.sofifa.net/teams/11/60.png</td>\n",
       "      <td>https://cdn.sofifa.net/flags/gb-eng.png</td>\n",
       "      <td>https://cdn.sofifa.net/teams/1354/60.png</td>\n",
       "      <td>https://cdn.sofifa.net/flags/pt.png</td>\n",
       "    </tr>\n",
       "  </tbody>\n",
       "</table>\n",
       "</div>"
      ],
      "text/plain": [
       "   sofifa_id                                         player_url  \\\n",
       "0     158023  https://sofifa.com/player/158023/lionel-messi/...   \n",
       "1     188545  https://sofifa.com/player/188545/robert-lewand...   \n",
       "2      20801  https://sofifa.com/player/20801/c-ronaldo-dos-...   \n",
       "\n",
       "          short_name                            long_name player_positions  \\\n",
       "0           L. Messi       Lionel Andrés Messi Cuccittini       RW, ST, CF   \n",
       "1     R. Lewandowski                   Robert Lewandowski               ST   \n",
       "2  Cristiano Ronaldo  Cristiano Ronaldo dos Santos Aveiro           ST, LW   \n",
       "\n",
       "   overall  potential    value_eur  wage_eur  age         dob  height_cm  \\\n",
       "0       93         93   78000000.0  320000.0   34  1987-06-24        170   \n",
       "1       92         92  119500000.0  270000.0   32  1988-08-21        185   \n",
       "2       91         91   45000000.0  270000.0   36  1985-02-05        187   \n",
       "\n",
       "   weight_kg  club_team_id            club_name             league_name  \\\n",
       "0         72          73.0  Paris Saint-Germain          French Ligue 1   \n",
       "1         81          21.0    FC Bayern München    German 1. Bundesliga   \n",
       "2         83          11.0    Manchester United  English Premier League   \n",
       "\n",
       "   league_level club_position  club_jersey_number club_loaned_from  \\\n",
       "0           1.0            RW                30.0              NaN   \n",
       "1           1.0            ST                 9.0              NaN   \n",
       "2           1.0            ST                 7.0              NaN   \n",
       "\n",
       "  club_joined  club_contract_valid_until  nationality_id nationality_name  \\\n",
       "0  2021-08-10                     2023.0              52        Argentina   \n",
       "1  2014-07-01                     2023.0              37           Poland   \n",
       "2  2021-08-27                     2023.0              38         Portugal   \n",
       "\n",
       "   nation_team_id nation_position  nation_jersey_number preferred_foot  \\\n",
       "0          1369.0              RW                  10.0           Left   \n",
       "1          1353.0              RS                   9.0          Right   \n",
       "2          1354.0              ST                   7.0          Right   \n",
       "\n",
       "   weak_foot  skill_moves  international_reputation    work_rate body_type  \\\n",
       "0          4            4                         5   Medium/Low    Unique   \n",
       "1          4            4                         5  High/Medium    Unique   \n",
       "2          4            5                         5     High/Low    Unique   \n",
       "\n",
       "  real_face  release_clause_eur  \\\n",
       "0       Yes         144300000.0   \n",
       "1       Yes         197200000.0   \n",
       "2       Yes          83300000.0   \n",
       "\n",
       "                                         player_tags  \\\n",
       "0  #Dribbler, #Distance Shooter, #FK Specialist, ...   \n",
       "1  #Aerial Threat, #Distance Shooter, #Clinical F...   \n",
       "2  #Aerial Threat, #Dribbler, #Distance Shooter, ...   \n",
       "\n",
       "                                       player_traits  pace  shooting  passing  \\\n",
       "0  Finesse Shot, Long Shot Taker (AI), Playmaker ...  85.0      92.0     91.0   \n",
       "1  Solid Player, Finesse Shot, Outside Foot Shot,...  78.0      92.0     79.0   \n",
       "2  Power Free-Kick, Flair, Long Shot Taker (AI), ...  87.0      94.0     80.0   \n",
       "\n",
       "   dribbling  defending  physic  attacking_crossing  attacking_finishing  \\\n",
       "0       95.0       34.0    65.0                  85                   95   \n",
       "1       86.0       44.0    82.0                  71                   95   \n",
       "2       88.0       34.0    75.0                  87                   95   \n",
       "\n",
       "   attacking_heading_accuracy  attacking_short_passing  attacking_volleys  \\\n",
       "0                          70                       91                 88   \n",
       "1                          90                       85                 89   \n",
       "2                          90                       80                 86   \n",
       "\n",
       "   skill_dribbling  skill_curve  skill_fk_accuracy  skill_long_passing  \\\n",
       "0               96           93                 94                  91   \n",
       "1               85           79                 85                  70   \n",
       "2               88           81                 84                  77   \n",
       "\n",
       "   skill_ball_control  movement_acceleration  movement_sprint_speed  \\\n",
       "0                  96                     91                     80   \n",
       "1                  88                     77                     79   \n",
       "2                  88                     85                     88   \n",
       "\n",
       "   movement_agility  movement_reactions  movement_balance  power_shot_power  \\\n",
       "0                91                  94                95                86   \n",
       "1                77                  93                82                90   \n",
       "2                86                  94                74                94   \n",
       "\n",
       "   power_jumping  power_stamina  power_strength  power_long_shots  \\\n",
       "0             68             72              69                94   \n",
       "1             85             76              86                87   \n",
       "2             95             77              77                93   \n",
       "\n",
       "   mentality_aggression  mentality_interceptions  mentality_positioning  \\\n",
       "0                    44                       40                     93   \n",
       "1                    81                       49                     95   \n",
       "2                    63                       29                     95   \n",
       "\n",
       "   mentality_vision  mentality_penalties  mentality_composure  \\\n",
       "0                95                   75                   96   \n",
       "1                81                   90                   88   \n",
       "2                76                   88                   95   \n",
       "\n",
       "   defending_marking_awareness  defending_standing_tackle  \\\n",
       "0                           20                         35   \n",
       "1                           35                         42   \n",
       "2                           24                         32   \n",
       "\n",
       "   defending_sliding_tackle  goalkeeping_diving  goalkeeping_handling  \\\n",
       "0                        24                   6                    11   \n",
       "1                        19                  15                     6   \n",
       "2                        24                   7                    11   \n",
       "\n",
       "   goalkeeping_kicking  goalkeeping_positioning  goalkeeping_reflexes  \\\n",
       "0                   15                       14                     8   \n",
       "1                   12                        8                    10   \n",
       "2                   15                       14                    11   \n",
       "\n",
       "   goalkeeping_speed    ls    st    rs  lw  lf  cf  rf  rw   lam   cam   ram  \\\n",
       "0                NaN  89+3  89+3  89+3  92  93  93  93  92    93    93    93   \n",
       "1                NaN  90+2  90+2  90+2  85  88  88  88  85  86+3  86+3  86+3   \n",
       "2                NaN  90+1  90+1  90+1  88  89  89  89  88  86+3  86+3  86+3   \n",
       "\n",
       "     lm   lcm    cm   rcm    rm   lwb   ldm   cdm   rdm   rwb    lb   lcb  \\\n",
       "0  91+2  87+3  87+3  87+3  91+2  66+3  64+3  64+3  64+3  66+3  61+3  50+3   \n",
       "1  84+3  80+3  80+3  80+3  84+3  64+3  66+3  66+3  66+3  64+3  61+3  60+3   \n",
       "2  86+3  78+3  78+3  78+3  86+3  63+3  59+3  59+3  59+3  63+3  60+3  53+3   \n",
       "\n",
       "     cb   rcb    rb    gk                                    player_face_url  \\\n",
       "0  50+3  50+3  61+3  19+3  https://cdn.sofifa.net/players/158/023/22_120.png   \n",
       "1  60+3  60+3  61+3  19+3  https://cdn.sofifa.net/players/188/545/22_120.png   \n",
       "2  53+3  53+3  60+3  20+3  https://cdn.sofifa.net/players/020/801/22_120.png   \n",
       "\n",
       "                            club_logo_url  \\\n",
       "0  https://cdn.sofifa.net/teams/73/60.png   \n",
       "1  https://cdn.sofifa.net/teams/21/60.png   \n",
       "2  https://cdn.sofifa.net/teams/11/60.png   \n",
       "\n",
       "                             club_flag_url  \\\n",
       "0      https://cdn.sofifa.net/flags/fr.png   \n",
       "1      https://cdn.sofifa.net/flags/de.png   \n",
       "2  https://cdn.sofifa.net/flags/gb-eng.png   \n",
       "\n",
       "                            nation_logo_url  \\\n",
       "0  https://cdn.sofifa.net/teams/1369/60.png   \n",
       "1  https://cdn.sofifa.net/teams/1353/60.png   \n",
       "2  https://cdn.sofifa.net/teams/1354/60.png   \n",
       "\n",
       "                       nation_flag_url  \n",
       "0  https://cdn.sofifa.net/flags/ar.png  \n",
       "1  https://cdn.sofifa.net/flags/pl.png  \n",
       "2  https://cdn.sofifa.net/flags/pt.png  "
      ]
     },
     "execution_count": 4,
     "metadata": {},
     "output_type": "execute_result"
    }
   ],
   "source": [
    "df = data.copy()\n",
    "pd.set_option('display.max_columns', None)\n",
    "df.head(3)"
   ]
  },
  {
   "cell_type": "code",
   "execution_count": 5,
   "metadata": {},
   "outputs": [
    {
     "data": {
      "text/plain": [
       "(19239, 110)"
      ]
     },
     "execution_count": 5,
     "metadata": {},
     "output_type": "execute_result"
    }
   ],
   "source": [
    "df.shape"
   ]
  },
  {
   "cell_type": "markdown",
   "metadata": {},
   "source": [
    "Le dataset brut contient 19 239 lignes et 110 colonnes."
   ]
  },
  {
   "cell_type": "markdown",
   "metadata": {},
   "source": [
    "## 1. Analyse descriptive des données"
   ]
  },
  {
   "cell_type": "markdown",
   "metadata": {},
   "source": [
    "## 1.2 Préparation des données"
   ]
  },
  {
   "cell_type": "markdown",
   "metadata": {},
   "source": [
    "### Suppression initiale de colonnes"
   ]
  },
  {
   "cell_type": "markdown",
   "metadata": {},
   "source": [
    "On supprime les colonnes qui ne nous serviront nécessairement pas à l'analyse, ex : images, liens, redondances (noms inutiles puisqu'on a un id correspondant), positions en équipe nationale (puisqu'on ne garde que la première position)."
   ]
  },
  {
   "cell_type": "code",
   "execution_count": 6,
   "metadata": {},
   "outputs": [],
   "source": [
    "obvious_drops = [\"player_url\", \"short_name\", \"long_name\", \"dob\", \"club_name\", \"league_name\", \"club_position\", \"club_jersey_number\", \"club_loaned_from\", \"club_joined\", \"club_contract_valid_until\", \"nationality_name\", \"nation_position\", \"nation_jersey_number\", \"work_rate\", \"body_type\", \"real_face\", \"release_clause_eur\", \"player_tags\", \"player_traits\", \"player_face_url\", \"club_logo_url\", \"club_flag_url\", \"nation_logo_url\", \"nation_flag_url\"]"
   ]
  },
  {
   "cell_type": "code",
   "execution_count": 7,
   "metadata": {},
   "outputs": [],
   "source": [
    "df = df.drop(obvious_drops, axis=1)"
   ]
  },
  {
   "cell_type": "markdown",
   "metadata": {},
   "source": [
    "### Position des joueurs"
   ]
  },
  {
   "cell_type": "markdown",
   "metadata": {},
   "source": [
    "On ne garde que la première position du joueur. On réalise donc ce traitement sur l'ensemble des lignes."
   ]
  },
  {
   "cell_type": "code",
   "execution_count": 8,
   "metadata": {},
   "outputs": [],
   "source": [
    "df[\"player_position\"] = df[\"player_positions\"].map(ffu.keep_first_pos)\n",
    "df = df.drop([\"player_positions\"], axis=1)"
   ]
  },
  {
   "cell_type": "markdown",
   "metadata": {},
   "source": [
    "On change la granularité des positions de joueurs, pour ne garder que 4 valeurs \"GK\" pour goal, \"DEF\" pour les défenseurs, \"MID\" pour les milieux, \"FWD\" pour les attaquants."
   ]
  },
  {
   "cell_type": "code",
   "execution_count": 9,
   "metadata": {},
   "outputs": [
    {
     "data": {
      "text/plain": [
       "array(['RW', 'ST', 'LW', 'CM', 'GK', 'CDM', 'CF', 'LM', 'CB', 'CAM', 'LB',\n",
       "       'RB', 'RM', 'LWB', 'RWB'], dtype=object)"
      ]
     },
     "execution_count": 9,
     "metadata": {},
     "output_type": "execute_result"
    }
   ],
   "source": [
    "df[\"player_position\"].unique() #toutes les positions du dataset"
   ]
  },
  {
   "cell_type": "code",
   "execution_count": 10,
   "metadata": {},
   "outputs": [],
   "source": [
    "df[\"player_position\"] = df[\"player_position\"].map(ffu.set_global_position)\n"
   ]
  },
  {
   "cell_type": "code",
   "execution_count": 11,
   "metadata": {},
   "outputs": [
    {
     "data": {
      "text/plain": [
       "array(['FWD', 'MID', 'GK', 'DEF'], dtype=object)"
      ]
     },
     "execution_count": 11,
     "metadata": {},
     "output_type": "execute_result"
    }
   ],
   "source": [
    "df[\"player_position\"].unique() #toutes les positions du dataset"
   ]
  },
  {
   "cell_type": "markdown",
   "metadata": {},
   "source": [
    "### Age des joueurs"
   ]
  },
  {
   "cell_type": "markdown",
   "metadata": {},
   "source": [
    "On créé des groupes d'âge : -20, 20-25, 25-30, 30-35, 35+, ce qui est plus pertinent pour traiter un attribut d'âge."
   ]
  },
  {
   "cell_type": "code",
   "execution_count": 12,
   "metadata": {},
   "outputs": [],
   "source": [
    "df[\"age\"] = df[\"age\"].map(ffu.classify_age)"
   ]
  },
  {
   "cell_type": "code",
   "execution_count": 13,
   "metadata": {},
   "outputs": [
    {
     "data": {
      "text/plain": [
       "array(['30-35', '+35', '25-30', '20-25', '-20'], dtype=object)"
      ]
     },
     "execution_count": 13,
     "metadata": {},
     "output_type": "execute_result"
    }
   ],
   "source": [
    "df[\"age\"].unique()"
   ]
  },
  {
   "cell_type": "markdown",
   "metadata": {},
   "source": [
    "### Stats des joueurs"
   ]
  },
  {
   "cell_type": "markdown",
   "metadata": {},
   "source": [
    "On détecte les colonnes susceptibles de contenir des \"+/- \\<nombre\\>\" à enlever, c'est à dire les colonnes du type object contenant des + ou -."
   ]
  },
  {
   "cell_type": "code",
   "execution_count": 14,
   "metadata": {},
   "outputs": [
    {
     "name": "stdout",
     "output_type": "stream",
     "text": [
      "['age', 'ls', 'st', 'rs', 'lw', 'lf', 'cf', 'rf', 'rw', 'lam', 'cam', 'ram', 'lm', 'lcm', 'cm', 'rcm', 'rm', 'lwb', 'ldm', 'cdm', 'rdm', 'rwb', 'lb', 'lcb', 'cb', 'rcb', 'rb', 'gk']\n"
     ]
    }
   ],
   "source": [
    "plus_minus_columns = []\n",
    "for column in df.columns:\n",
    "    if df[column].dtype == \"object\":\n",
    "        values = df[column].unique()\n",
    "        for value in values:\n",
    "            if \"+\" in value or \"-\" in value:\n",
    "                plus_minus_columns.append(column)\n",
    "                break\n",
    "print(plus_minus_columns)"
   ]
  },
  {
   "cell_type": "markdown",
   "metadata": {},
   "source": [
    "On retire la colonne \"age\" de cet ensemble car c'est notre traitement précédent qui a mis un \"-\" dans les noms de classes de cet attribut."
   ]
  },
  {
   "cell_type": "code",
   "execution_count": 15,
   "metadata": {},
   "outputs": [],
   "source": [
    "plus_minus_columns.remove(\"age\")"
   ]
  },
  {
   "cell_type": "markdown",
   "metadata": {},
   "source": [
    "On supprime de ces colonnes détectées les valeurs après le +/-, puis on convertit les valeurs en entier."
   ]
  },
  {
   "cell_type": "code",
   "execution_count": 16,
   "metadata": {},
   "outputs": [
    {
     "data": {
      "text/plain": [
       "12"
      ]
     },
     "execution_count": 16,
     "metadata": {},
     "output_type": "execute_result"
    }
   ],
   "source": [
    "# exemple du traitement :\n",
    "ffu.format_stat(\"12+4\")"
   ]
  },
  {
   "cell_type": "code",
   "execution_count": 17,
   "metadata": {},
   "outputs": [],
   "source": [
    "for column in plus_minus_columns:\n",
    "    df[column] = df[column].map(ffu.format_stat)"
   ]
  },
  {
   "cell_type": "code",
   "execution_count": 18,
   "metadata": {},
   "outputs": [
    {
     "data": {
      "text/html": [
       "<div>\n",
       "<style scoped>\n",
       "    .dataframe tbody tr th:only-of-type {\n",
       "        vertical-align: middle;\n",
       "    }\n",
       "\n",
       "    .dataframe tbody tr th {\n",
       "        vertical-align: top;\n",
       "    }\n",
       "\n",
       "    .dataframe thead th {\n",
       "        text-align: right;\n",
       "    }\n",
       "</style>\n",
       "<table border=\"1\" class=\"dataframe\">\n",
       "  <thead>\n",
       "    <tr style=\"text-align: right;\">\n",
       "      <th></th>\n",
       "      <th>ls</th>\n",
       "      <th>st</th>\n",
       "      <th>rs</th>\n",
       "      <th>lw</th>\n",
       "      <th>lf</th>\n",
       "      <th>cf</th>\n",
       "      <th>rf</th>\n",
       "      <th>rw</th>\n",
       "      <th>lam</th>\n",
       "      <th>cam</th>\n",
       "      <th>ram</th>\n",
       "      <th>lm</th>\n",
       "      <th>lcm</th>\n",
       "      <th>cm</th>\n",
       "      <th>rcm</th>\n",
       "      <th>rm</th>\n",
       "      <th>lwb</th>\n",
       "      <th>ldm</th>\n",
       "      <th>cdm</th>\n",
       "      <th>rdm</th>\n",
       "      <th>rwb</th>\n",
       "      <th>lb</th>\n",
       "      <th>lcb</th>\n",
       "      <th>cb</th>\n",
       "      <th>rcb</th>\n",
       "      <th>rb</th>\n",
       "      <th>gk</th>\n",
       "    </tr>\n",
       "  </thead>\n",
       "  <tbody>\n",
       "    <tr>\n",
       "      <th>0</th>\n",
       "      <td>89</td>\n",
       "      <td>89</td>\n",
       "      <td>89</td>\n",
       "      <td>92</td>\n",
       "      <td>93</td>\n",
       "      <td>93</td>\n",
       "      <td>93</td>\n",
       "      <td>92</td>\n",
       "      <td>93</td>\n",
       "      <td>93</td>\n",
       "      <td>93</td>\n",
       "      <td>91</td>\n",
       "      <td>87</td>\n",
       "      <td>87</td>\n",
       "      <td>87</td>\n",
       "      <td>91</td>\n",
       "      <td>66</td>\n",
       "      <td>64</td>\n",
       "      <td>64</td>\n",
       "      <td>64</td>\n",
       "      <td>66</td>\n",
       "      <td>61</td>\n",
       "      <td>50</td>\n",
       "      <td>50</td>\n",
       "      <td>50</td>\n",
       "      <td>61</td>\n",
       "      <td>19</td>\n",
       "    </tr>\n",
       "    <tr>\n",
       "      <th>1</th>\n",
       "      <td>90</td>\n",
       "      <td>90</td>\n",
       "      <td>90</td>\n",
       "      <td>85</td>\n",
       "      <td>88</td>\n",
       "      <td>88</td>\n",
       "      <td>88</td>\n",
       "      <td>85</td>\n",
       "      <td>86</td>\n",
       "      <td>86</td>\n",
       "      <td>86</td>\n",
       "      <td>84</td>\n",
       "      <td>80</td>\n",
       "      <td>80</td>\n",
       "      <td>80</td>\n",
       "      <td>84</td>\n",
       "      <td>64</td>\n",
       "      <td>66</td>\n",
       "      <td>66</td>\n",
       "      <td>66</td>\n",
       "      <td>64</td>\n",
       "      <td>61</td>\n",
       "      <td>60</td>\n",
       "      <td>60</td>\n",
       "      <td>60</td>\n",
       "      <td>61</td>\n",
       "      <td>19</td>\n",
       "    </tr>\n",
       "    <tr>\n",
       "      <th>2</th>\n",
       "      <td>90</td>\n",
       "      <td>90</td>\n",
       "      <td>90</td>\n",
       "      <td>88</td>\n",
       "      <td>89</td>\n",
       "      <td>89</td>\n",
       "      <td>89</td>\n",
       "      <td>88</td>\n",
       "      <td>86</td>\n",
       "      <td>86</td>\n",
       "      <td>86</td>\n",
       "      <td>86</td>\n",
       "      <td>78</td>\n",
       "      <td>78</td>\n",
       "      <td>78</td>\n",
       "      <td>86</td>\n",
       "      <td>63</td>\n",
       "      <td>59</td>\n",
       "      <td>59</td>\n",
       "      <td>59</td>\n",
       "      <td>63</td>\n",
       "      <td>60</td>\n",
       "      <td>53</td>\n",
       "      <td>53</td>\n",
       "      <td>53</td>\n",
       "      <td>60</td>\n",
       "      <td>20</td>\n",
       "    </tr>\n",
       "    <tr>\n",
       "      <th>3</th>\n",
       "      <td>83</td>\n",
       "      <td>83</td>\n",
       "      <td>83</td>\n",
       "      <td>90</td>\n",
       "      <td>88</td>\n",
       "      <td>88</td>\n",
       "      <td>88</td>\n",
       "      <td>90</td>\n",
       "      <td>89</td>\n",
       "      <td>89</td>\n",
       "      <td>89</td>\n",
       "      <td>89</td>\n",
       "      <td>82</td>\n",
       "      <td>82</td>\n",
       "      <td>82</td>\n",
       "      <td>89</td>\n",
       "      <td>67</td>\n",
       "      <td>63</td>\n",
       "      <td>63</td>\n",
       "      <td>63</td>\n",
       "      <td>67</td>\n",
       "      <td>62</td>\n",
       "      <td>50</td>\n",
       "      <td>50</td>\n",
       "      <td>50</td>\n",
       "      <td>62</td>\n",
       "      <td>20</td>\n",
       "    </tr>\n",
       "    <tr>\n",
       "      <th>4</th>\n",
       "      <td>83</td>\n",
       "      <td>83</td>\n",
       "      <td>83</td>\n",
       "      <td>88</td>\n",
       "      <td>87</td>\n",
       "      <td>87</td>\n",
       "      <td>87</td>\n",
       "      <td>88</td>\n",
       "      <td>89</td>\n",
       "      <td>89</td>\n",
       "      <td>89</td>\n",
       "      <td>89</td>\n",
       "      <td>89</td>\n",
       "      <td>89</td>\n",
       "      <td>89</td>\n",
       "      <td>89</td>\n",
       "      <td>79</td>\n",
       "      <td>80</td>\n",
       "      <td>80</td>\n",
       "      <td>80</td>\n",
       "      <td>79</td>\n",
       "      <td>75</td>\n",
       "      <td>69</td>\n",
       "      <td>69</td>\n",
       "      <td>69</td>\n",
       "      <td>75</td>\n",
       "      <td>21</td>\n",
       "    </tr>\n",
       "    <tr>\n",
       "      <th>...</th>\n",
       "      <td>...</td>\n",
       "      <td>...</td>\n",
       "      <td>...</td>\n",
       "      <td>...</td>\n",
       "      <td>...</td>\n",
       "      <td>...</td>\n",
       "      <td>...</td>\n",
       "      <td>...</td>\n",
       "      <td>...</td>\n",
       "      <td>...</td>\n",
       "      <td>...</td>\n",
       "      <td>...</td>\n",
       "      <td>...</td>\n",
       "      <td>...</td>\n",
       "      <td>...</td>\n",
       "      <td>...</td>\n",
       "      <td>...</td>\n",
       "      <td>...</td>\n",
       "      <td>...</td>\n",
       "      <td>...</td>\n",
       "      <td>...</td>\n",
       "      <td>...</td>\n",
       "      <td>...</td>\n",
       "      <td>...</td>\n",
       "      <td>...</td>\n",
       "      <td>...</td>\n",
       "      <td>...</td>\n",
       "    </tr>\n",
       "    <tr>\n",
       "      <th>19234</th>\n",
       "      <td>44</td>\n",
       "      <td>44</td>\n",
       "      <td>44</td>\n",
       "      <td>46</td>\n",
       "      <td>45</td>\n",
       "      <td>45</td>\n",
       "      <td>45</td>\n",
       "      <td>46</td>\n",
       "      <td>46</td>\n",
       "      <td>46</td>\n",
       "      <td>46</td>\n",
       "      <td>47</td>\n",
       "      <td>46</td>\n",
       "      <td>46</td>\n",
       "      <td>46</td>\n",
       "      <td>47</td>\n",
       "      <td>48</td>\n",
       "      <td>46</td>\n",
       "      <td>46</td>\n",
       "      <td>46</td>\n",
       "      <td>48</td>\n",
       "      <td>48</td>\n",
       "      <td>46</td>\n",
       "      <td>46</td>\n",
       "      <td>46</td>\n",
       "      <td>48</td>\n",
       "      <td>15</td>\n",
       "    </tr>\n",
       "    <tr>\n",
       "      <th>19235</th>\n",
       "      <td>45</td>\n",
       "      <td>45</td>\n",
       "      <td>45</td>\n",
       "      <td>47</td>\n",
       "      <td>46</td>\n",
       "      <td>46</td>\n",
       "      <td>46</td>\n",
       "      <td>47</td>\n",
       "      <td>47</td>\n",
       "      <td>47</td>\n",
       "      <td>47</td>\n",
       "      <td>49</td>\n",
       "      <td>47</td>\n",
       "      <td>47</td>\n",
       "      <td>47</td>\n",
       "      <td>49</td>\n",
       "      <td>49</td>\n",
       "      <td>46</td>\n",
       "      <td>46</td>\n",
       "      <td>46</td>\n",
       "      <td>49</td>\n",
       "      <td>48</td>\n",
       "      <td>44</td>\n",
       "      <td>44</td>\n",
       "      <td>44</td>\n",
       "      <td>48</td>\n",
       "      <td>14</td>\n",
       "    </tr>\n",
       "    <tr>\n",
       "      <th>19236</th>\n",
       "      <td>45</td>\n",
       "      <td>45</td>\n",
       "      <td>45</td>\n",
       "      <td>46</td>\n",
       "      <td>46</td>\n",
       "      <td>46</td>\n",
       "      <td>46</td>\n",
       "      <td>46</td>\n",
       "      <td>47</td>\n",
       "      <td>47</td>\n",
       "      <td>47</td>\n",
       "      <td>48</td>\n",
       "      <td>47</td>\n",
       "      <td>47</td>\n",
       "      <td>47</td>\n",
       "      <td>48</td>\n",
       "      <td>47</td>\n",
       "      <td>46</td>\n",
       "      <td>46</td>\n",
       "      <td>46</td>\n",
       "      <td>47</td>\n",
       "      <td>47</td>\n",
       "      <td>45</td>\n",
       "      <td>45</td>\n",
       "      <td>45</td>\n",
       "      <td>47</td>\n",
       "      <td>12</td>\n",
       "    </tr>\n",
       "    <tr>\n",
       "      <th>19237</th>\n",
       "      <td>47</td>\n",
       "      <td>47</td>\n",
       "      <td>47</td>\n",
       "      <td>47</td>\n",
       "      <td>47</td>\n",
       "      <td>47</td>\n",
       "      <td>47</td>\n",
       "      <td>47</td>\n",
       "      <td>45</td>\n",
       "      <td>45</td>\n",
       "      <td>45</td>\n",
       "      <td>45</td>\n",
       "      <td>39</td>\n",
       "      <td>39</td>\n",
       "      <td>39</td>\n",
       "      <td>45</td>\n",
       "      <td>33</td>\n",
       "      <td>29</td>\n",
       "      <td>29</td>\n",
       "      <td>29</td>\n",
       "      <td>33</td>\n",
       "      <td>32</td>\n",
       "      <td>26</td>\n",
       "      <td>26</td>\n",
       "      <td>26</td>\n",
       "      <td>32</td>\n",
       "      <td>15</td>\n",
       "    </tr>\n",
       "    <tr>\n",
       "      <th>19238</th>\n",
       "      <td>45</td>\n",
       "      <td>45</td>\n",
       "      <td>45</td>\n",
       "      <td>47</td>\n",
       "      <td>47</td>\n",
       "      <td>47</td>\n",
       "      <td>47</td>\n",
       "      <td>47</td>\n",
       "      <td>47</td>\n",
       "      <td>47</td>\n",
       "      <td>47</td>\n",
       "      <td>48</td>\n",
       "      <td>46</td>\n",
       "      <td>46</td>\n",
       "      <td>46</td>\n",
       "      <td>48</td>\n",
       "      <td>45</td>\n",
       "      <td>44</td>\n",
       "      <td>44</td>\n",
       "      <td>44</td>\n",
       "      <td>45</td>\n",
       "      <td>45</td>\n",
       "      <td>41</td>\n",
       "      <td>41</td>\n",
       "      <td>41</td>\n",
       "      <td>45</td>\n",
       "      <td>16</td>\n",
       "    </tr>\n",
       "  </tbody>\n",
       "</table>\n",
       "<p>19239 rows × 27 columns</p>\n",
       "</div>"
      ],
      "text/plain": [
       "       ls  st  rs  lw  lf  cf  rf  rw  lam  cam  ram  lm  lcm  cm  rcm  rm  \\\n",
       "0      89  89  89  92  93  93  93  92   93   93   93  91   87  87   87  91   \n",
       "1      90  90  90  85  88  88  88  85   86   86   86  84   80  80   80  84   \n",
       "2      90  90  90  88  89  89  89  88   86   86   86  86   78  78   78  86   \n",
       "3      83  83  83  90  88  88  88  90   89   89   89  89   82  82   82  89   \n",
       "4      83  83  83  88  87  87  87  88   89   89   89  89   89  89   89  89   \n",
       "...    ..  ..  ..  ..  ..  ..  ..  ..  ...  ...  ...  ..  ...  ..  ...  ..   \n",
       "19234  44  44  44  46  45  45  45  46   46   46   46  47   46  46   46  47   \n",
       "19235  45  45  45  47  46  46  46  47   47   47   47  49   47  47   47  49   \n",
       "19236  45  45  45  46  46  46  46  46   47   47   47  48   47  47   47  48   \n",
       "19237  47  47  47  47  47  47  47  47   45   45   45  45   39  39   39  45   \n",
       "19238  45  45  45  47  47  47  47  47   47   47   47  48   46  46   46  48   \n",
       "\n",
       "       lwb  ldm  cdm  rdm  rwb  lb  lcb  cb  rcb  rb  gk  \n",
       "0       66   64   64   64   66  61   50  50   50  61  19  \n",
       "1       64   66   66   66   64  61   60  60   60  61  19  \n",
       "2       63   59   59   59   63  60   53  53   53  60  20  \n",
       "3       67   63   63   63   67  62   50  50   50  62  20  \n",
       "4       79   80   80   80   79  75   69  69   69  75  21  \n",
       "...    ...  ...  ...  ...  ...  ..  ...  ..  ...  ..  ..  \n",
       "19234   48   46   46   46   48  48   46  46   46  48  15  \n",
       "19235   49   46   46   46   49  48   44  44   44  48  14  \n",
       "19236   47   46   46   46   47  47   45  45   45  47  12  \n",
       "19237   33   29   29   29   33  32   26  26   26  32  15  \n",
       "19238   45   44   44   44   45  45   41  41   41  45  16  \n",
       "\n",
       "[19239 rows x 27 columns]"
      ]
     },
     "execution_count": 18,
     "metadata": {},
     "output_type": "execute_result"
    }
   ],
   "source": [
    "df[plus_minus_columns]"
   ]
  },
  {
   "cell_type": "markdown",
   "metadata": {},
   "source": [
    "### IMC des joueurs"
   ]
  },
  {
   "cell_type": "markdown",
   "metadata": {},
   "source": [
    "Les masses des joueurs sont toutes formatées en kg, les tailles en cm, on convertit les tailles en m pour le calcul de l'IMC (indice de masse corporelle)."
   ]
  },
  {
   "cell_type": "code",
   "execution_count": 19,
   "metadata": {},
   "outputs": [],
   "source": [
    "df[\"height_m\"] = df[\"height_cm\"].map(ffu.convert_cm_to_m)\n",
    "df = df.drop(\"height_cm\", axis=1)"
   ]
  },
  {
   "cell_type": "markdown",
   "metadata": {},
   "source": [
    "On créé un attribut BMI, body mass index, qui correspond à l'IMC des joueurs : \n",
    "$$\\frac{poids}{taille^2}$$\n",
    "\n",
    "poids en $kg$  \n",
    "taille en $m^2$"
   ]
  },
  {
   "cell_type": "code",
   "execution_count": 20,
   "metadata": {},
   "outputs": [],
   "source": [
    "df[\"BMI\"] = df[\"weight_kg\"] / df[\"height_m\"]**2"
   ]
  },
  {
   "cell_type": "markdown",
   "metadata": {},
   "source": [
    "On supprime les colonnes de masse et taille puisque l'IMC porte ces informations et on cherche à éviter les features corrélées."
   ]
  },
  {
   "cell_type": "code",
   "execution_count": 21,
   "metadata": {},
   "outputs": [],
   "source": [
    "df = df.drop([\"weight_kg\", \"height_m\"], axis=1)"
   ]
  },
  {
   "cell_type": "code",
   "execution_count": 22,
   "metadata": {},
   "outputs": [
    {
     "data": {
      "text/html": [
       "<div>\n",
       "<style scoped>\n",
       "    .dataframe tbody tr th:only-of-type {\n",
       "        vertical-align: middle;\n",
       "    }\n",
       "\n",
       "    .dataframe tbody tr th {\n",
       "        vertical-align: top;\n",
       "    }\n",
       "\n",
       "    .dataframe thead th {\n",
       "        text-align: right;\n",
       "    }\n",
       "</style>\n",
       "<table border=\"1\" class=\"dataframe\">\n",
       "  <thead>\n",
       "    <tr style=\"text-align: right;\">\n",
       "      <th></th>\n",
       "      <th>BMI</th>\n",
       "    </tr>\n",
       "  </thead>\n",
       "  <tbody>\n",
       "    <tr>\n",
       "      <th>0</th>\n",
       "      <td>24.913495</td>\n",
       "    </tr>\n",
       "    <tr>\n",
       "      <th>1</th>\n",
       "      <td>23.666910</td>\n",
       "    </tr>\n",
       "    <tr>\n",
       "      <th>2</th>\n",
       "      <td>23.735308</td>\n",
       "    </tr>\n",
       "    <tr>\n",
       "      <th>3</th>\n",
       "      <td>22.204082</td>\n",
       "    </tr>\n",
       "    <tr>\n",
       "      <th>4</th>\n",
       "      <td>21.366869</td>\n",
       "    </tr>\n",
       "    <tr>\n",
       "      <th>...</th>\n",
       "      <td>...</td>\n",
       "    </tr>\n",
       "    <tr>\n",
       "      <th>19234</th>\n",
       "      <td>19.753086</td>\n",
       "    </tr>\n",
       "    <tr>\n",
       "      <th>19235</th>\n",
       "      <td>22.857143</td>\n",
       "    </tr>\n",
       "    <tr>\n",
       "      <th>19236</th>\n",
       "      <td>22.724403</td>\n",
       "    </tr>\n",
       "    <tr>\n",
       "      <th>19237</th>\n",
       "      <td>22.052190</td>\n",
       "    </tr>\n",
       "    <tr>\n",
       "      <th>19238</th>\n",
       "      <td>21.872423</td>\n",
       "    </tr>\n",
       "  </tbody>\n",
       "</table>\n",
       "<p>19239 rows × 1 columns</p>\n",
       "</div>"
      ],
      "text/plain": [
       "             BMI\n",
       "0      24.913495\n",
       "1      23.666910\n",
       "2      23.735308\n",
       "3      22.204082\n",
       "4      21.366869\n",
       "...          ...\n",
       "19234  19.753086\n",
       "19235  22.857143\n",
       "19236  22.724403\n",
       "19237  22.052190\n",
       "19238  21.872423\n",
       "\n",
       "[19239 rows x 1 columns]"
      ]
     },
     "execution_count": 22,
     "metadata": {},
     "output_type": "execute_result"
    }
   ],
   "source": [
    "df[[\"BMI\"]]"
   ]
  },
  {
   "cell_type": "markdown",
   "metadata": {},
   "source": [
    "### Valeur des joueurs"
   ]
  },
  {
   "cell_type": "markdown",
   "metadata": {},
   "source": [
    "On va discrétiser les valeurs en classes pertinentes, pour déterminer ces classes, on regarde les statistiques de ces colonnes et la distribution des données sous forme d'histogramme."
   ]
  },
  {
   "cell_type": "code",
   "execution_count": 23,
   "metadata": {},
   "outputs": [
    {
     "name": "stdout",
     "output_type": "stream",
     "text": [
      "Nombre de valeurs manquantes : 74\n"
     ]
    }
   ],
   "source": [
    "print(\"Nombre de valeurs manquantes :\", df[\"value_eur\"].isna().sum())"
   ]
  },
  {
   "cell_type": "markdown",
   "metadata": {},
   "source": [
    "On a quelques joueurs qui n'ont pas de valeur renseignée, pour éviter de les supprimer de la base de donnée sur un seul critère, on les placera dans une catégorie à part \"unknown\". On réalise des stats sur les autres."
   ]
  },
  {
   "cell_type": "code",
   "execution_count": 24,
   "metadata": {},
   "outputs": [],
   "source": [
    "values = df[np.logical_not(df[\"value_eur\"].isna())][\"value_eur\"]"
   ]
  },
  {
   "cell_type": "code",
   "execution_count": 25,
   "metadata": {},
   "outputs": [
    {
     "data": {
      "text/plain": [
       "count    1.916500e+04\n",
       "mean     2.850452e+06\n",
       "std      7.613700e+06\n",
       "min      9.000000e+03\n",
       "25%      4.750000e+05\n",
       "50%      9.750000e+05\n",
       "75%      2.000000e+06\n",
       "max      1.940000e+08\n",
       "Name: value_eur, dtype: float64"
      ]
     },
     "execution_count": 25,
     "metadata": {},
     "output_type": "execute_result"
    }
   ],
   "source": [
    "values.describe()"
   ]
  },
  {
   "cell_type": "markdown",
   "metadata": {},
   "source": [
    "On remarque que les valeurs sont comprises entre 9 000 et 194M, avec une médiane à 97 500€. Le 1er quartile à 47 500 et le 3e quartile à 2M laisse donc penser qu'il y a des outliers aux deux extrémités du spectres, on ne peut donc pas séparer linéairement en classes. On regarde la distribution des données. Il est nécessaire d'appliquer une échelle logarithmique à cause des valeurs extrêmes supérieures. "
   ]
  },
  {
   "cell_type": "code",
   "execution_count": 26,
   "metadata": {},
   "outputs": [
    {
     "data": {
      "image/png": "[encoded data removed]",
      "text/plain": [
       "<Figure size 600x400 with 1 Axes>"
      ]
     },
     "metadata": {},
     "output_type": "display_data"
    }
   ],
   "source": [
    "plt.figure(figsize=(6,4))\n",
    "plt.hist(values, log=True, bins=10, color='green')\n",
    "plt.title(\"Distribution des valeurs des joueurs\")\n",
    "plt.xlabel(\"Valeur\")\n",
    "plt.ylabel(\"Effectif\")\n",
    "plt.show()"
   ]
  },
  {
   "cell_type": "markdown",
   "metadata": {},
   "source": [
    "Sur l'histogramme, les outliers polluent la visualisation, on va garder uniquement les 90% au centre du dataset selon les valeurs (entre 5e centile et 95 centile)."
   ]
  },
  {
   "cell_type": "code",
   "execution_count": 27,
   "metadata": {},
   "outputs": [
    {
     "name": "stdout",
     "output_type": "stream",
     "text": [
      "5e centile : 180000.0\n",
      "95e centile : 11500000.0\n"
     ]
    }
   ],
   "source": [
    "cent_5 = np.percentile(values, 5)\n",
    "cent_95 = np.percentile(values, 95)\n",
    "print(f\"5e centile : {cent_5}\\n95e centile : {cent_95}\")"
   ]
  },
  {
   "cell_type": "code",
   "execution_count": 28,
   "metadata": {},
   "outputs": [
    {
     "data": {
      "text/plain": [
       "(17294,)"
      ]
     },
     "execution_count": 28,
     "metadata": {},
     "output_type": "execute_result"
    }
   ],
   "source": [
    "main_values = values[np.logical_and(values >= cent_5, values <= cent_95)]\n",
    "main_values.shape"
   ]
  },
  {
   "cell_type": "code",
   "execution_count": 29,
   "metadata": {},
   "outputs": [
    {
     "data": {
      "image/png": "[encoded data removed]",
      "text/plain": [
       "<Figure size 600x400 with 1 Axes>"
      ]
     },
     "metadata": {},
     "output_type": "display_data"
    }
   ],
   "source": [
    "plt.figure(figsize=(6,4))\n",
    "plt.hist(main_values, log=True, bins=20, color='g')\n",
    "plt.show()"
   ]
  },
  {
   "cell_type": "markdown",
   "metadata": {},
   "source": [
    "On calcule l'écart-type empirique et on forme 3 catégories dans l'histogramme : valeurs en dessous d'une fois $\\sigma$ (l'écart-type), valeurs entre $\\sigma$ et $2.\\sigma$ et valeurs supérieure à $2.\\sigma$."
   ]
  },
  {
   "cell_type": "code",
   "execution_count": 30,
   "metadata": {},
   "outputs": [],
   "source": [
    "value_std = np.std(main_values)"
   ]
  },
  {
   "cell_type": "code",
   "execution_count": 31,
   "metadata": {},
   "outputs": [],
   "source": [
    "df[\"Dvalue\"] = df[\"value_eur\"].map(ffu.metric_category_from_std_reference(value_std))"
   ]
  },
  {
   "cell_type": "code",
   "execution_count": 32,
   "metadata": {},
   "outputs": [
    {
     "data": {
      "text/plain": [
       "low         13829\n",
       "moderate     2759\n",
       "high         2577\n",
       "unknown        74\n",
       "Name: Dvalue, dtype: int64"
      ]
     },
     "execution_count": 32,
     "metadata": {},
     "output_type": "execute_result"
    }
   ],
   "source": [
    "df[\"Dvalue\"].value_counts()"
   ]
  },
  {
   "cell_type": "markdown",
   "metadata": {},
   "source": [
    "### Salaire des joueurs"
   ]
  },
  {
   "cell_type": "markdown",
   "metadata": {},
   "source": [
    "On applique la même démarche que pour les valeurs."
   ]
  },
  {
   "cell_type": "code",
   "execution_count": 33,
   "metadata": {},
   "outputs": [
    {
     "name": "stdout",
     "output_type": "stream",
     "text": [
      "Nombre de valeurs manquantes : 61\n"
     ]
    }
   ],
   "source": [
    "print(\"Nombre de valeurs manquantes :\", df[\"wage_eur\"].isna().sum())"
   ]
  },
  {
   "cell_type": "code",
   "execution_count": 34,
   "metadata": {},
   "outputs": [],
   "source": [
    "wages = df[np.logical_not(df[\"wage_eur\"].isna())][\"wage_eur\"]"
   ]
  },
  {
   "cell_type": "code",
   "execution_count": 35,
   "metadata": {},
   "outputs": [
    {
     "data": {
      "text/plain": [
       "count     19178.000000\n",
       "mean       9017.989363\n",
       "std       19470.176724\n",
       "min         500.000000\n",
       "25%        1000.000000\n",
       "50%        3000.000000\n",
       "75%        8000.000000\n",
       "max      350000.000000\n",
       "Name: wage_eur, dtype: float64"
      ]
     },
     "execution_count": 35,
     "metadata": {},
     "output_type": "execute_result"
    }
   ],
   "source": [
    "wages.describe()"
   ]
  },
  {
   "cell_type": "code",
   "execution_count": 36,
   "metadata": {},
   "outputs": [
    {
     "data": {
      "image/png": "[encoded data removed]",
      "text/plain": [
       "<Figure size 600x400 with 1 Axes>"
      ]
     },
     "metadata": {},
     "output_type": "display_data"
    }
   ],
   "source": [
    "plt.figure(figsize=(6,4))\n",
    "plt.hist(wages, log=True, bins=20, color='orange')\n",
    "plt.title(\"Distribution des salaires des joueurs\")\n",
    "plt.xlabel(\"Salaire\")\n",
    "plt.ylabel(\"Effectif\")\n",
    "plt.show()"
   ]
  },
  {
   "cell_type": "markdown",
   "metadata": {},
   "source": [
    "On calcule l'écart-type empirique et on forme 3 catégories dans l'histogramme : valeurs en dessous d'une fois $\\sigma$ (l'écart-type), valeurs entre $\\sigma$ et $2.\\sigma$ et valeurs supérieure à $2.\\sigma$."
   ]
  },
  {
   "cell_type": "code",
   "execution_count": 37,
   "metadata": {},
   "outputs": [],
   "source": [
    "wage_std = np.std(wages)"
   ]
  },
  {
   "cell_type": "code",
   "execution_count": 38,
   "metadata": {},
   "outputs": [],
   "source": [
    "df[\"Dwage\"] = df[\"wage_eur\"].map(ffu.metric_category_from_std_reference(wage_std))"
   ]
  },
  {
   "cell_type": "code",
   "execution_count": 39,
   "metadata": {},
   "outputs": [
    {
     "data": {
      "text/plain": [
       "low         16922\n",
       "moderate     1330\n",
       "high          926\n",
       "unknown        61\n",
       "Name: Dwage, dtype: int64"
      ]
     },
     "execution_count": 39,
     "metadata": {},
     "output_type": "execute_result"
    }
   ],
   "source": [
    "df[\"Dwage\"].value_counts()"
   ]
  },
  {
   "cell_type": "markdown",
   "metadata": {},
   "source": [
    "On supprime les colonnes avec les valeurs et salaires, dont on a plus besoin (l'information -ou son absence- a été discrétisée sous forme de 4 catégories)."
   ]
  },
  {
   "cell_type": "code",
   "execution_count": 40,
   "metadata": {},
   "outputs": [],
   "source": [
    "df = df.drop([\"value_eur\", \"wage_eur\"], axis=1)"
   ]
  },
  {
   "cell_type": "code",
   "execution_count": 41,
   "metadata": {},
   "outputs": [
    {
     "name": "stdout",
     "output_type": "stream",
     "text": [
      "Le dataset préparé est désormais de taille (19239, 84).\n"
     ]
    }
   ],
   "source": [
    "print(f\"Le dataset préparé est désormais de taille {df.shape}.\")"
   ]
  },
  {
   "cell_type": "code",
   "execution_count": 42,
   "metadata": {},
   "outputs": [],
   "source": [
    "df.to_csv(\"../data/prepared_player_22.csv\")"
   ]
  },
  {
   "cell_type": "markdown",
   "metadata": {},
   "source": [
    "## 1.2 Analyse"
   ]
  },
  {
   "cell_type": "markdown",
   "metadata": {},
   "source": [
    "### Attributs et statistiques descriptives"
   ]
  },
  {
   "cell_type": "markdown",
   "metadata": {},
   "source": [
    "#### Description des attributs"
   ]
  },
  {
   "cell_type": "markdown",
   "metadata": {},
   "source": [
    "Tous les attributs gardés jusqu'ici (pertinence et information compactée) son listés ci-dessous."
   ]
  },
  {
   "cell_type": "code",
   "execution_count": 43,
   "metadata": {},
   "outputs": [
    {
     "name": "stdout",
     "output_type": "stream",
     "text": [
      "sofifa_id  overall  potential  age  club_team_id  league_level  nationality_id  nation_team_id  preferred_foot  weak_foot  skill_moves  international_reputation  pace  shooting  passing  dribbling  defending  physic  attacking_crossing  attacking_finishing  attacking_heading_accuracy  attacking_short_passing  attacking_volleys  skill_dribbling  skill_curve  skill_fk_accuracy  skill_long_passing  skill_ball_control  movement_acceleration  movement_sprint_speed  movement_agility  movement_reactions  movement_balance  power_shot_power  power_jumping  power_stamina  power_strength  power_long_shots  mentality_aggression  mentality_interceptions  mentality_positioning  mentality_vision  mentality_penalties  mentality_composure  defending_marking_awareness  defending_standing_tackle  defending_sliding_tackle  goalkeeping_diving  goalkeeping_handling  goalkeeping_kicking  goalkeeping_positioning  goalkeeping_reflexes  goalkeeping_speed  ls  st  rs  lw  lf  cf  rf  rw  lam  cam  ram  lm  lcm  cm  rcm  rm  lwb  ldm  cdm  rdm  rwb  lb  lcb  cb  rcb  rb  gk  player_position  BMI  Dvalue  Dwage  "
     ]
    }
   ],
   "source": [
    "features_list = list(df.columns)\n",
    "for feat in features_list:\n",
    "    print(feat, end=\"  \")"
   ]
  },
  {
   "cell_type": "markdown",
   "metadata": {},
   "source": [
    "Sofifia_id est la clé primaire d'un joueur, c'est le numéro qui identifie de manière unique chaque joueur.  \n",
    "Age est la catégorie d'âge du joueur.  \n",
    "Club_team_id, nation_team_id et nationality_id sont les identifiants de son équipe de championnat, de son équipe nationale et de sa nationalité.  \n",
    "League level est le niveau de championnat dans lequel son club évolue.  \n",
    "Player_position indique son poste (goal, défenseur, milieu, attaquant).  \n",
    "BMI est son indice de masse corporelle.  \n",
    "Dvalue indique la catégorie de valeur financière à laquelle il appartient (inconnue, basse, moyenne, haute).  \n",
    "Dwage indique la catégorie de salaire qu'il reçoit (inconnu, bas, moyen, haut).  \n",
    "Preferred_foot indique s'il est droitier ou gaucher du pied.  \n",
    "Tous les autres attributs sont des statistiques numériques de jeu, liées aux déplacements, tirs, dribles etc. Overall et potential sont des statistiques globales d'évaluation du joueur.  "
   ]
  },
  {
   "cell_type": "markdown",
   "metadata": {},
   "source": [
    "#### Statistiques des attributs catégoriels"
   ]
  },
  {
   "cell_type": "markdown",
   "metadata": {},
   "source": [
    "On extrait les features catégoriels, qui n'ont pas trop de valeurs (ce qui exclut les id d'équipe ou de nationalité)."
   ]
  },
  {
   "cell_type": "code",
   "execution_count": 44,
   "metadata": {},
   "outputs": [],
   "source": [
    "cat_features = [\"age\", \"league_level\", \"player_position\", \"Dvalue\", \"Dwage\", \"preferred_foot\", \"international_reputation\"]\n",
    "df_cat = df[cat_features]"
   ]
  },
  {
   "cell_type": "markdown",
   "metadata": {},
   "source": [
    "On peut afficher la répartition des différentes catégories pour ces attributs catégoriels. On remarque ainsi quels sont les modes, classes les plus représentées. On se rend aussi compte du déséquilibre de certaines classes."
   ]
  },
  {
   "cell_type": "code",
   "execution_count": 45,
   "metadata": {},
   "outputs": [],
   "source": [
    "matplotlib.rcParams['figure.figsize'] = (4, 2)"
   ]
  },
  {
   "cell_type": "code",
   "execution_count": 46,
   "metadata": {},
   "outputs": [
    {
     "data": {
      "image/png": "[encoded data removed]",
      "text/plain": [
       "<Figure size 400x200 with 1 Axes>"
      ]
     },
     "metadata": {},
     "output_type": "display_data"
    },
    {
     "data": {
      "image/png": "[encoded data removed]",
      "text/plain": [
       "<Figure size 400x200 with 1 Axes>"
      ]
     },
     "metadata": {},
     "output_type": "display_data"
    },
    {
     "data": {
      "image/png": "[encoded data removed]",
      "text/plain": [
       "<Figure size 400x200 with 1 Axes>"
      ]
     },
     "metadata": {},
     "output_type": "display_data"
    },
    {
     "data": {
      "image/png": "[encoded data removed]",
      "text/plain": [
       "<Figure size 400x200 with 1 Axes>"
      ]
     },
     "metadata": {},
     "output_type": "display_data"
    },
    {
     "data": {
      "image/png": "[encoded data removed]",
      "text/plain": [
       "<Figure size 400x200 with 1 Axes>"
      ]
     },
     "metadata": {},
     "output_type": "display_data"
    },
    {
     "data": {
      "image/png": "[encoded data removed]",
      "text/plain": [
       "<Figure size 400x200 with 1 Axes>"
      ]
     },
     "metadata": {},
     "output_type": "display_data"
    },
    {
     "data": {
      "image/png": "[encoded data removed]",
      "text/plain": [
       "<Figure size 400x200 with 1 Axes>"
      ]
     },
     "metadata": {},
     "output_type": "display_data"
    }
   ],
   "source": [
    "for cat_feature in cat_features:\n",
    "    sns.countplot(x=df_cat[cat_feature])\n",
    "    plt.show()"
   ]
  },
  {
   "cell_type": "markdown",
   "metadata": {},
   "source": [
    "Ces visualisations nous permettent de savoir rapidement qu'il y a par exemple une grande majorité de droitiers, de joueurs de 20 à 30 ans. Que les quantités reflétant un avantage (valeur financière, salaire, réputation, niveau de ligue) sont élevées pour une minorité de joueurs et élevées pour très peu.  \n",
    "Ainsi que la répartition entre les postes."
   ]
  },
  {
   "cell_type": "markdown",
   "metadata": {},
   "source": [
    "#### Statistiques des attributs numériques"
   ]
  },
  {
   "cell_type": "markdown",
   "metadata": {},
   "source": [
    "On observe les statistiques (plus détaillées) sur les attributs numériques d'intéret. On retire en effet les identifiants de joueur ou d'équipes, qui ne sont pas propices à la réalisation de statistiques (leurs valeurs étant des clés et non des quantités)."
   ]
  },
  {
   "cell_type": "code",
   "execution_count": 47,
   "metadata": {},
   "outputs": [],
   "source": [
    "num_features = set(features_list).difference(set(cat_features))\n",
    "num_features = list(num_features.difference(set([\"sofifa_id\", \"club_team_id\", \"nationality_id\", \"nation_team_id\"])))"
   ]
  },
  {
   "cell_type": "code",
   "execution_count": 48,
   "metadata": {},
   "outputs": [
    {
     "name": "stdout",
     "output_type": "stream",
     "text": [
      "Nous avons, en tout, 73 attributs numériques / statistiques de joueurs\n"
     ]
    }
   ],
   "source": [
    "print(f\"Nous avons, en tout, {len(num_features)} attributs numériques / statistiques de joueurs\")"
   ]
  },
  {
   "cell_type": "code",
   "execution_count": 49,
   "metadata": {},
   "outputs": [
    {
     "data": {
      "text/html": [
       "<div>\n",
       "<style scoped>\n",
       "    .dataframe tbody tr th:only-of-type {\n",
       "        vertical-align: middle;\n",
       "    }\n",
       "\n",
       "    .dataframe tbody tr th {\n",
       "        vertical-align: top;\n",
       "    }\n",
       "\n",
       "    .dataframe thead th {\n",
       "        text-align: right;\n",
       "    }\n",
       "</style>\n",
       "<table border=\"1\" class=\"dataframe\">\n",
       "  <thead>\n",
       "    <tr style=\"text-align: right;\">\n",
       "      <th></th>\n",
       "      <th>movement_agility</th>\n",
       "      <th>mentality_composure</th>\n",
       "      <th>goalkeeping_diving</th>\n",
       "      <th>overall</th>\n",
       "      <th>rb</th>\n",
       "      <th>cam</th>\n",
       "      <th>mentality_penalties</th>\n",
       "      <th>rcb</th>\n",
       "      <th>st</th>\n",
       "      <th>skill_fk_accuracy</th>\n",
       "      <th>rw</th>\n",
       "      <th>attacking_crossing</th>\n",
       "      <th>goalkeeping_positioning</th>\n",
       "      <th>cdm</th>\n",
       "      <th>attacking_volleys</th>\n",
       "      <th>goalkeeping_speed</th>\n",
       "      <th>attacking_heading_accuracy</th>\n",
       "      <th>defending_standing_tackle</th>\n",
       "      <th>physic</th>\n",
       "      <th>mentality_interceptions</th>\n",
       "      <th>defending_marking_awareness</th>\n",
       "      <th>lcm</th>\n",
       "      <th>power_shot_power</th>\n",
       "      <th>mentality_aggression</th>\n",
       "      <th>defending_sliding_tackle</th>\n",
       "      <th>movement_acceleration</th>\n",
       "      <th>passing</th>\n",
       "      <th>ls</th>\n",
       "      <th>BMI</th>\n",
       "      <th>shooting</th>\n",
       "      <th>attacking_finishing</th>\n",
       "      <th>power_long_shots</th>\n",
       "      <th>cf</th>\n",
       "      <th>movement_balance</th>\n",
       "      <th>mentality_positioning</th>\n",
       "      <th>pace</th>\n",
       "      <th>lam</th>\n",
       "      <th>defending</th>\n",
       "      <th>lf</th>\n",
       "      <th>power_jumping</th>\n",
       "      <th>goalkeeping_reflexes</th>\n",
       "      <th>skill_curve</th>\n",
       "      <th>ldm</th>\n",
       "      <th>rf</th>\n",
       "      <th>power_stamina</th>\n",
       "      <th>cb</th>\n",
       "      <th>weak_foot</th>\n",
       "      <th>skill_moves</th>\n",
       "      <th>rm</th>\n",
       "      <th>ram</th>\n",
       "      <th>gk</th>\n",
       "      <th>skill_ball_control</th>\n",
       "      <th>rs</th>\n",
       "      <th>lb</th>\n",
       "      <th>movement_reactions</th>\n",
       "      <th>lwb</th>\n",
       "      <th>cm</th>\n",
       "      <th>goalkeeping_kicking</th>\n",
       "      <th>attacking_short_passing</th>\n",
       "      <th>power_strength</th>\n",
       "      <th>rdm</th>\n",
       "      <th>goalkeeping_handling</th>\n",
       "      <th>mentality_vision</th>\n",
       "      <th>skill_long_passing</th>\n",
       "      <th>lcb</th>\n",
       "      <th>lm</th>\n",
       "      <th>lw</th>\n",
       "      <th>potential</th>\n",
       "      <th>skill_dribbling</th>\n",
       "      <th>rcm</th>\n",
       "      <th>movement_sprint_speed</th>\n",
       "      <th>dribbling</th>\n",
       "      <th>rwb</th>\n",
       "    </tr>\n",
       "  </thead>\n",
       "  <tbody>\n",
       "    <tr>\n",
       "      <th>count</th>\n",
       "      <td>19239.000000</td>\n",
       "      <td>19239.000000</td>\n",
       "      <td>19239.000000</td>\n",
       "      <td>19239.000000</td>\n",
       "      <td>19239.000000</td>\n",
       "      <td>19239.000000</td>\n",
       "      <td>19239.000000</td>\n",
       "      <td>19239.000000</td>\n",
       "      <td>19239.000000</td>\n",
       "      <td>19239.000000</td>\n",
       "      <td>19239.000000</td>\n",
       "      <td>19239.000000</td>\n",
       "      <td>19239.000000</td>\n",
       "      <td>19239.000000</td>\n",
       "      <td>19239.000000</td>\n",
       "      <td>2132.000000</td>\n",
       "      <td>19239.000000</td>\n",
       "      <td>19239.000000</td>\n",
       "      <td>17107.000000</td>\n",
       "      <td>19239.000000</td>\n",
       "      <td>19239.000000</td>\n",
       "      <td>19239.000000</td>\n",
       "      <td>19239.000000</td>\n",
       "      <td>19239.000000</td>\n",
       "      <td>19239.000000</td>\n",
       "      <td>19239.000000</td>\n",
       "      <td>17107.000000</td>\n",
       "      <td>19239.000000</td>\n",
       "      <td>19239.000000</td>\n",
       "      <td>17107.000000</td>\n",
       "      <td>19239.000000</td>\n",
       "      <td>19239.000000</td>\n",
       "      <td>19239.000000</td>\n",
       "      <td>19239.000000</td>\n",
       "      <td>19239.000000</td>\n",
       "      <td>17107.000000</td>\n",
       "      <td>19239.000000</td>\n",
       "      <td>17107.000000</td>\n",
       "      <td>19239.000000</td>\n",
       "      <td>19239.000000</td>\n",
       "      <td>19239.000000</td>\n",
       "      <td>19239.000000</td>\n",
       "      <td>19239.000000</td>\n",
       "      <td>19239.000000</td>\n",
       "      <td>19239.000000</td>\n",
       "      <td>19239.000000</td>\n",
       "      <td>19239.000000</td>\n",
       "      <td>19239.000000</td>\n",
       "      <td>19239.000000</td>\n",
       "      <td>19239.000000</td>\n",
       "      <td>19239.000000</td>\n",
       "      <td>19239.000000</td>\n",
       "      <td>19239.000000</td>\n",
       "      <td>19239.000000</td>\n",
       "      <td>19239.000000</td>\n",
       "      <td>19239.000000</td>\n",
       "      <td>19239.000000</td>\n",
       "      <td>19239.000000</td>\n",
       "      <td>19239.000000</td>\n",
       "      <td>19239.000000</td>\n",
       "      <td>19239.000000</td>\n",
       "      <td>19239.000000</td>\n",
       "      <td>19239.000000</td>\n",
       "      <td>19239.000000</td>\n",
       "      <td>19239.000000</td>\n",
       "      <td>19239.000000</td>\n",
       "      <td>19239.000000</td>\n",
       "      <td>19239.000000</td>\n",
       "      <td>19239.000000</td>\n",
       "      <td>19239.000000</td>\n",
       "      <td>19239.000000</td>\n",
       "      <td>17107.000000</td>\n",
       "      <td>19239.000000</td>\n",
       "    </tr>\n",
       "    <tr>\n",
       "      <th>mean</th>\n",
       "      <td>63.500078</td>\n",
       "      <td>57.929830</td>\n",
       "      <td>16.406102</td>\n",
       "      <td>65.772182</td>\n",
       "      <td>53.502313</td>\n",
       "      <td>55.916420</td>\n",
       "      <td>47.858724</td>\n",
       "      <td>52.504808</td>\n",
       "      <td>54.687666</td>\n",
       "      <td>42.249025</td>\n",
       "      <td>55.694007</td>\n",
       "      <td>49.577421</td>\n",
       "      <td>16.229274</td>\n",
       "      <td>53.801237</td>\n",
       "      <td>42.463849</td>\n",
       "      <td>36.439962</td>\n",
       "      <td>51.783877</td>\n",
       "      <td>48.045584</td>\n",
       "      <td>64.823289</td>\n",
       "      <td>46.613545</td>\n",
       "      <td>46.601746</td>\n",
       "      <td>55.257706</td>\n",
       "      <td>57.776860</td>\n",
       "      <td>55.538957</td>\n",
       "      <td>45.906700</td>\n",
       "      <td>64.652893</td>\n",
       "      <td>57.312562</td>\n",
       "      <td>54.687666</td>\n",
       "      <td>22.773466</td>\n",
       "      <td>52.345297</td>\n",
       "      <td>45.894433</td>\n",
       "      <td>46.642705</td>\n",
       "      <td>55.562815</td>\n",
       "      <td>64.068611</td>\n",
       "      <td>50.330215</td>\n",
       "      <td>68.213071</td>\n",
       "      <td>55.916420</td>\n",
       "      <td>51.703630</td>\n",
       "      <td>55.562815</td>\n",
       "      <td>64.813504</td>\n",
       "      <td>16.491814</td>\n",
       "      <td>47.268933</td>\n",
       "      <td>53.801237</td>\n",
       "      <td>55.562815</td>\n",
       "      <td>63.084880</td>\n",
       "      <td>52.504808</td>\n",
       "      <td>2.946151</td>\n",
       "      <td>2.352461</td>\n",
       "      <td>56.455377</td>\n",
       "      <td>55.916420</td>\n",
       "      <td>21.282811</td>\n",
       "      <td>58.472010</td>\n",
       "      <td>54.687666</td>\n",
       "      <td>53.502313</td>\n",
       "      <td>61.450023</td>\n",
       "      <td>54.188679</td>\n",
       "      <td>55.257706</td>\n",
       "      <td>16.055356</td>\n",
       "      <td>58.867977</td>\n",
       "      <td>65.007745</td>\n",
       "      <td>53.801237</td>\n",
       "      <td>16.192474</td>\n",
       "      <td>53.964603</td>\n",
       "      <td>53.072249</td>\n",
       "      <td>52.504808</td>\n",
       "      <td>56.455377</td>\n",
       "      <td>55.694007</td>\n",
       "      <td>71.079370</td>\n",
       "      <td>55.660429</td>\n",
       "      <td>55.257706</td>\n",
       "      <td>64.714902</td>\n",
       "      <td>62.561174</td>\n",
       "      <td>54.188679</td>\n",
       "    </tr>\n",
       "    <tr>\n",
       "      <th>std</th>\n",
       "      <td>14.862285</td>\n",
       "      <td>12.159326</td>\n",
       "      <td>17.574028</td>\n",
       "      <td>6.880232</td>\n",
       "      <td>14.082365</td>\n",
       "      <td>14.099482</td>\n",
       "      <td>15.768583</td>\n",
       "      <td>14.863148</td>\n",
       "      <td>13.602736</td>\n",
       "      <td>17.178590</td>\n",
       "      <td>14.668290</td>\n",
       "      <td>18.034661</td>\n",
       "      <td>17.059779</td>\n",
       "      <td>13.951418</td>\n",
       "      <td>17.653329</td>\n",
       "      <td>10.751563</td>\n",
       "      <td>17.294183</td>\n",
       "      <td>21.232718</td>\n",
       "      <td>9.791886</td>\n",
       "      <td>20.677077</td>\n",
       "      <td>20.200807</td>\n",
       "      <td>13.322119</td>\n",
       "      <td>13.192224</td>\n",
       "      <td>16.972181</td>\n",
       "      <td>20.755683</td>\n",
       "      <td>15.167399</td>\n",
       "      <td>10.068965</td>\n",
       "      <td>13.602736</td>\n",
       "      <td>1.376121</td>\n",
       "      <td>14.051623</td>\n",
       "      <td>19.721023</td>\n",
       "      <td>19.411583</td>\n",
       "      <td>14.262141</td>\n",
       "      <td>14.324789</td>\n",
       "      <td>19.621601</td>\n",
       "      <td>10.933155</td>\n",
       "      <td>14.099482</td>\n",
       "      <td>16.189746</td>\n",
       "      <td>14.262141</td>\n",
       "      <td>12.122977</td>\n",
       "      <td>17.884833</td>\n",
       "      <td>18.181085</td>\n",
       "      <td>13.951418</td>\n",
       "      <td>14.262141</td>\n",
       "      <td>16.145279</td>\n",
       "      <td>14.863148</td>\n",
       "      <td>0.671560</td>\n",
       "      <td>0.767659</td>\n",
       "      <td>14.129834</td>\n",
       "      <td>14.099482</td>\n",
       "      <td>15.175006</td>\n",
       "      <td>16.663722</td>\n",
       "      <td>13.602736</td>\n",
       "      <td>14.082365</td>\n",
       "      <td>9.042281</td>\n",
       "      <td>13.869097</td>\n",
       "      <td>13.322119</td>\n",
       "      <td>16.564554</td>\n",
       "      <td>14.490858</td>\n",
       "      <td>12.663518</td>\n",
       "      <td>13.951418</td>\n",
       "      <td>16.839528</td>\n",
       "      <td>13.650481</td>\n",
       "      <td>15.026569</td>\n",
       "      <td>14.863148</td>\n",
       "      <td>14.129834</td>\n",
       "      <td>14.668290</td>\n",
       "      <td>6.086213</td>\n",
       "      <td>18.784590</td>\n",
       "      <td>13.322119</td>\n",
       "      <td>14.965426</td>\n",
       "      <td>9.651312</td>\n",
       "      <td>13.869097</td>\n",
       "    </tr>\n",
       "    <tr>\n",
       "      <th>min</th>\n",
       "      <td>18.000000</td>\n",
       "      <td>12.000000</td>\n",
       "      <td>2.000000</td>\n",
       "      <td>47.000000</td>\n",
       "      <td>14.000000</td>\n",
       "      <td>15.000000</td>\n",
       "      <td>7.000000</td>\n",
       "      <td>16.000000</td>\n",
       "      <td>16.000000</td>\n",
       "      <td>4.000000</td>\n",
       "      <td>14.000000</td>\n",
       "      <td>6.000000</td>\n",
       "      <td>2.000000</td>\n",
       "      <td>16.000000</td>\n",
       "      <td>3.000000</td>\n",
       "      <td>15.000000</td>\n",
       "      <td>5.000000</td>\n",
       "      <td>5.000000</td>\n",
       "      <td>29.000000</td>\n",
       "      <td>3.000000</td>\n",
       "      <td>4.000000</td>\n",
       "      <td>15.000000</td>\n",
       "      <td>20.000000</td>\n",
       "      <td>10.000000</td>\n",
       "      <td>5.000000</td>\n",
       "      <td>14.000000</td>\n",
       "      <td>25.000000</td>\n",
       "      <td>16.000000</td>\n",
       "      <td>15.618492</td>\n",
       "      <td>18.000000</td>\n",
       "      <td>2.000000</td>\n",
       "      <td>4.000000</td>\n",
       "      <td>15.000000</td>\n",
       "      <td>15.000000</td>\n",
       "      <td>2.000000</td>\n",
       "      <td>28.000000</td>\n",
       "      <td>15.000000</td>\n",
       "      <td>14.000000</td>\n",
       "      <td>15.000000</td>\n",
       "      <td>22.000000</td>\n",
       "      <td>2.000000</td>\n",
       "      <td>6.000000</td>\n",
       "      <td>16.000000</td>\n",
       "      <td>15.000000</td>\n",
       "      <td>12.000000</td>\n",
       "      <td>16.000000</td>\n",
       "      <td>1.000000</td>\n",
       "      <td>1.000000</td>\n",
       "      <td>15.000000</td>\n",
       "      <td>15.000000</td>\n",
       "      <td>9.000000</td>\n",
       "      <td>8.000000</td>\n",
       "      <td>16.000000</td>\n",
       "      <td>14.000000</td>\n",
       "      <td>25.000000</td>\n",
       "      <td>15.000000</td>\n",
       "      <td>15.000000</td>\n",
       "      <td>2.000000</td>\n",
       "      <td>7.000000</td>\n",
       "      <td>19.000000</td>\n",
       "      <td>16.000000</td>\n",
       "      <td>2.000000</td>\n",
       "      <td>10.000000</td>\n",
       "      <td>9.000000</td>\n",
       "      <td>16.000000</td>\n",
       "      <td>15.000000</td>\n",
       "      <td>14.000000</td>\n",
       "      <td>49.000000</td>\n",
       "      <td>4.000000</td>\n",
       "      <td>15.000000</td>\n",
       "      <td>15.000000</td>\n",
       "      <td>27.000000</td>\n",
       "      <td>15.000000</td>\n",
       "    </tr>\n",
       "    <tr>\n",
       "      <th>25%</th>\n",
       "      <td>55.000000</td>\n",
       "      <td>50.000000</td>\n",
       "      <td>8.000000</td>\n",
       "      <td>61.000000</td>\n",
       "      <td>47.000000</td>\n",
       "      <td>50.000000</td>\n",
       "      <td>38.000000</td>\n",
       "      <td>42.000000</td>\n",
       "      <td>49.000000</td>\n",
       "      <td>31.000000</td>\n",
       "      <td>50.000000</td>\n",
       "      <td>38.000000</td>\n",
       "      <td>8.000000</td>\n",
       "      <td>46.000000</td>\n",
       "      <td>30.000000</td>\n",
       "      <td>27.000000</td>\n",
       "      <td>44.000000</td>\n",
       "      <td>28.000000</td>\n",
       "      <td>59.000000</td>\n",
       "      <td>26.000000</td>\n",
       "      <td>29.000000</td>\n",
       "      <td>50.000000</td>\n",
       "      <td>48.000000</td>\n",
       "      <td>44.000000</td>\n",
       "      <td>25.000000</td>\n",
       "      <td>57.000000</td>\n",
       "      <td>51.000000</td>\n",
       "      <td>49.000000</td>\n",
       "      <td>21.877551</td>\n",
       "      <td>42.000000</td>\n",
       "      <td>30.000000</td>\n",
       "      <td>32.000000</td>\n",
       "      <td>49.000000</td>\n",
       "      <td>56.000000</td>\n",
       "      <td>40.000000</td>\n",
       "      <td>62.000000</td>\n",
       "      <td>50.000000</td>\n",
       "      <td>37.000000</td>\n",
       "      <td>49.000000</td>\n",
       "      <td>57.000000</td>\n",
       "      <td>8.000000</td>\n",
       "      <td>35.000000</td>\n",
       "      <td>46.000000</td>\n",
       "      <td>49.000000</td>\n",
       "      <td>56.000000</td>\n",
       "      <td>42.000000</td>\n",
       "      <td>3.000000</td>\n",
       "      <td>2.000000</td>\n",
       "      <td>51.000000</td>\n",
       "      <td>50.000000</td>\n",
       "      <td>15.000000</td>\n",
       "      <td>55.000000</td>\n",
       "      <td>49.000000</td>\n",
       "      <td>47.000000</td>\n",
       "      <td>56.000000</td>\n",
       "      <td>49.000000</td>\n",
       "      <td>50.000000</td>\n",
       "      <td>8.000000</td>\n",
       "      <td>54.000000</td>\n",
       "      <td>57.000000</td>\n",
       "      <td>46.000000</td>\n",
       "      <td>8.000000</td>\n",
       "      <td>45.000000</td>\n",
       "      <td>44.000000</td>\n",
       "      <td>42.000000</td>\n",
       "      <td>51.000000</td>\n",
       "      <td>50.000000</td>\n",
       "      <td>67.000000</td>\n",
       "      <td>50.000000</td>\n",
       "      <td>50.000000</td>\n",
       "      <td>58.000000</td>\n",
       "      <td>57.000000</td>\n",
       "      <td>49.000000</td>\n",
       "    </tr>\n",
       "    <tr>\n",
       "      <th>50%</th>\n",
       "      <td>66.000000</td>\n",
       "      <td>59.000000</td>\n",
       "      <td>11.000000</td>\n",
       "      <td>66.000000</td>\n",
       "      <td>57.000000</td>\n",
       "      <td>59.000000</td>\n",
       "      <td>49.000000</td>\n",
       "      <td>55.000000</td>\n",
       "      <td>57.000000</td>\n",
       "      <td>41.000000</td>\n",
       "      <td>59.000000</td>\n",
       "      <td>54.000000</td>\n",
       "      <td>11.000000</td>\n",
       "      <td>57.000000</td>\n",
       "      <td>43.000000</td>\n",
       "      <td>36.000000</td>\n",
       "      <td>55.000000</td>\n",
       "      <td>56.000000</td>\n",
       "      <td>66.000000</td>\n",
       "      <td>53.000000</td>\n",
       "      <td>52.000000</td>\n",
       "      <td>58.000000</td>\n",
       "      <td>59.000000</td>\n",
       "      <td>58.000000</td>\n",
       "      <td>53.000000</td>\n",
       "      <td>67.000000</td>\n",
       "      <td>58.000000</td>\n",
       "      <td>57.000000</td>\n",
       "      <td>22.790358</td>\n",
       "      <td>54.000000</td>\n",
       "      <td>50.000000</td>\n",
       "      <td>51.000000</td>\n",
       "      <td>59.000000</td>\n",
       "      <td>66.000000</td>\n",
       "      <td>56.000000</td>\n",
       "      <td>69.000000</td>\n",
       "      <td>59.000000</td>\n",
       "      <td>56.000000</td>\n",
       "      <td>59.000000</td>\n",
       "      <td>65.000000</td>\n",
       "      <td>11.000000</td>\n",
       "      <td>49.000000</td>\n",
       "      <td>57.000000</td>\n",
       "      <td>59.000000</td>\n",
       "      <td>66.000000</td>\n",
       "      <td>55.000000</td>\n",
       "      <td>3.000000</td>\n",
       "      <td>2.000000</td>\n",
       "      <td>60.000000</td>\n",
       "      <td>59.000000</td>\n",
       "      <td>16.000000</td>\n",
       "      <td>63.000000</td>\n",
       "      <td>57.000000</td>\n",
       "      <td>57.000000</td>\n",
       "      <td>62.000000</td>\n",
       "      <td>57.000000</td>\n",
       "      <td>58.000000</td>\n",
       "      <td>11.000000</td>\n",
       "      <td>62.000000</td>\n",
       "      <td>66.000000</td>\n",
       "      <td>57.000000</td>\n",
       "      <td>11.000000</td>\n",
       "      <td>55.000000</td>\n",
       "      <td>56.000000</td>\n",
       "      <td>55.000000</td>\n",
       "      <td>60.000000</td>\n",
       "      <td>59.000000</td>\n",
       "      <td>71.000000</td>\n",
       "      <td>61.000000</td>\n",
       "      <td>58.000000</td>\n",
       "      <td>68.000000</td>\n",
       "      <td>64.000000</td>\n",
       "      <td>57.000000</td>\n",
       "    </tr>\n",
       "    <tr>\n",
       "      <th>75%</th>\n",
       "      <td>74.000000</td>\n",
       "      <td>66.000000</td>\n",
       "      <td>14.000000</td>\n",
       "      <td>70.000000</td>\n",
       "      <td>63.000000</td>\n",
       "      <td>65.000000</td>\n",
       "      <td>60.000000</td>\n",
       "      <td>64.000000</td>\n",
       "      <td>64.000000</td>\n",
       "      <td>55.000000</td>\n",
       "      <td>66.000000</td>\n",
       "      <td>63.000000</td>\n",
       "      <td>14.000000</td>\n",
       "      <td>64.000000</td>\n",
       "      <td>56.000000</td>\n",
       "      <td>45.000000</td>\n",
       "      <td>64.000000</td>\n",
       "      <td>65.000000</td>\n",
       "      <td>72.000000</td>\n",
       "      <td>64.000000</td>\n",
       "      <td>63.000000</td>\n",
       "      <td>64.000000</td>\n",
       "      <td>68.000000</td>\n",
       "      <td>68.000000</td>\n",
       "      <td>63.000000</td>\n",
       "      <td>75.000000</td>\n",
       "      <td>64.000000</td>\n",
       "      <td>64.000000</td>\n",
       "      <td>23.629490</td>\n",
       "      <td>63.000000</td>\n",
       "      <td>62.000000</td>\n",
       "      <td>62.000000</td>\n",
       "      <td>65.000000</td>\n",
       "      <td>74.000000</td>\n",
       "      <td>64.000000</td>\n",
       "      <td>76.000000</td>\n",
       "      <td>65.000000</td>\n",
       "      <td>64.000000</td>\n",
       "      <td>65.000000</td>\n",
       "      <td>73.000000</td>\n",
       "      <td>14.000000</td>\n",
       "      <td>61.000000</td>\n",
       "      <td>64.000000</td>\n",
       "      <td>65.000000</td>\n",
       "      <td>74.000000</td>\n",
       "      <td>64.000000</td>\n",
       "      <td>3.000000</td>\n",
       "      <td>3.000000</td>\n",
       "      <td>66.000000</td>\n",
       "      <td>65.000000</td>\n",
       "      <td>18.000000</td>\n",
       "      <td>69.000000</td>\n",
       "      <td>64.000000</td>\n",
       "      <td>63.000000</td>\n",
       "      <td>67.000000</td>\n",
       "      <td>64.000000</td>\n",
       "      <td>64.000000</td>\n",
       "      <td>14.000000</td>\n",
       "      <td>68.000000</td>\n",
       "      <td>74.000000</td>\n",
       "      <td>64.000000</td>\n",
       "      <td>14.000000</td>\n",
       "      <td>64.000000</td>\n",
       "      <td>64.000000</td>\n",
       "      <td>64.000000</td>\n",
       "      <td>66.000000</td>\n",
       "      <td>66.000000</td>\n",
       "      <td>75.000000</td>\n",
       "      <td>68.000000</td>\n",
       "      <td>64.000000</td>\n",
       "      <td>75.000000</td>\n",
       "      <td>69.000000</td>\n",
       "      <td>64.000000</td>\n",
       "    </tr>\n",
       "    <tr>\n",
       "      <th>max</th>\n",
       "      <td>96.000000</td>\n",
       "      <td>96.000000</td>\n",
       "      <td>91.000000</td>\n",
       "      <td>93.000000</td>\n",
       "      <td>85.000000</td>\n",
       "      <td>93.000000</td>\n",
       "      <td>93.000000</td>\n",
       "      <td>88.000000</td>\n",
       "      <td>90.000000</td>\n",
       "      <td>94.000000</td>\n",
       "      <td>92.000000</td>\n",
       "      <td>94.000000</td>\n",
       "      <td>92.000000</td>\n",
       "      <td>87.000000</td>\n",
       "      <td>90.000000</td>\n",
       "      <td>65.000000</td>\n",
       "      <td>93.000000</td>\n",
       "      <td>93.000000</td>\n",
       "      <td>90.000000</td>\n",
       "      <td>91.000000</td>\n",
       "      <td>93.000000</td>\n",
       "      <td>89.000000</td>\n",
       "      <td>95.000000</td>\n",
       "      <td>95.000000</td>\n",
       "      <td>92.000000</td>\n",
       "      <td>97.000000</td>\n",
       "      <td>93.000000</td>\n",
       "      <td>90.000000</td>\n",
       "      <td>34.717839</td>\n",
       "      <td>94.000000</td>\n",
       "      <td>95.000000</td>\n",
       "      <td>94.000000</td>\n",
       "      <td>93.000000</td>\n",
       "      <td>96.000000</td>\n",
       "      <td>96.000000</td>\n",
       "      <td>97.000000</td>\n",
       "      <td>93.000000</td>\n",
       "      <td>91.000000</td>\n",
       "      <td>93.000000</td>\n",
       "      <td>95.000000</td>\n",
       "      <td>90.000000</td>\n",
       "      <td>94.000000</td>\n",
       "      <td>87.000000</td>\n",
       "      <td>93.000000</td>\n",
       "      <td>97.000000</td>\n",
       "      <td>88.000000</td>\n",
       "      <td>5.000000</td>\n",
       "      <td>5.000000</td>\n",
       "      <td>91.000000</td>\n",
       "      <td>93.000000</td>\n",
       "      <td>89.000000</td>\n",
       "      <td>96.000000</td>\n",
       "      <td>90.000000</td>\n",
       "      <td>85.000000</td>\n",
       "      <td>94.000000</td>\n",
       "      <td>85.000000</td>\n",
       "      <td>89.000000</td>\n",
       "      <td>93.000000</td>\n",
       "      <td>94.000000</td>\n",
       "      <td>97.000000</td>\n",
       "      <td>87.000000</td>\n",
       "      <td>92.000000</td>\n",
       "      <td>95.000000</td>\n",
       "      <td>93.000000</td>\n",
       "      <td>88.000000</td>\n",
       "      <td>91.000000</td>\n",
       "      <td>92.000000</td>\n",
       "      <td>95.000000</td>\n",
       "      <td>96.000000</td>\n",
       "      <td>89.000000</td>\n",
       "      <td>97.000000</td>\n",
       "      <td>95.000000</td>\n",
       "      <td>85.000000</td>\n",
       "    </tr>\n",
       "  </tbody>\n",
       "</table>\n",
       "</div>"
      ],
      "text/plain": [
       "       movement_agility  mentality_composure  goalkeeping_diving  \\\n",
       "count      19239.000000         19239.000000        19239.000000   \n",
       "mean          63.500078            57.929830           16.406102   \n",
       "std           14.862285            12.159326           17.574028   \n",
       "min           18.000000            12.000000            2.000000   \n",
       "25%           55.000000            50.000000            8.000000   \n",
       "50%           66.000000            59.000000           11.000000   \n",
       "75%           74.000000            66.000000           14.000000   \n",
       "max           96.000000            96.000000           91.000000   \n",
       "\n",
       "            overall            rb           cam  mentality_penalties  \\\n",
       "count  19239.000000  19239.000000  19239.000000         19239.000000   \n",
       "mean      65.772182     53.502313     55.916420            47.858724   \n",
       "std        6.880232     14.082365     14.099482            15.768583   \n",
       "min       47.000000     14.000000     15.000000             7.000000   \n",
       "25%       61.000000     47.000000     50.000000            38.000000   \n",
       "50%       66.000000     57.000000     59.000000            49.000000   \n",
       "75%       70.000000     63.000000     65.000000            60.000000   \n",
       "max       93.000000     85.000000     93.000000            93.000000   \n",
       "\n",
       "                rcb            st  skill_fk_accuracy            rw  \\\n",
       "count  19239.000000  19239.000000       19239.000000  19239.000000   \n",
       "mean      52.504808     54.687666          42.249025     55.694007   \n",
       "std       14.863148     13.602736          17.178590     14.668290   \n",
       "min       16.000000     16.000000           4.000000     14.000000   \n",
       "25%       42.000000     49.000000          31.000000     50.000000   \n",
       "50%       55.000000     57.000000          41.000000     59.000000   \n",
       "75%       64.000000     64.000000          55.000000     66.000000   \n",
       "max       88.000000     90.000000          94.000000     92.000000   \n",
       "\n",
       "       attacking_crossing  goalkeeping_positioning           cdm  \\\n",
       "count        19239.000000             19239.000000  19239.000000   \n",
       "mean            49.577421                16.229274     53.801237   \n",
       "std             18.034661                17.059779     13.951418   \n",
       "min              6.000000                 2.000000     16.000000   \n",
       "25%             38.000000                 8.000000     46.000000   \n",
       "50%             54.000000                11.000000     57.000000   \n",
       "75%             63.000000                14.000000     64.000000   \n",
       "max             94.000000                92.000000     87.000000   \n",
       "\n",
       "       attacking_volleys  goalkeeping_speed  attacking_heading_accuracy  \\\n",
       "count       19239.000000        2132.000000                19239.000000   \n",
       "mean           42.463849          36.439962                   51.783877   \n",
       "std            17.653329          10.751563                   17.294183   \n",
       "min             3.000000          15.000000                    5.000000   \n",
       "25%            30.000000          27.000000                   44.000000   \n",
       "50%            43.000000          36.000000                   55.000000   \n",
       "75%            56.000000          45.000000                   64.000000   \n",
       "max            90.000000          65.000000                   93.000000   \n",
       "\n",
       "       defending_standing_tackle        physic  mentality_interceptions  \\\n",
       "count               19239.000000  17107.000000             19239.000000   \n",
       "mean                   48.045584     64.823289                46.613545   \n",
       "std                    21.232718      9.791886                20.677077   \n",
       "min                     5.000000     29.000000                 3.000000   \n",
       "25%                    28.000000     59.000000                26.000000   \n",
       "50%                    56.000000     66.000000                53.000000   \n",
       "75%                    65.000000     72.000000                64.000000   \n",
       "max                    93.000000     90.000000                91.000000   \n",
       "\n",
       "       defending_marking_awareness           lcm  power_shot_power  \\\n",
       "count                 19239.000000  19239.000000      19239.000000   \n",
       "mean                     46.601746     55.257706         57.776860   \n",
       "std                      20.200807     13.322119         13.192224   \n",
       "min                       4.000000     15.000000         20.000000   \n",
       "25%                      29.000000     50.000000         48.000000   \n",
       "50%                      52.000000     58.000000         59.000000   \n",
       "75%                      63.000000     64.000000         68.000000   \n",
       "max                      93.000000     89.000000         95.000000   \n",
       "\n",
       "       mentality_aggression  defending_sliding_tackle  movement_acceleration  \\\n",
       "count          19239.000000              19239.000000           19239.000000   \n",
       "mean              55.538957                 45.906700              64.652893   \n",
       "std               16.972181                 20.755683              15.167399   \n",
       "min               10.000000                  5.000000              14.000000   \n",
       "25%               44.000000                 25.000000              57.000000   \n",
       "50%               58.000000                 53.000000              67.000000   \n",
       "75%               68.000000                 63.000000              75.000000   \n",
       "max               95.000000                 92.000000              97.000000   \n",
       "\n",
       "            passing            ls           BMI      shooting  \\\n",
       "count  17107.000000  19239.000000  19239.000000  17107.000000   \n",
       "mean      57.312562     54.687666     22.773466     52.345297   \n",
       "std       10.068965     13.602736      1.376121     14.051623   \n",
       "min       25.000000     16.000000     15.618492     18.000000   \n",
       "25%       51.000000     49.000000     21.877551     42.000000   \n",
       "50%       58.000000     57.000000     22.790358     54.000000   \n",
       "75%       64.000000     64.000000     23.629490     63.000000   \n",
       "max       93.000000     90.000000     34.717839     94.000000   \n",
       "\n",
       "       attacking_finishing  power_long_shots            cf  movement_balance  \\\n",
       "count         19239.000000      19239.000000  19239.000000      19239.000000   \n",
       "mean             45.894433         46.642705     55.562815         64.068611   \n",
       "std              19.721023         19.411583     14.262141         14.324789   \n",
       "min               2.000000          4.000000     15.000000         15.000000   \n",
       "25%              30.000000         32.000000     49.000000         56.000000   \n",
       "50%              50.000000         51.000000     59.000000         66.000000   \n",
       "75%              62.000000         62.000000     65.000000         74.000000   \n",
       "max              95.000000         94.000000     93.000000         96.000000   \n",
       "\n",
       "       mentality_positioning          pace           lam     defending  \\\n",
       "count           19239.000000  17107.000000  19239.000000  17107.000000   \n",
       "mean               50.330215     68.213071     55.916420     51.703630   \n",
       "std                19.621601     10.933155     14.099482     16.189746   \n",
       "min                 2.000000     28.000000     15.000000     14.000000   \n",
       "25%                40.000000     62.000000     50.000000     37.000000   \n",
       "50%                56.000000     69.000000     59.000000     56.000000   \n",
       "75%                64.000000     76.000000     65.000000     64.000000   \n",
       "max                96.000000     97.000000     93.000000     91.000000   \n",
       "\n",
       "                 lf  power_jumping  goalkeeping_reflexes   skill_curve  \\\n",
       "count  19239.000000   19239.000000          19239.000000  19239.000000   \n",
       "mean      55.562815      64.813504             16.491814     47.268933   \n",
       "std       14.262141      12.122977             17.884833     18.181085   \n",
       "min       15.000000      22.000000              2.000000      6.000000   \n",
       "25%       49.000000      57.000000              8.000000     35.000000   \n",
       "50%       59.000000      65.000000             11.000000     49.000000   \n",
       "75%       65.000000      73.000000             14.000000     61.000000   \n",
       "max       93.000000      95.000000             90.000000     94.000000   \n",
       "\n",
       "                ldm            rf  power_stamina            cb     weak_foot  \\\n",
       "count  19239.000000  19239.000000   19239.000000  19239.000000  19239.000000   \n",
       "mean      53.801237     55.562815      63.084880     52.504808      2.946151   \n",
       "std       13.951418     14.262141      16.145279     14.863148      0.671560   \n",
       "min       16.000000     15.000000      12.000000     16.000000      1.000000   \n",
       "25%       46.000000     49.000000      56.000000     42.000000      3.000000   \n",
       "50%       57.000000     59.000000      66.000000     55.000000      3.000000   \n",
       "75%       64.000000     65.000000      74.000000     64.000000      3.000000   \n",
       "max       87.000000     93.000000      97.000000     88.000000      5.000000   \n",
       "\n",
       "        skill_moves            rm           ram            gk  \\\n",
       "count  19239.000000  19239.000000  19239.000000  19239.000000   \n",
       "mean       2.352461     56.455377     55.916420     21.282811   \n",
       "std        0.767659     14.129834     14.099482     15.175006   \n",
       "min        1.000000     15.000000     15.000000      9.000000   \n",
       "25%        2.000000     51.000000     50.000000     15.000000   \n",
       "50%        2.000000     60.000000     59.000000     16.000000   \n",
       "75%        3.000000     66.000000     65.000000     18.000000   \n",
       "max        5.000000     91.000000     93.000000     89.000000   \n",
       "\n",
       "       skill_ball_control            rs            lb  movement_reactions  \\\n",
       "count        19239.000000  19239.000000  19239.000000        19239.000000   \n",
       "mean            58.472010     54.687666     53.502313           61.450023   \n",
       "std             16.663722     13.602736     14.082365            9.042281   \n",
       "min              8.000000     16.000000     14.000000           25.000000   \n",
       "25%             55.000000     49.000000     47.000000           56.000000   \n",
       "50%             63.000000     57.000000     57.000000           62.000000   \n",
       "75%             69.000000     64.000000     63.000000           67.000000   \n",
       "max             96.000000     90.000000     85.000000           94.000000   \n",
       "\n",
       "                lwb            cm  goalkeeping_kicking  \\\n",
       "count  19239.000000  19239.000000         19239.000000   \n",
       "mean      54.188679     55.257706            16.055356   \n",
       "std       13.869097     13.322119            16.564554   \n",
       "min       15.000000     15.000000             2.000000   \n",
       "25%       49.000000     50.000000             8.000000   \n",
       "50%       57.000000     58.000000            11.000000   \n",
       "75%       64.000000     64.000000            14.000000   \n",
       "max       85.000000     89.000000            93.000000   \n",
       "\n",
       "       attacking_short_passing  power_strength           rdm  \\\n",
       "count             19239.000000    19239.000000  19239.000000   \n",
       "mean                 58.867977       65.007745     53.801237   \n",
       "std                  14.490858       12.663518     13.951418   \n",
       "min                   7.000000       19.000000     16.000000   \n",
       "25%                  54.000000       57.000000     46.000000   \n",
       "50%                  62.000000       66.000000     57.000000   \n",
       "75%                  68.000000       74.000000     64.000000   \n",
       "max                  94.000000       97.000000     87.000000   \n",
       "\n",
       "       goalkeeping_handling  mentality_vision  skill_long_passing  \\\n",
       "count          19239.000000      19239.000000        19239.000000   \n",
       "mean              16.192474         53.964603           53.072249   \n",
       "std               16.839528         13.650481           15.026569   \n",
       "min                2.000000         10.000000            9.000000   \n",
       "25%                8.000000         45.000000           44.000000   \n",
       "50%               11.000000         55.000000           56.000000   \n",
       "75%               14.000000         64.000000           64.000000   \n",
       "max               92.000000         95.000000           93.000000   \n",
       "\n",
       "                lcb            lm            lw     potential  \\\n",
       "count  19239.000000  19239.000000  19239.000000  19239.000000   \n",
       "mean      52.504808     56.455377     55.694007     71.079370   \n",
       "std       14.863148     14.129834     14.668290      6.086213   \n",
       "min       16.000000     15.000000     14.000000     49.000000   \n",
       "25%       42.000000     51.000000     50.000000     67.000000   \n",
       "50%       55.000000     60.000000     59.000000     71.000000   \n",
       "75%       64.000000     66.000000     66.000000     75.000000   \n",
       "max       88.000000     91.000000     92.000000     95.000000   \n",
       "\n",
       "       skill_dribbling           rcm  movement_sprint_speed     dribbling  \\\n",
       "count     19239.000000  19239.000000           19239.000000  17107.000000   \n",
       "mean         55.660429     55.257706              64.714902     62.561174   \n",
       "std          18.784590     13.322119              14.965426      9.651312   \n",
       "min           4.000000     15.000000              15.000000     27.000000   \n",
       "25%          50.000000     50.000000              58.000000     57.000000   \n",
       "50%          61.000000     58.000000              68.000000     64.000000   \n",
       "75%          68.000000     64.000000              75.000000     69.000000   \n",
       "max          96.000000     89.000000              97.000000     95.000000   \n",
       "\n",
       "                rwb  \n",
       "count  19239.000000  \n",
       "mean      54.188679  \n",
       "std       13.869097  \n",
       "min       15.000000  \n",
       "25%       49.000000  \n",
       "50%       57.000000  \n",
       "75%       64.000000  \n",
       "max       85.000000  "
      ]
     },
     "execution_count": 49,
     "metadata": {},
     "output_type": "execute_result"
    }
   ],
   "source": [
    "df_num = df[num_features]\n",
    "df_num.describe()"
   ]
  },
  {
   "cell_type": "code",
   "execution_count": 50,
   "metadata": {},
   "outputs": [
    {
     "name": "stdout",
     "output_type": "stream",
     "text": [
      "Nombre de goals : 2132\n",
      "Nombre de valeurs de goalkeeping_speed renseignées dans le dataset : 2132\n"
     ]
    }
   ],
   "source": [
    "nb_gk = df[df[\"player_position\"] == \"GK\"].shape[0]\n",
    "nb_gks_not_nan = ffu.nb_not_nan_in_column(df_num, \"goalkeeping_speed\")\n",
    "print(f\"Nombre de goals : {nb_gk}\")\n",
    "print(f\"Nombre de valeurs de goalkeeping_speed renseignées dans le dataset : {nb_gks_not_nan}\")"
   ]
  },
  {
   "cell_type": "markdown",
   "metadata": {},
   "source": [
    "Ces statistiques sont nombreuses, nous allons creuser davantage :\n",
    "- les statistiques générales : overall et potential\n",
    "- une autre statistique propre à tous les joueurs : power_stamina\n",
    "- une statistique propre aux joueurs non goal : physic\n",
    "- une statistique propre aux goals : goalkeeping_speed\n",
    "- une statistique commune à tous les joueurs, calculée lors de la phase de préparation à partir de la masse et de la taille : BMI"
   ]
  },
  {
   "cell_type": "code",
   "execution_count": 51,
   "metadata": {},
   "outputs": [
    {
     "data": {
      "text/html": [
       "<div>\n",
       "<style scoped>\n",
       "    .dataframe tbody tr th:only-of-type {\n",
       "        vertical-align: middle;\n",
       "    }\n",
       "\n",
       "    .dataframe tbody tr th {\n",
       "        vertical-align: top;\n",
       "    }\n",
       "\n",
       "    .dataframe thead th {\n",
       "        text-align: right;\n",
       "    }\n",
       "</style>\n",
       "<table border=\"1\" class=\"dataframe\">\n",
       "  <thead>\n",
       "    <tr style=\"text-align: right;\">\n",
       "      <th></th>\n",
       "      <th>overall</th>\n",
       "      <th>potential</th>\n",
       "      <th>power_stamina</th>\n",
       "      <th>physic</th>\n",
       "      <th>goalkeeping_speed</th>\n",
       "      <th>BMI</th>\n",
       "    </tr>\n",
       "  </thead>\n",
       "  <tbody>\n",
       "    <tr>\n",
       "      <th>count</th>\n",
       "      <td>19239.000000</td>\n",
       "      <td>19239.000000</td>\n",
       "      <td>19239.000000</td>\n",
       "      <td>17107.000000</td>\n",
       "      <td>2132.000000</td>\n",
       "      <td>19239.000000</td>\n",
       "    </tr>\n",
       "    <tr>\n",
       "      <th>mean</th>\n",
       "      <td>65.772182</td>\n",
       "      <td>71.079370</td>\n",
       "      <td>63.084880</td>\n",
       "      <td>64.823289</td>\n",
       "      <td>36.439962</td>\n",
       "      <td>22.773466</td>\n",
       "    </tr>\n",
       "    <tr>\n",
       "      <th>std</th>\n",
       "      <td>6.880232</td>\n",
       "      <td>6.086213</td>\n",
       "      <td>16.145279</td>\n",
       "      <td>9.791886</td>\n",
       "      <td>10.751563</td>\n",
       "      <td>1.376121</td>\n",
       "    </tr>\n",
       "    <tr>\n",
       "      <th>min</th>\n",
       "      <td>47.000000</td>\n",
       "      <td>49.000000</td>\n",
       "      <td>12.000000</td>\n",
       "      <td>29.000000</td>\n",
       "      <td>15.000000</td>\n",
       "      <td>15.618492</td>\n",
       "    </tr>\n",
       "    <tr>\n",
       "      <th>25%</th>\n",
       "      <td>61.000000</td>\n",
       "      <td>67.000000</td>\n",
       "      <td>56.000000</td>\n",
       "      <td>59.000000</td>\n",
       "      <td>27.000000</td>\n",
       "      <td>21.877551</td>\n",
       "    </tr>\n",
       "    <tr>\n",
       "      <th>50%</th>\n",
       "      <td>66.000000</td>\n",
       "      <td>71.000000</td>\n",
       "      <td>66.000000</td>\n",
       "      <td>66.000000</td>\n",
       "      <td>36.000000</td>\n",
       "      <td>22.790358</td>\n",
       "    </tr>\n",
       "    <tr>\n",
       "      <th>75%</th>\n",
       "      <td>70.000000</td>\n",
       "      <td>75.000000</td>\n",
       "      <td>74.000000</td>\n",
       "      <td>72.000000</td>\n",
       "      <td>45.000000</td>\n",
       "      <td>23.629490</td>\n",
       "    </tr>\n",
       "    <tr>\n",
       "      <th>max</th>\n",
       "      <td>93.000000</td>\n",
       "      <td>95.000000</td>\n",
       "      <td>97.000000</td>\n",
       "      <td>90.000000</td>\n",
       "      <td>65.000000</td>\n",
       "      <td>34.717839</td>\n",
       "    </tr>\n",
       "  </tbody>\n",
       "</table>\n",
       "</div>"
      ],
      "text/plain": [
       "            overall     potential  power_stamina        physic  \\\n",
       "count  19239.000000  19239.000000   19239.000000  17107.000000   \n",
       "mean      65.772182     71.079370      63.084880     64.823289   \n",
       "std        6.880232      6.086213      16.145279      9.791886   \n",
       "min       47.000000     49.000000      12.000000     29.000000   \n",
       "25%       61.000000     67.000000      56.000000     59.000000   \n",
       "50%       66.000000     71.000000      66.000000     66.000000   \n",
       "75%       70.000000     75.000000      74.000000     72.000000   \n",
       "max       93.000000     95.000000      97.000000     90.000000   \n",
       "\n",
       "       goalkeeping_speed           BMI  \n",
       "count        2132.000000  19239.000000  \n",
       "mean           36.439962     22.773466  \n",
       "std            10.751563      1.376121  \n",
       "min            15.000000     15.618492  \n",
       "25%            27.000000     21.877551  \n",
       "50%            36.000000     22.790358  \n",
       "75%            45.000000     23.629490  \n",
       "max            65.000000     34.717839  "
      ]
     },
     "execution_count": 51,
     "metadata": {},
     "output_type": "execute_result"
    }
   ],
   "source": [
    "focus_features = [\"overall\", \"potential\", \"power_stamina\", \"physic\", \"goalkeeping_speed\", \"BMI\"]\n",
    "df_num_focus = df_num[focus_features]\n",
    "df_num_focus.describe()"
   ]
  },
  {
   "cell_type": "markdown",
   "metadata": {},
   "source": [
    "Pour visualiser et interpréter plus facilement ces statistiques, on peut tracer les boîtes à moustache."
   ]
  },
  {
   "cell_type": "code",
   "execution_count": 52,
   "metadata": {},
   "outputs": [],
   "source": [
    "colors = [\"turquoise\", \"green\", \"red\", \"yellow\", \"purple\", \"orange\"]"
   ]
  },
  {
   "cell_type": "code",
   "execution_count": 53,
   "metadata": {},
   "outputs": [
    {
     "data": {
      "image/png": "[encoded data removed]",
      "text/plain": [
       "<Figure size 400x200 with 1 Axes>"
      ]
     },
     "metadata": {},
     "output_type": "display_data"
    }
   ],
   "source": [
    "_ = sns.boxplot(x=df_num_focus[focus_features[0]], orient='h', color=colors[0])"
   ]
  },
  {
   "cell_type": "markdown",
   "metadata": {},
   "source": [
    "Les valeurs de l'attribut overall sont assez étalées, les 3/4 des données sont situées entre 60 et 70, bien que les autres valeurs s'étalent jusqu'à 50 voir 80. On constate un nombre non négligeable d'outliers (les points gris, déterminées par l'algorithme natif de seaborn) notamment autour de 90 dans les extrêmes supérieurs."
   ]
  },
  {
   "cell_type": "code",
   "execution_count": 54,
   "metadata": {},
   "outputs": [
    {
     "data": {
      "image/png": "[encoded data removed]",
      "text/plain": [
       "<Figure size 400x200 with 1 Axes>"
      ]
     },
     "metadata": {},
     "output_type": "display_data"
    }
   ],
   "source": [
    "_ = sns.boxplot(x=df_num_focus[focus_features[1]], orient='h', color=colors[1])"
   ]
  },
  {
   "cell_type": "markdown",
   "metadata": {},
   "source": [
    "De même, les potentiels sont peu concentrées autour de la valeur 70, les 3/4 centraux des données sont situés entre 65 et 75 et le quart restant de données est assez étalé, et on note encore plus d'outliers pour cette feature."
   ]
  },
  {
   "cell_type": "code",
   "execution_count": 55,
   "metadata": {},
   "outputs": [
    {
     "data": {
      "image/png": "[encoded data removed]",
      "text/plain": [
       "<Figure size 400x200 with 1 Axes>"
      ]
     },
     "metadata": {},
     "output_type": "display_data"
    }
   ],
   "source": [
    "_ = sns.boxplot(x=df_num_focus[focus_features[2]], orient='h', color=colors[2])"
   ]
  },
  {
   "cell_type": "markdown",
   "metadata": {},
   "source": [
    "La power_stamina médiane est à 66, avec un étalement des valeurs un peu plus important, et beaucoup d'outliers dans les extrêmes inférieurs, entre les valeurs 10 et 30."
   ]
  },
  {
   "cell_type": "code",
   "execution_count": 56,
   "metadata": {},
   "outputs": [
    {
     "data": {
      "image/png": "[encoded data removed]",
      "text/plain": [
       "<Figure size 400x200 with 1 Axes>"
      ]
     },
     "metadata": {},
     "output_type": "display_data"
    }
   ],
   "source": [
    "_ = sns.boxplot(x=df_num_focus[focus_features[3]], orient='h', color=colors[3])"
   ]
  },
  {
   "cell_type": "markdown",
   "metadata": {},
   "source": [
    "La répartition pour \"physic\" est analogue à la précédente."
   ]
  },
  {
   "cell_type": "code",
   "execution_count": 57,
   "metadata": {},
   "outputs": [
    {
     "data": {
      "image/png": "[encoded data removed]",
      "text/plain": [
       "<Figure size 400x200 with 1 Axes>"
      ]
     },
     "metadata": {},
     "output_type": "display_data"
    }
   ],
   "source": [
    "_ = sns.boxplot(x=df_num_focus[focus_features[4]], orient='h', color=colors[4])"
   ]
  },
  {
   "cell_type": "markdown",
   "metadata": {},
   "source": [
    "La vitesse des gardiens de but est concentrée autour de 35, la majorité des données s'étalent entre 25 et 45, le quart restant s'étalent relativement peu comparé aux features précédemment observées (la boîte est plus large, les moustaches moins longues)."
   ]
  },
  {
   "cell_type": "code",
   "execution_count": 58,
   "metadata": {},
   "outputs": [
    {
     "data": {
      "image/png": "[encoded data removed]",
      "text/plain": [
       "<Figure size 400x200 with 1 Axes>"
      ]
     },
     "metadata": {},
     "output_type": "display_data"
    }
   ],
   "source": [
    "_ = sns.boxplot(x=df_num_focus[focus_features[5]], orient='h', color=colors[5])"
   ]
  },
  {
   "cell_type": "markdown",
   "metadata": {},
   "source": [
    "Pour cet attribut d'indice de masse corporelle, on remarque que les données sont très concentrées, la grande majorité autour de la valeur de 23 (boîte très étroite). Le quart restant de données s'étale vers 18 pour la partir inférieure et jusque 27 pour la partie supérieure.   \n",
    "\n",
    "On note un assez grand nombre d'outliers. Notamment un point au BMI de 35, très isolé du reste des données : il y a 5 unités d'écart avec le point le plus proche, alors que 3/4 des données sont comprises dans un intervalle inférieur à 2 unités.  \n",
    "On peut essayer d'identifier le joueur correspondant à cet outlier :"
   ]
  },
  {
   "cell_type": "code",
   "execution_count": 59,
   "metadata": {},
   "outputs": [],
   "source": [
    "id_focus = df[df_num_focus[\"BMI\"] > 34][\"sofifa_id\"].iloc[0]"
   ]
  },
  {
   "cell_type": "code",
   "execution_count": 60,
   "metadata": {},
   "outputs": [
    {
     "data": {
      "text/plain": [
       "'Saheed Adebayo Akinfenwa'"
      ]
     },
     "execution_count": 60,
     "metadata": {},
     "output_type": "execute_result"
    }
   ],
   "source": [
    "data[df[\"sofifa_id\"] == id_focus][\"long_name\"].iloc[0]"
   ]
  },
  {
   "cell_type": "markdown",
   "metadata": {},
   "source": [
    "### Analyse de corrélation"
   ]
  },
  {
   "cell_type": "markdown",
   "metadata": {},
   "source": [
    "Nous avons effectué la préparation initiale des données, à partir de critères logiques de formattage et de compression de certaines informations. Pour pousser plus loin le nettoyage de nos données afin de les fournir à un modèle d'apprentissage, on va analyser les corrélations entre features et supprimer celles qui sont trop corrélées à d'autres, car cela réduit les performances de nombreux modèles. On cherche à ne pas dupliquer l'information portée par ces attributs.  \n",
    "On ne garde que les features numériques."
   ]
  },
  {
   "cell_type": "code",
   "execution_count": 61,
   "metadata": {},
   "outputs": [
    {
     "data": {
      "image/png": "[encoded data removed]",
      "text/plain": [
       "<Figure size 1000x800 with 2 Axes>"
      ]
     },
     "metadata": {},
     "output_type": "display_data"
    }
   ],
   "source": [
    "plt.figure(figsize=(10,8))\n",
    "sns.heatmap(df_num.corr())\n",
    "plt.show()"
   ]
  },
  {
   "cell_type": "markdown",
   "metadata": {},
   "source": [
    "On observe pas mal de corrélations positives comme négatives, il est difficile d'y voir clair.  \n",
    "Pour faciliter cette tâche nous allons afficher cette heatmap après un traitement de clustering.  \n",
    "Ce traitement n'est pas possible avec des valeurs nulles (NaN), on va donc supprimer les goals et la colonne relative à ces derniers (goalkeeping_speed)."
   ]
  },
  {
   "cell_type": "code",
   "execution_count": 62,
   "metadata": {},
   "outputs": [
    {
     "data": {
      "text/plain": [
       "(17107, 72)"
      ]
     },
     "execution_count": 62,
     "metadata": {},
     "output_type": "execute_result"
    }
   ],
   "source": [
    "df_corr = df_num[df[\"player_position\"] != \"GK\"]\n",
    "df_corr = df_corr.drop([\"goalkeeping_speed\"], axis=1)\n",
    "df_corr.shape"
   ]
  },
  {
   "cell_type": "markdown",
   "metadata": {},
   "source": [
    "On regarde s'il reste des valeurs nulles dans les lignes."
   ]
  },
  {
   "cell_type": "code",
   "execution_count": 63,
   "metadata": {},
   "outputs": [
    {
     "data": {
      "text/plain": [
       "(17107, 72)"
      ]
     },
     "execution_count": 63,
     "metadata": {},
     "output_type": "execute_result"
    }
   ],
   "source": [
    "df_corr.dropna(axis=0)\n",
    "df_corr.shape"
   ]
  },
  {
   "cell_type": "markdown",
   "metadata": {},
   "source": [
    "Il n'y a plus de NaN, on peut tracer la clustermap."
   ]
  },
  {
   "cell_type": "code",
   "execution_count": 64,
   "metadata": {},
   "outputs": [
    {
     "data": {
      "image/png": "[encoded data removed]",
      "text/plain": [
       "<Figure size 1000x1000 with 4 Axes>"
      ]
     },
     "metadata": {},
     "output_type": "display_data"
    }
   ],
   "source": [
    "clustergrid = sns.clustermap(df_corr.corr())\n",
    "plt.show()"
   ]
  },
  {
   "cell_type": "markdown",
   "metadata": {},
   "source": [
    "Cette visualisation est beaucoup plus informative sur les groupes de features fortement corrélées entre-elles.  \n",
    "On remarque rapidement 3 groupes de features correspondant aux 3 grands carrés blancs présents sur la diagonale.  "
   ]
  },
  {
   "cell_type": "markdown",
   "metadata": {},
   "source": [
    "On supprime les features qui sont corrélées à plus de 90% avec une autre (positivement ou négativement). On applique un traitement itératif qui trouve les features qui ont une telle corrélation, deux à deux, puis on en supprime une, et on recommence."
   ]
  },
  {
   "cell_type": "code",
   "execution_count": 65,
   "metadata": {},
   "outputs": [],
   "source": [
    "df_num_decorr = ffu.drop_correlated_features(df_corr, threshold=0.9)"
   ]
  },
  {
   "cell_type": "code",
   "execution_count": 66,
   "metadata": {},
   "outputs": [
    {
     "data": {
      "text/plain": [
       "(17107, 36)"
      ]
     },
     "execution_count": 66,
     "metadata": {},
     "output_type": "execute_result"
    }
   ],
   "source": [
    "df_num_decorr.shape"
   ]
  },
  {
   "cell_type": "markdown",
   "metadata": {},
   "source": [
    "Avec ce traitement, il ne reste que 33 colonnes qui sont \"décorellées\" (ou à moins de 90%). On a donc réalisé un plongement intéressant qui pourra nous servir plus tard lors de l'application de modèles d'apprentissage. Les features de ce dataset sont les suivantes :"
   ]
  },
  {
   "cell_type": "code",
   "execution_count": 67,
   "metadata": {},
   "outputs": [
    {
     "data": {
      "text/plain": [
       "'movement_agility  mentality_composure  goalkeeping_diving  overall  mentality_penalties  skill_fk_accuracy  attacking_crossing  goalkeeping_positioning  attacking_volleys  attacking_heading_accuracy  physic  power_shot_power  mentality_aggression  BMI  attacking_finishing  power_long_shots  movement_balance  power_jumping  goalkeeping_reflexes  skill_curve  power_stamina  weak_foot  skill_moves  gk  movement_reactions  goalkeeping_kicking  power_strength  goalkeeping_handling  mentality_vision  skill_long_passing  lcb  potential  rcm  movement_sprint_speed  dribbling  rwb'"
      ]
     },
     "execution_count": 67,
     "metadata": {},
     "output_type": "execute_result"
    }
   ],
   "source": [
    "\"  \".join(list(df_num_decorr.columns))"
   ]
  },
  {
   "cell_type": "markdown",
   "metadata": {},
   "source": [
    "On affiche la clustermap de ces attributs numériques décorrelés."
   ]
  },
  {
   "cell_type": "code",
   "execution_count": 68,
   "metadata": {},
   "outputs": [
    {
     "data": {
      "image/png": "[encoded data removed]",
      "text/plain": [
       "<Figure size 1000x1000 with 4 Axes>"
      ]
     },
     "metadata": {},
     "output_type": "display_data"
    }
   ],
   "source": [
    "sns.clustermap(df_num_decorr.corr())\n",
    "plt.show()"
   ]
  },
  {
   "cell_type": "markdown",
   "metadata": {},
   "source": [
    "### Prise en main des données"
   ]
  },
  {
   "cell_type": "markdown",
   "metadata": {},
   "source": [
    "#### Equipe la plus chère"
   ]
  },
  {
   "cell_type": "markdown",
   "metadata": {},
   "source": [
    "On créé l'équipe la plus chère, on se base sur leur valeur financière, et donc la feature \"value_eur\"."
   ]
  },
  {
   "cell_type": "markdown",
   "metadata": {},
   "source": [
    "On extrait les goals et on trouve le plus cher."
   ]
  },
  {
   "cell_type": "code",
   "execution_count": 69,
   "metadata": {},
   "outputs": [],
   "source": [
    "df_gk = data[df[\"player_position\"] == \"GK\"]"
   ]
  },
  {
   "cell_type": "code",
   "execution_count": 70,
   "metadata": {},
   "outputs": [],
   "source": [
    "top_gk = ffu.find_k_max_in_column(1, df_gk, \"value_eur\").item()"
   ]
  },
  {
   "cell_type": "code",
   "execution_count": 71,
   "metadata": {},
   "outputs": [
    {
     "data": {
      "text/plain": [
       "'Gianluigi Donnarumma'"
      ]
     },
     "execution_count": 71,
     "metadata": {},
     "output_type": "execute_result"
    }
   ],
   "source": [
    "goal_name = ffu.get_player_name_from_sofifa_id(top_gk)\n",
    "goal_name"
   ]
  },
  {
   "cell_type": "code",
   "execution_count": 72,
   "metadata": {},
   "outputs": [],
   "source": [
    "highest_value_team = [goal_name]"
   ]
  },
  {
   "cell_type": "markdown",
   "metadata": {},
   "source": [
    "On extrait les 10 joueurs non goal les plus chers."
   ]
  },
  {
   "cell_type": "code",
   "execution_count": 73,
   "metadata": {},
   "outputs": [],
   "source": [
    "df_players = data[df[\"player_position\"] != \"GK\"]"
   ]
  },
  {
   "cell_type": "code",
   "execution_count": 74,
   "metadata": {},
   "outputs": [],
   "source": [
    "top_players = ffu.find_k_max_in_column(10, df_players, \"value_eur\")"
   ]
  },
  {
   "cell_type": "code",
   "execution_count": 75,
   "metadata": {},
   "outputs": [],
   "source": [
    "for top in top_players:\n",
    "    highest_value_team.append(ffu.get_player_name_from_sofifa_id(top))\n"
   ]
  },
  {
   "cell_type": "code",
   "execution_count": 76,
   "metadata": {},
   "outputs": [
    {
     "name": "stdout",
     "output_type": "stream",
     "text": [
      "Composition de l'équipe la plus chère :\n",
      " Gianluigi Donnarumma   Kylian Mbappé Lottin   Erling Braut Haaland   Harry Kane   Neymar da Silva Santos Júnior   Kevin De Bruyne   Robert Lewandowski   Frenkie de Jong   Jadon Sancho   Trent Alexander-Arnold   Joshua Walter Kimmich\n"
     ]
    }
   ],
   "source": [
    "print(\"Composition de l'équipe la plus chère :\\n\", \"   \".join(highest_value_team))"
   ]
  },
  {
   "cell_type": "code",
   "execution_count": 77,
   "metadata": {},
   "outputs": [
    {
     "name": "stdout",
     "output_type": "stream",
     "text": [
      "Coût total de l'équipe la plus chère : 1412500000.0 euros\n"
     ]
    }
   ],
   "source": [
    "total_value = 0\n",
    "for player in highest_value_team:\n",
    "    total_value += data[data[\"long_name\"] == player][\"value_eur\"].item()\n",
    "\n",
    "print(\"Coût total de l'équipe la plus chère :\", total_value, \"euros\")"
   ]
  },
  {
   "cell_type": "markdown",
   "metadata": {},
   "source": [
    "#### Equipe la plus forte"
   ]
  },
  {
   "cell_type": "markdown",
   "metadata": {},
   "source": [
    "On se base sur la statistique \"overall\"."
   ]
  },
  {
   "cell_type": "code",
   "execution_count": 78,
   "metadata": {},
   "outputs": [
    {
     "data": {
      "text/plain": [
       "'Jan Oblak'"
      ]
     },
     "execution_count": 78,
     "metadata": {},
     "output_type": "execute_result"
    }
   ],
   "source": [
    "top_gk = ffu.find_k_max_in_column(1, df_gk, \"overall\").item()\n",
    "goal_name = ffu.get_player_name_from_sofifa_id(top_gk)\n",
    "strongest_team = [goal_name]\n",
    "goal_name"
   ]
  },
  {
   "cell_type": "code",
   "execution_count": 79,
   "metadata": {},
   "outputs": [
    {
     "name": "stdout",
     "output_type": "stream",
     "text": [
      "Composition de l'équipe la plus forte :\n",
      " Jan Oblak   Lionel Andrés Messi Cuccittini   Robert Lewandowski   Cristiano Ronaldo dos Santos Aveiro   Neymar da Silva Santos Júnior   Kevin De Bruyne   Kylian Mbappé Lottin   Harry Kane   N'Golo Kanté   Virgil van Dijk   Joshua Walter Kimmich\n"
     ]
    }
   ],
   "source": [
    "top_players = ffu.find_k_max_in_column(10, df_players, \"overall\")\n",
    "for top in top_players:\n",
    "    strongest_team.append(ffu.get_player_name_from_sofifa_id(top))\n",
    "\n",
    "print(\"Composition de l'équipe la plus forte :\\n\", \"   \".join(strongest_team))"
   ]
  },
  {
   "cell_type": "code",
   "execution_count": 80,
   "metadata": {},
   "outputs": [
    {
     "name": "stdout",
     "output_type": "stream",
     "text": [
      "Joueurs en commun dans les deux équipes :\n",
      " Kylian Mbappé Lottin  Neymar da Silva Santos Júnior  Robert Lewandowski  Harry Kane  Kevin De Bruyne  Joshua Walter Kimmich\n"
     ]
    }
   ],
   "source": [
    "print(\"Joueurs en commun dans les deux équipes :\\n\", \"  \".join(set(highest_value_team).intersection(set(strongest_team))))"
   ]
  },
  {
   "cell_type": "markdown",
   "metadata": {},
   "source": [
    "Il y a 6 joueurs / 11 qui sont communs aux deux équipes, il y a donc probablement une corrélation importante entre la valeur d'un joueur et sa force (pour le top du classement en tout cas)."
   ]
  },
  {
   "cell_type": "markdown",
   "metadata": {},
   "source": [
    "## 2. Segmentation"
   ]
  },
  {
   "cell_type": "markdown",
   "metadata": {},
   "source": [
    "### Préparation des données pour l'étude"
   ]
  },
  {
   "cell_type": "markdown",
   "metadata": {},
   "source": [
    "Comme spécifié, on écarte les goals de cette étude, ainsi que les features \"overall\", \"Dwage\", \"Dvalue\"."
   ]
  },
  {
   "cell_type": "code",
   "execution_count": 81,
   "metadata": {},
   "outputs": [
    {
     "data": {
      "text/plain": [
       "MID    7033\n",
       "DEF    6394\n",
       "FWD    3680\n",
       "GK     2132\n",
       "Name: player_position, dtype: int64"
      ]
     },
     "execution_count": 81,
     "metadata": {},
     "output_type": "execute_result"
    }
   ],
   "source": [
    "df[\"player_position\"].value_counts()"
   ]
  },
  {
   "cell_type": "code",
   "execution_count": 82,
   "metadata": {},
   "outputs": [],
   "source": [
    "df_seg = df[df[\"player_position\"] != \"GK\"]"
   ]
  },
  {
   "cell_type": "code",
   "execution_count": 83,
   "metadata": {},
   "outputs": [
    {
     "data": {
      "text/plain": [
       "MID    7033\n",
       "DEF    6394\n",
       "FWD    3680\n",
       "Name: player_position, dtype: int64"
      ]
     },
     "execution_count": 83,
     "metadata": {},
     "output_type": "execute_result"
    }
   ],
   "source": [
    "df_seg[\"player_position\"].value_counts()"
   ]
  },
  {
   "cell_type": "code",
   "execution_count": 84,
   "metadata": {},
   "outputs": [],
   "source": [
    "df_seg = df_seg.drop([\"overall\", \"Dvalue\", \"Dwage\", \"nationality_id\", \"club_team_id\", \"nation_team_id\", \"league_level\"], axis=1)"
   ]
  },
  {
   "cell_type": "code",
   "execution_count": 85,
   "metadata": {},
   "outputs": [
    {
     "name": "stdout",
     "output_type": "stream",
     "text": [
      "0\n"
     ]
    }
   ],
   "source": [
    "print(ffu.nb_not_nan_in_column(df_seg, \"goalkeeping_speed\"))"
   ]
  },
  {
   "cell_type": "markdown",
   "metadata": {},
   "source": [
    "On remarque que toutes les valeurs de la feature goalkeeping_speed sont nulles pour le dataset de cette étude, on supprime donc cette colonne pour la segmentation."
   ]
  },
  {
   "cell_type": "code",
   "execution_count": 86,
   "metadata": {},
   "outputs": [],
   "source": [
    "df_seg = df_seg.drop(\"goalkeeping_speed\", axis=1)"
   ]
  },
  {
   "cell_type": "markdown",
   "metadata": {},
   "source": [
    "On observe les types des colonnes du dataset :"
   ]
  },
  {
   "cell_type": "code",
   "execution_count": 87,
   "metadata": {},
   "outputs": [
    {
     "name": "stdout",
     "output_type": "stream",
     "text": [
      "['int64', 'object', 'float64']\n"
     ]
    }
   ],
   "source": [
    "types = []\n",
    "for column in df_seg.columns:\n",
    "    typename = df_seg[column].dtype.name\n",
    "    if typename not in types:\n",
    "        types.append(typename)\n",
    "\n",
    "print(types)"
   ]
  },
  {
   "cell_type": "markdown",
   "metadata": {},
   "source": [
    "On ne garde que les features numériques, à savoir les int64 et float64."
   ]
  },
  {
   "cell_type": "code",
   "execution_count": 88,
   "metadata": {},
   "outputs": [
    {
     "name": "stdout",
     "output_type": "stream",
     "text": [
      "['age', 'preferred_foot', 'player_position']\n"
     ]
    }
   ],
   "source": [
    "cat_columns = []\n",
    "for column in df_seg.columns:\n",
    "    typename = df_seg[column].dtype.name\n",
    "    if typename == 'object':\n",
    "        cat_columns.append(column)\n",
    "\n",
    "print(cat_columns)"
   ]
  },
  {
   "cell_type": "code",
   "execution_count": 89,
   "metadata": {},
   "outputs": [],
   "source": [
    "df_seg = df_seg.drop(cat_columns, axis=1)"
   ]
  },
  {
   "cell_type": "code",
   "execution_count": 90,
   "metadata": {},
   "outputs": [
    {
     "data": {
      "text/html": [
       "<div>\n",
       "<style scoped>\n",
       "    .dataframe tbody tr th:only-of-type {\n",
       "        vertical-align: middle;\n",
       "    }\n",
       "\n",
       "    .dataframe tbody tr th {\n",
       "        vertical-align: top;\n",
       "    }\n",
       "\n",
       "    .dataframe thead th {\n",
       "        text-align: right;\n",
       "    }\n",
       "</style>\n",
       "<table border=\"1\" class=\"dataframe\">\n",
       "  <thead>\n",
       "    <tr style=\"text-align: right;\">\n",
       "      <th></th>\n",
       "      <th>sofifa_id</th>\n",
       "      <th>potential</th>\n",
       "      <th>weak_foot</th>\n",
       "      <th>skill_moves</th>\n",
       "      <th>international_reputation</th>\n",
       "      <th>pace</th>\n",
       "      <th>shooting</th>\n",
       "      <th>passing</th>\n",
       "      <th>dribbling</th>\n",
       "      <th>defending</th>\n",
       "      <th>physic</th>\n",
       "      <th>attacking_crossing</th>\n",
       "      <th>attacking_finishing</th>\n",
       "      <th>attacking_heading_accuracy</th>\n",
       "      <th>attacking_short_passing</th>\n",
       "      <th>attacking_volleys</th>\n",
       "      <th>skill_dribbling</th>\n",
       "      <th>skill_curve</th>\n",
       "      <th>skill_fk_accuracy</th>\n",
       "      <th>skill_long_passing</th>\n",
       "      <th>skill_ball_control</th>\n",
       "      <th>movement_acceleration</th>\n",
       "      <th>movement_sprint_speed</th>\n",
       "      <th>movement_agility</th>\n",
       "      <th>movement_reactions</th>\n",
       "      <th>movement_balance</th>\n",
       "      <th>power_shot_power</th>\n",
       "      <th>power_jumping</th>\n",
       "      <th>power_stamina</th>\n",
       "      <th>power_strength</th>\n",
       "      <th>power_long_shots</th>\n",
       "      <th>mentality_aggression</th>\n",
       "      <th>mentality_interceptions</th>\n",
       "      <th>mentality_positioning</th>\n",
       "      <th>mentality_vision</th>\n",
       "      <th>mentality_penalties</th>\n",
       "      <th>mentality_composure</th>\n",
       "      <th>defending_marking_awareness</th>\n",
       "      <th>defending_standing_tackle</th>\n",
       "      <th>defending_sliding_tackle</th>\n",
       "      <th>goalkeeping_diving</th>\n",
       "      <th>goalkeeping_handling</th>\n",
       "      <th>goalkeeping_kicking</th>\n",
       "      <th>goalkeeping_positioning</th>\n",
       "      <th>goalkeeping_reflexes</th>\n",
       "      <th>ls</th>\n",
       "      <th>st</th>\n",
       "      <th>rs</th>\n",
       "      <th>lw</th>\n",
       "      <th>lf</th>\n",
       "      <th>cf</th>\n",
       "      <th>rf</th>\n",
       "      <th>rw</th>\n",
       "      <th>lam</th>\n",
       "      <th>cam</th>\n",
       "      <th>ram</th>\n",
       "      <th>lm</th>\n",
       "      <th>lcm</th>\n",
       "      <th>cm</th>\n",
       "      <th>rcm</th>\n",
       "      <th>rm</th>\n",
       "      <th>lwb</th>\n",
       "      <th>ldm</th>\n",
       "      <th>cdm</th>\n",
       "      <th>rdm</th>\n",
       "      <th>rwb</th>\n",
       "      <th>lb</th>\n",
       "      <th>lcb</th>\n",
       "      <th>cb</th>\n",
       "      <th>rcb</th>\n",
       "      <th>rb</th>\n",
       "      <th>gk</th>\n",
       "      <th>BMI</th>\n",
       "    </tr>\n",
       "  </thead>\n",
       "  <tbody>\n",
       "    <tr>\n",
       "      <th>0</th>\n",
       "      <td>158023</td>\n",
       "      <td>93</td>\n",
       "      <td>4</td>\n",
       "      <td>4</td>\n",
       "      <td>5</td>\n",
       "      <td>85.0</td>\n",
       "      <td>92.0</td>\n",
       "      <td>91.0</td>\n",
       "      <td>95.0</td>\n",
       "      <td>34.0</td>\n",
       "      <td>65.0</td>\n",
       "      <td>85</td>\n",
       "      <td>95</td>\n",
       "      <td>70</td>\n",
       "      <td>91</td>\n",
       "      <td>88</td>\n",
       "      <td>96</td>\n",
       "      <td>93</td>\n",
       "      <td>94</td>\n",
       "      <td>91</td>\n",
       "      <td>96</td>\n",
       "      <td>91</td>\n",
       "      <td>80</td>\n",
       "      <td>91</td>\n",
       "      <td>94</td>\n",
       "      <td>95</td>\n",
       "      <td>86</td>\n",
       "      <td>68</td>\n",
       "      <td>72</td>\n",
       "      <td>69</td>\n",
       "      <td>94</td>\n",
       "      <td>44</td>\n",
       "      <td>40</td>\n",
       "      <td>93</td>\n",
       "      <td>95</td>\n",
       "      <td>75</td>\n",
       "      <td>96</td>\n",
       "      <td>20</td>\n",
       "      <td>35</td>\n",
       "      <td>24</td>\n",
       "      <td>6</td>\n",
       "      <td>11</td>\n",
       "      <td>15</td>\n",
       "      <td>14</td>\n",
       "      <td>8</td>\n",
       "      <td>89</td>\n",
       "      <td>89</td>\n",
       "      <td>89</td>\n",
       "      <td>92</td>\n",
       "      <td>93</td>\n",
       "      <td>93</td>\n",
       "      <td>93</td>\n",
       "      <td>92</td>\n",
       "      <td>93</td>\n",
       "      <td>93</td>\n",
       "      <td>93</td>\n",
       "      <td>91</td>\n",
       "      <td>87</td>\n",
       "      <td>87</td>\n",
       "      <td>87</td>\n",
       "      <td>91</td>\n",
       "      <td>66</td>\n",
       "      <td>64</td>\n",
       "      <td>64</td>\n",
       "      <td>64</td>\n",
       "      <td>66</td>\n",
       "      <td>61</td>\n",
       "      <td>50</td>\n",
       "      <td>50</td>\n",
       "      <td>50</td>\n",
       "      <td>61</td>\n",
       "      <td>19</td>\n",
       "      <td>24.913495</td>\n",
       "    </tr>\n",
       "    <tr>\n",
       "      <th>1</th>\n",
       "      <td>188545</td>\n",
       "      <td>92</td>\n",
       "      <td>4</td>\n",
       "      <td>4</td>\n",
       "      <td>5</td>\n",
       "      <td>78.0</td>\n",
       "      <td>92.0</td>\n",
       "      <td>79.0</td>\n",
       "      <td>86.0</td>\n",
       "      <td>44.0</td>\n",
       "      <td>82.0</td>\n",
       "      <td>71</td>\n",
       "      <td>95</td>\n",
       "      <td>90</td>\n",
       "      <td>85</td>\n",
       "      <td>89</td>\n",
       "      <td>85</td>\n",
       "      <td>79</td>\n",
       "      <td>85</td>\n",
       "      <td>70</td>\n",
       "      <td>88</td>\n",
       "      <td>77</td>\n",
       "      <td>79</td>\n",
       "      <td>77</td>\n",
       "      <td>93</td>\n",
       "      <td>82</td>\n",
       "      <td>90</td>\n",
       "      <td>85</td>\n",
       "      <td>76</td>\n",
       "      <td>86</td>\n",
       "      <td>87</td>\n",
       "      <td>81</td>\n",
       "      <td>49</td>\n",
       "      <td>95</td>\n",
       "      <td>81</td>\n",
       "      <td>90</td>\n",
       "      <td>88</td>\n",
       "      <td>35</td>\n",
       "      <td>42</td>\n",
       "      <td>19</td>\n",
       "      <td>15</td>\n",
       "      <td>6</td>\n",
       "      <td>12</td>\n",
       "      <td>8</td>\n",
       "      <td>10</td>\n",
       "      <td>90</td>\n",
       "      <td>90</td>\n",
       "      <td>90</td>\n",
       "      <td>85</td>\n",
       "      <td>88</td>\n",
       "      <td>88</td>\n",
       "      <td>88</td>\n",
       "      <td>85</td>\n",
       "      <td>86</td>\n",
       "      <td>86</td>\n",
       "      <td>86</td>\n",
       "      <td>84</td>\n",
       "      <td>80</td>\n",
       "      <td>80</td>\n",
       "      <td>80</td>\n",
       "      <td>84</td>\n",
       "      <td>64</td>\n",
       "      <td>66</td>\n",
       "      <td>66</td>\n",
       "      <td>66</td>\n",
       "      <td>64</td>\n",
       "      <td>61</td>\n",
       "      <td>60</td>\n",
       "      <td>60</td>\n",
       "      <td>60</td>\n",
       "      <td>61</td>\n",
       "      <td>19</td>\n",
       "      <td>23.666910</td>\n",
       "    </tr>\n",
       "    <tr>\n",
       "      <th>2</th>\n",
       "      <td>20801</td>\n",
       "      <td>91</td>\n",
       "      <td>4</td>\n",
       "      <td>5</td>\n",
       "      <td>5</td>\n",
       "      <td>87.0</td>\n",
       "      <td>94.0</td>\n",
       "      <td>80.0</td>\n",
       "      <td>88.0</td>\n",
       "      <td>34.0</td>\n",
       "      <td>75.0</td>\n",
       "      <td>87</td>\n",
       "      <td>95</td>\n",
       "      <td>90</td>\n",
       "      <td>80</td>\n",
       "      <td>86</td>\n",
       "      <td>88</td>\n",
       "      <td>81</td>\n",
       "      <td>84</td>\n",
       "      <td>77</td>\n",
       "      <td>88</td>\n",
       "      <td>85</td>\n",
       "      <td>88</td>\n",
       "      <td>86</td>\n",
       "      <td>94</td>\n",
       "      <td>74</td>\n",
       "      <td>94</td>\n",
       "      <td>95</td>\n",
       "      <td>77</td>\n",
       "      <td>77</td>\n",
       "      <td>93</td>\n",
       "      <td>63</td>\n",
       "      <td>29</td>\n",
       "      <td>95</td>\n",
       "      <td>76</td>\n",
       "      <td>88</td>\n",
       "      <td>95</td>\n",
       "      <td>24</td>\n",
       "      <td>32</td>\n",
       "      <td>24</td>\n",
       "      <td>7</td>\n",
       "      <td>11</td>\n",
       "      <td>15</td>\n",
       "      <td>14</td>\n",
       "      <td>11</td>\n",
       "      <td>90</td>\n",
       "      <td>90</td>\n",
       "      <td>90</td>\n",
       "      <td>88</td>\n",
       "      <td>89</td>\n",
       "      <td>89</td>\n",
       "      <td>89</td>\n",
       "      <td>88</td>\n",
       "      <td>86</td>\n",
       "      <td>86</td>\n",
       "      <td>86</td>\n",
       "      <td>86</td>\n",
       "      <td>78</td>\n",
       "      <td>78</td>\n",
       "      <td>78</td>\n",
       "      <td>86</td>\n",
       "      <td>63</td>\n",
       "      <td>59</td>\n",
       "      <td>59</td>\n",
       "      <td>59</td>\n",
       "      <td>63</td>\n",
       "      <td>60</td>\n",
       "      <td>53</td>\n",
       "      <td>53</td>\n",
       "      <td>53</td>\n",
       "      <td>60</td>\n",
       "      <td>20</td>\n",
       "      <td>23.735308</td>\n",
       "    </tr>\n",
       "    <tr>\n",
       "      <th>3</th>\n",
       "      <td>190871</td>\n",
       "      <td>91</td>\n",
       "      <td>5</td>\n",
       "      <td>5</td>\n",
       "      <td>5</td>\n",
       "      <td>91.0</td>\n",
       "      <td>83.0</td>\n",
       "      <td>86.0</td>\n",
       "      <td>94.0</td>\n",
       "      <td>37.0</td>\n",
       "      <td>63.0</td>\n",
       "      <td>85</td>\n",
       "      <td>83</td>\n",
       "      <td>63</td>\n",
       "      <td>86</td>\n",
       "      <td>86</td>\n",
       "      <td>95</td>\n",
       "      <td>88</td>\n",
       "      <td>87</td>\n",
       "      <td>81</td>\n",
       "      <td>95</td>\n",
       "      <td>93</td>\n",
       "      <td>89</td>\n",
       "      <td>96</td>\n",
       "      <td>89</td>\n",
       "      <td>84</td>\n",
       "      <td>80</td>\n",
       "      <td>64</td>\n",
       "      <td>81</td>\n",
       "      <td>53</td>\n",
       "      <td>81</td>\n",
       "      <td>63</td>\n",
       "      <td>37</td>\n",
       "      <td>86</td>\n",
       "      <td>90</td>\n",
       "      <td>93</td>\n",
       "      <td>93</td>\n",
       "      <td>35</td>\n",
       "      <td>32</td>\n",
       "      <td>29</td>\n",
       "      <td>9</td>\n",
       "      <td>9</td>\n",
       "      <td>15</td>\n",
       "      <td>15</td>\n",
       "      <td>11</td>\n",
       "      <td>83</td>\n",
       "      <td>83</td>\n",
       "      <td>83</td>\n",
       "      <td>90</td>\n",
       "      <td>88</td>\n",
       "      <td>88</td>\n",
       "      <td>88</td>\n",
       "      <td>90</td>\n",
       "      <td>89</td>\n",
       "      <td>89</td>\n",
       "      <td>89</td>\n",
       "      <td>89</td>\n",
       "      <td>82</td>\n",
       "      <td>82</td>\n",
       "      <td>82</td>\n",
       "      <td>89</td>\n",
       "      <td>67</td>\n",
       "      <td>63</td>\n",
       "      <td>63</td>\n",
       "      <td>63</td>\n",
       "      <td>67</td>\n",
       "      <td>62</td>\n",
       "      <td>50</td>\n",
       "      <td>50</td>\n",
       "      <td>50</td>\n",
       "      <td>62</td>\n",
       "      <td>20</td>\n",
       "      <td>22.204082</td>\n",
       "    </tr>\n",
       "    <tr>\n",
       "      <th>4</th>\n",
       "      <td>192985</td>\n",
       "      <td>91</td>\n",
       "      <td>5</td>\n",
       "      <td>4</td>\n",
       "      <td>4</td>\n",
       "      <td>76.0</td>\n",
       "      <td>86.0</td>\n",
       "      <td>93.0</td>\n",
       "      <td>88.0</td>\n",
       "      <td>64.0</td>\n",
       "      <td>78.0</td>\n",
       "      <td>94</td>\n",
       "      <td>82</td>\n",
       "      <td>55</td>\n",
       "      <td>94</td>\n",
       "      <td>82</td>\n",
       "      <td>88</td>\n",
       "      <td>85</td>\n",
       "      <td>83</td>\n",
       "      <td>93</td>\n",
       "      <td>91</td>\n",
       "      <td>76</td>\n",
       "      <td>76</td>\n",
       "      <td>79</td>\n",
       "      <td>91</td>\n",
       "      <td>78</td>\n",
       "      <td>91</td>\n",
       "      <td>63</td>\n",
       "      <td>89</td>\n",
       "      <td>74</td>\n",
       "      <td>91</td>\n",
       "      <td>76</td>\n",
       "      <td>66</td>\n",
       "      <td>88</td>\n",
       "      <td>94</td>\n",
       "      <td>83</td>\n",
       "      <td>89</td>\n",
       "      <td>68</td>\n",
       "      <td>65</td>\n",
       "      <td>53</td>\n",
       "      <td>15</td>\n",
       "      <td>13</td>\n",
       "      <td>5</td>\n",
       "      <td>10</td>\n",
       "      <td>13</td>\n",
       "      <td>83</td>\n",
       "      <td>83</td>\n",
       "      <td>83</td>\n",
       "      <td>88</td>\n",
       "      <td>87</td>\n",
       "      <td>87</td>\n",
       "      <td>87</td>\n",
       "      <td>88</td>\n",
       "      <td>89</td>\n",
       "      <td>89</td>\n",
       "      <td>89</td>\n",
       "      <td>89</td>\n",
       "      <td>89</td>\n",
       "      <td>89</td>\n",
       "      <td>89</td>\n",
       "      <td>89</td>\n",
       "      <td>79</td>\n",
       "      <td>80</td>\n",
       "      <td>80</td>\n",
       "      <td>80</td>\n",
       "      <td>79</td>\n",
       "      <td>75</td>\n",
       "      <td>69</td>\n",
       "      <td>69</td>\n",
       "      <td>69</td>\n",
       "      <td>75</td>\n",
       "      <td>21</td>\n",
       "      <td>21.366869</td>\n",
       "    </tr>\n",
       "  </tbody>\n",
       "</table>\n",
       "</div>"
      ],
      "text/plain": [
       "   sofifa_id  potential  weak_foot  skill_moves  international_reputation  \\\n",
       "0     158023         93          4            4                         5   \n",
       "1     188545         92          4            4                         5   \n",
       "2      20801         91          4            5                         5   \n",
       "3     190871         91          5            5                         5   \n",
       "4     192985         91          5            4                         4   \n",
       "\n",
       "   pace  shooting  passing  dribbling  defending  physic  attacking_crossing  \\\n",
       "0  85.0      92.0     91.0       95.0       34.0    65.0                  85   \n",
       "1  78.0      92.0     79.0       86.0       44.0    82.0                  71   \n",
       "2  87.0      94.0     80.0       88.0       34.0    75.0                  87   \n",
       "3  91.0      83.0     86.0       94.0       37.0    63.0                  85   \n",
       "4  76.0      86.0     93.0       88.0       64.0    78.0                  94   \n",
       "\n",
       "   attacking_finishing  attacking_heading_accuracy  attacking_short_passing  \\\n",
       "0                   95                          70                       91   \n",
       "1                   95                          90                       85   \n",
       "2                   95                          90                       80   \n",
       "3                   83                          63                       86   \n",
       "4                   82                          55                       94   \n",
       "\n",
       "   attacking_volleys  skill_dribbling  skill_curve  skill_fk_accuracy  \\\n",
       "0                 88               96           93                 94   \n",
       "1                 89               85           79                 85   \n",
       "2                 86               88           81                 84   \n",
       "3                 86               95           88                 87   \n",
       "4                 82               88           85                 83   \n",
       "\n",
       "   skill_long_passing  skill_ball_control  movement_acceleration  \\\n",
       "0                  91                  96                     91   \n",
       "1                  70                  88                     77   \n",
       "2                  77                  88                     85   \n",
       "3                  81                  95                     93   \n",
       "4                  93                  91                     76   \n",
       "\n",
       "   movement_sprint_speed  movement_agility  movement_reactions  \\\n",
       "0                     80                91                  94   \n",
       "1                     79                77                  93   \n",
       "2                     88                86                  94   \n",
       "3                     89                96                  89   \n",
       "4                     76                79                  91   \n",
       "\n",
       "   movement_balance  power_shot_power  power_jumping  power_stamina  \\\n",
       "0                95                86             68             72   \n",
       "1                82                90             85             76   \n",
       "2                74                94             95             77   \n",
       "3                84                80             64             81   \n",
       "4                78                91             63             89   \n",
       "\n",
       "   power_strength  power_long_shots  mentality_aggression  \\\n",
       "0              69                94                    44   \n",
       "1              86                87                    81   \n",
       "2              77                93                    63   \n",
       "3              53                81                    63   \n",
       "4              74                91                    76   \n",
       "\n",
       "   mentality_interceptions  mentality_positioning  mentality_vision  \\\n",
       "0                       40                     93                95   \n",
       "1                       49                     95                81   \n",
       "2                       29                     95                76   \n",
       "3                       37                     86                90   \n",
       "4                       66                     88                94   \n",
       "\n",
       "   mentality_penalties  mentality_composure  defending_marking_awareness  \\\n",
       "0                   75                   96                           20   \n",
       "1                   90                   88                           35   \n",
       "2                   88                   95                           24   \n",
       "3                   93                   93                           35   \n",
       "4                   83                   89                           68   \n",
       "\n",
       "   defending_standing_tackle  defending_sliding_tackle  goalkeeping_diving  \\\n",
       "0                         35                        24                   6   \n",
       "1                         42                        19                  15   \n",
       "2                         32                        24                   7   \n",
       "3                         32                        29                   9   \n",
       "4                         65                        53                  15   \n",
       "\n",
       "   goalkeeping_handling  goalkeeping_kicking  goalkeeping_positioning  \\\n",
       "0                    11                   15                       14   \n",
       "1                     6                   12                        8   \n",
       "2                    11                   15                       14   \n",
       "3                     9                   15                       15   \n",
       "4                    13                    5                       10   \n",
       "\n",
       "   goalkeeping_reflexes  ls  st  rs  lw  lf  cf  rf  rw  lam  cam  ram  lm  \\\n",
       "0                     8  89  89  89  92  93  93  93  92   93   93   93  91   \n",
       "1                    10  90  90  90  85  88  88  88  85   86   86   86  84   \n",
       "2                    11  90  90  90  88  89  89  89  88   86   86   86  86   \n",
       "3                    11  83  83  83  90  88  88  88  90   89   89   89  89   \n",
       "4                    13  83  83  83  88  87  87  87  88   89   89   89  89   \n",
       "\n",
       "   lcm  cm  rcm  rm  lwb  ldm  cdm  rdm  rwb  lb  lcb  cb  rcb  rb  gk  \\\n",
       "0   87  87   87  91   66   64   64   64   66  61   50  50   50  61  19   \n",
       "1   80  80   80  84   64   66   66   66   64  61   60  60   60  61  19   \n",
       "2   78  78   78  86   63   59   59   59   63  60   53  53   53  60  20   \n",
       "3   82  82   82  89   67   63   63   63   67  62   50  50   50  62  20   \n",
       "4   89  89   89  89   79   80   80   80   79  75   69  69   69  75  21   \n",
       "\n",
       "         BMI  \n",
       "0  24.913495  \n",
       "1  23.666910  \n",
       "2  23.735308  \n",
       "3  22.204082  \n",
       "4  21.366869  "
      ]
     },
     "execution_count": 90,
     "metadata": {},
     "output_type": "execute_result"
    }
   ],
   "source": [
    "df_seg.head()"
   ]
  },
  {
   "cell_type": "code",
   "execution_count": 91,
   "metadata": {},
   "outputs": [
    {
     "data": {
      "text/plain": [
       "231747"
      ]
     },
     "execution_count": 91,
     "metadata": {},
     "output_type": "execute_result"
    }
   ],
   "source": [
    "mbappe_id = data[data[\"short_name\"] == \"K. Mbappé\"][\"sofifa_id\"].item()\n",
    "mbappe_id"
   ]
  },
  {
   "cell_type": "markdown",
   "metadata": {},
   "source": [
    "On stocke l'indice de Mbappé pour plus tard."
   ]
  },
  {
   "cell_type": "code",
   "execution_count": 92,
   "metadata": {},
   "outputs": [
    {
     "data": {
      "text/plain": [
       "6"
      ]
     },
     "execution_count": 92,
     "metadata": {},
     "output_type": "execute_result"
    }
   ],
   "source": [
    "mbappe_index = df_seg[df_seg[\"sofifa_id\"] == mbappe_id].index.item()\n",
    "mbappe_index"
   ]
  },
  {
   "cell_type": "markdown",
   "metadata": {},
   "source": [
    "On supprime l'id des joueurs, attribut qui va sinon polluer le clustering."
   ]
  },
  {
   "cell_type": "code",
   "execution_count": 93,
   "metadata": {},
   "outputs": [],
   "source": [
    "# on supprime enfin le sofifa_id\n",
    "df_seg_anon = df_seg.drop(\"sofifa_id\", axis=1)"
   ]
  },
  {
   "cell_type": "code",
   "execution_count": 94,
   "metadata": {},
   "outputs": [],
   "source": [
    "ffu.print_nan_count_in_columns(df_seg_anon)"
   ]
  },
  {
   "cell_type": "markdown",
   "metadata": {},
   "source": [
    "### 1ere tentative de clusterisation des joueurs : avec Kmeans"
   ]
  },
  {
   "cell_type": "markdown",
   "metadata": {},
   "source": [
    "On évalue la qualité du clustering avec la métrique de Silhouette, qui est d'autant plus élevé que les clusters sont bien séparés et denses (minimisation de la distance intra-cluster et maximisation de la distance inter-clusters).  \n",
    "On essaye différentes valeurs de nombre de clusters et on cherche le nombre qui maximise cette métrique."
   ]
  },
  {
   "cell_type": "code",
   "execution_count": 95,
   "metadata": {},
   "outputs": [],
   "source": [
    "X_seg = df_seg_anon.to_numpy()\n",
    "X_seg_norm = (X_seg - np.min(X_seg)) / (np.max(X_seg) - np.min(X_seg))\n",
    "\n",
    "n_clusters = np.arange(2,10,1)\n",
    "silscores = np.zeros(n_clusters.shape[0])\n",
    "\n",
    "for i in range(n_clusters.shape[0]):\n",
    "    kmeans = KMeans(n_clusters=n_clusters[i])\n",
    "    kmeans.fit(X_seg_norm)\n",
    "    labels = kmeans.labels_\n",
    "    silscores[i] = metrics.silhouette_score(X_seg_norm, labels)"
   ]
  },
  {
   "cell_type": "code",
   "execution_count": 96,
   "metadata": {},
   "outputs": [
    {
     "data": {
      "image/png": "[encoded data removed]",
      "text/plain": [
       "<Figure size 600x400 with 1 Axes>"
      ]
     },
     "metadata": {},
     "output_type": "display_data"
    }
   ],
   "source": [
    "plt.figure(figsize=(6,4))\n",
    "plt.plot(n_clusters, silscores)\n",
    "plt.xlabel(\"Nombre de clusters\")\n",
    "plt.ylabel(\"Coefficient de Silouhette\")\n",
    "plt.title(\"Qualité du clustering en fonction du nombre de cluster cherchés par Kmeans\")\n",
    "plt.show()"
   ]
  },
  {
   "cell_type": "markdown",
   "metadata": {},
   "source": [
    "On choisit donc un nombre de clusters de 3, valeur qui maximise le coefficient de silouhette."
   ]
  },
  {
   "cell_type": "markdown",
   "metadata": {},
   "source": [
    "### Interprétation des groupes"
   ]
  },
  {
   "cell_type": "markdown",
   "metadata": {},
   "source": [
    "On réalise un clustering avec 3 clusters et on regarde si les positions des joueurs sont liées à ce clustering."
   ]
  },
  {
   "cell_type": "code",
   "execution_count": 97,
   "metadata": {},
   "outputs": [],
   "source": [
    "NB_CLUSTERS = 3\n",
    "kmeans = KMeans(n_clusters=NB_CLUSTERS).fit(X_seg_norm)"
   ]
  },
  {
   "cell_type": "code",
   "execution_count": 98,
   "metadata": {},
   "outputs": [],
   "source": [
    "classes = kmeans.labels_"
   ]
  },
  {
   "cell_type": "code",
   "execution_count": 99,
   "metadata": {},
   "outputs": [
    {
     "data": {
      "text/html": [
       "<div>\n",
       "<style scoped>\n",
       "    .dataframe tbody tr th:only-of-type {\n",
       "        vertical-align: middle;\n",
       "    }\n",
       "\n",
       "    .dataframe tbody tr th {\n",
       "        vertical-align: top;\n",
       "    }\n",
       "\n",
       "    .dataframe thead th {\n",
       "        text-align: right;\n",
       "    }\n",
       "</style>\n",
       "<table border=\"1\" class=\"dataframe\">\n",
       "  <thead>\n",
       "    <tr style=\"text-align: right;\">\n",
       "      <th></th>\n",
       "      <th>position</th>\n",
       "      <th>class</th>\n",
       "    </tr>\n",
       "  </thead>\n",
       "  <tbody>\n",
       "    <tr>\n",
       "      <th>0</th>\n",
       "      <td>FWD</td>\n",
       "      <td>1</td>\n",
       "    </tr>\n",
       "  </tbody>\n",
       "</table>\n",
       "</div>"
      ],
      "text/plain": [
       "  position  class\n",
       "0      FWD      1"
      ]
     },
     "execution_count": 99,
     "metadata": {},
     "output_type": "execute_result"
    }
   ],
   "source": [
    "no_gk_positions = df[df[\"player_position\"] != \"GK\"][\"player_position\"]\n",
    "frame = {\"position\":no_gk_positions.to_numpy(), \"class\":pd.Series(classes, dtype=\"int\")}\n",
    "df_class_posi = pd.DataFrame(frame)\n",
    "df_class_posi.head(1)"
   ]
  },
  {
   "cell_type": "markdown",
   "metadata": {},
   "source": [
    "On compte le nombre de chaque poste dans chaque groupe."
   ]
  },
  {
   "cell_type": "code",
   "execution_count": 100,
   "metadata": {},
   "outputs": [],
   "source": [
    "counts = []\n",
    "for classnb in range(NB_CLUSTERS):\n",
    "    dic = {}\n",
    "    for line in range(df_class_posi.shape[0]):\n",
    "        if classnb == df_class_posi.iloc[line][\"class\"]:\n",
    "            posi = df_class_posi.iloc[line][\"position\"]\n",
    "            if posi not in dic:\n",
    "                dic[posi] = 1\n",
    "            else:\n",
    "                dic[posi] += 1\n",
    "    counts.append(dic)"
   ]
  },
  {
   "cell_type": "code",
   "execution_count": 101,
   "metadata": {},
   "outputs": [
    {
     "name": "stdout",
     "output_type": "stream",
     "text": [
      "classe 0 : {'FWD': 3283, 'MID': 2345, 'DEF': 16}\n",
      "classe 1 : {'FWD': 386, 'MID': 3629, 'DEF': 2014}\n",
      "classe 2 : {'DEF': 4364, 'MID': 1059, 'FWD': 11}\n"
     ]
    }
   ],
   "source": [
    "for classnb in range(NB_CLUSTERS):\n",
    "    print(f\"classe {classnb} : {counts[classnb]}\")"
   ]
  },
  {
   "cell_type": "markdown",
   "metadata": {},
   "source": [
    "On remarque que chaque cluster comporte au moins 1.5 fois plus de joueurs d'une certaine position que des 2 autres positions.  \n",
    "C'est particulièrement marqué pour la classe 2 qui ne comporte que très peu de défenseurs.  \n",
    "\n",
    "En résumé :  \n",
    "La classe 0 correspond aux joueurs milieux avec des capacités défensives.    \n",
    "La classe 1 correspond aux joueurs très défensifs, avec des propriétés de milieu de terrain.  \n",
    "La classe 2 correspond aux joueurs offensifs et milieux offensifs."
   ]
  },
  {
   "cell_type": "markdown",
   "metadata": {},
   "source": [
    "### Recherche de remplaçant pour MBappé"
   ]
  },
  {
   "cell_type": "code",
   "execution_count": 102,
   "metadata": {},
   "outputs": [],
   "source": [
    "X_transform = kmeans.fit_transform(X_seg_norm)\n",
    "mbappe_point = X_transform[mbappe_index]\n",
    "euclidian_dist = np.sum(np.sqrt((X_transform - mbappe_point)**2), axis=1)\n",
    "nearest_index = np.argsort(euclidian_dist)[1] # indice 0 est Mbappé car il est à distance 0 de lui-même"
   ]
  },
  {
   "cell_type": "code",
   "execution_count": 103,
   "metadata": {},
   "outputs": [],
   "source": [
    "nearest_id = df_seg.iloc[13][\"sofifa_id\"]"
   ]
  },
  {
   "cell_type": "code",
   "execution_count": 104,
   "metadata": {},
   "outputs": [
    {
     "data": {
      "text/plain": [
       "'Mohamed Salah Ghaly'"
      ]
     },
     "execution_count": 104,
     "metadata": {},
     "output_type": "execute_result"
    }
   ],
   "source": [
    "ffu.get_player_name_from_sofifa_id(nearest_id)"
   ]
  },
  {
   "cell_type": "markdown",
   "metadata": {},
   "source": [
    "En prenant le joueur le plus proche de Mbappé dans l'espace transformé par le clustering à 3 groupes, on trouve **Mohamed Salah Ghaly**. On pourrait donc estimer d'après notre étude qu'il s'agit d'un remplaçant judicieux pour Kylian Mbappé."
   ]
  }
 ],
 "metadata": {
  "kernelspec": {
   "display_name": "Python 3 (ipykernel)",
   "language": "python",
   "name": "python3"
  },
  "language_info": {
   "codemirror_mode": {
    "name": "ipython",
    "version": 3
   },
   "file_extension": ".py",
   "mimetype": "text/x-python",
   "name": "python",
   "nbconvert_exporter": "python",
   "pygments_lexer": "ipython3",
   "version": "3.10.6"
  },
  "vscode": {
   "interpreter": {
    "hash": "916dbcbb3f70747c44a77c7bcd40155683ae19c65e1c03b4aa3499c5328201f1"
   }
  }
 },
 "nbformat": 4,
 "nbformat_minor": 4
}
